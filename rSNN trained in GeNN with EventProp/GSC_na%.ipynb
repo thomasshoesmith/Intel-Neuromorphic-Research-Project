{
  "cells": [
    {
      "cell_type": "markdown",
      "metadata": {},
      "source": [
        "# Ignore file for now\n"
      ]
    },
    {
      "cell_type": "code",
      "execution_count": 71,
      "metadata": {
        "colab": {
          "base_uri": "https://localhost:8080/"
        },
        "id": "cIzSgI5Q8Wvq",
        "outputId": "2933cf35-e55b-459a-9cd7-3e30324ad9e1"
      },
      "outputs": [
        {
          "name": "stdout",
          "output_type": "stream",
          "text": [
            "env: CUDA_PATH=/usr/local/cuda\n"
          ]
        }
      ],
      "source": [
        "%env CUDA_PATH=/usr/local/cuda"
      ]
    },
    {
      "cell_type": "code",
      "execution_count": 72,
      "metadata": {
        "id": "agqWFZjickfU"
      },
      "outputs": [],
      "source": [
        "import numpy as np\n",
        "import matplotlib.pyplot as plt\n",
        "import csv\n",
        "import pandas as pd\n",
        "\n",
        "from ml_genn import InputLayer, Layer, SequentialNetwork\n",
        "from ml_genn.callbacks import Checkpoint, SpikeRecorder, VarRecorder, Callback\n",
        "from ml_genn.compilers import EventPropCompiler, InferenceCompiler\n",
        "from ml_genn.connectivity import Dense\n",
        "from ml_genn.initializers import Normal\n",
        "from ml_genn.neurons import LeakyIntegrate, LeakyIntegrateFire, SpikeInput, LeakyIntegrateFireInput\n",
        "from ml_genn.optimisers import Adam\n",
        "from ml_genn.serialisers import Numpy\n",
        "from ml_genn.synapses import Exponential\n",
        "from time import perf_counter\n",
        "\n",
        "from ml_genn.utils.data import (calc_latest_spike_time, linear_latency_encode_data)\n",
        "\n",
        "from ml_genn.compilers.event_prop_compiler import default_params\n",
        "\n",
        "import random\n",
        "import librosa"
      ]
    },
    {
      "cell_type": "code",
      "execution_count": 73,
      "metadata": {
        "id": "x87G22iUzcEU"
      },
      "outputs": [],
      "source": [
        "NUM_INPUT = 40\n",
        "NUM_HIDDEN = 256\n",
        "NUM_OUTPUT = 20\n",
        "\n",
        "NUM_EPOCH = 1\n",
        "\n",
        "BATCH_SIZE = 128\n",
        "\n",
        "INPUT_FRAME = 100\n",
        "\n",
        "INPUT_FRAME_TIMESTEP = 2\n",
        "\n",
        "INPUT_SCALE = 0.0009"
      ]
    },
    {
      "cell_type": "code",
      "execution_count": 74,
      "metadata": {},
      "outputs": [],
      "source": [
        "# Load testing data\n",
        "x_train = np.load(\"/its/home/ts468/data/GSC/experimental_1/training_x_data.npy\")\n",
        "y_train = np.load(\"/its/home/ts468/data/GSC/experimental_1/training_y_data.npy\")\n",
        "\n",
        "x_test = np.load(\"/its/home/ts468/data/GSC/experimental_1/testing_x_data.npy\")\n",
        "y_test = np.load(\"/its/home/ts468/data/GSC/experimental_1/testing_y_data.npy\")\n",
        "\n",
        "training_images = np.swapaxes(x_train, 1, 2) \n",
        "testing_images = np.swapaxes(x_test, 1, 2) \n",
        "\n",
        "training_images = training_images + abs(np.floor(training_images.min()))\n",
        "testing_images = testing_images + abs(np.floor(testing_images.min()))\n",
        "\n",
        "training_labels = y_train\n",
        "testing_labels = y_test"
      ]
    },
    {
      "cell_type": "code",
      "execution_count": 75,
      "metadata": {},
      "outputs": [],
      "source": [
        "class CSVTrainLog(Callback):\n",
        "    def __init__(self, filename, output_pop, resume):\n",
        "        # Create CSV writer\n",
        "        self.file = open(filename, \"a\" if resume else \"w\")\n",
        "        self.csv_writer = csv.writer(self.file, delimiter=\",\")\n",
        "\n",
        "        # Write header row if we're not resuming from an existing training run\n",
        "        if not resume:\n",
        "            self.csv_writer.writerow([\"Epoch\", \"Num trials\", \"Number correct\", \"accuracy\", \"Time\"])\n",
        "\n",
        "        self.output_pop = output_pop\n",
        "\n",
        "    def on_epoch_begin(self, epoch):\n",
        "        self.start_time = perf_counter()\n",
        "\n",
        "    def on_epoch_end(self, epoch, metrics):\n",
        "        m = metrics[self.output_pop]\n",
        "        self.csv_writer.writerow([epoch, m.total, m.correct, m.correct / m.total,\n",
        "                                  perf_counter() - self.start_time])\n",
        "        self.file.flush()"
      ]
    },
    {
      "cell_type": "code",
      "execution_count": 76,
      "metadata": {
        "id": "C68EDXn6cj-O"
      },
      "outputs": [],
      "source": [
        "# Create sequential model\n",
        "serialiser = Numpy(\"latency_mnist_checkpoints\")\n",
        "network = SequentialNetwork(default_params)\n",
        "with network:\n",
        "    # Populations\n",
        "    input = InputLayer(LeakyIntegrateFireInput(v_thresh=2.6,\n",
        "                                               tau_mem=5.0, \n",
        "                                               input_frames=INPUT_FRAME, \n",
        "                                               input_frame_timesteps=INPUT_FRAME_TIMESTEP),\n",
        "                        NUM_INPUT, \n",
        "                        record_spikes = True)\n",
        "    \n",
        "    hidden = Layer(Dense(Normal(mean = 0, sd = 0.1)), #0.1\n",
        "                   LeakyIntegrateFire(v_thresh=1, \n",
        "                                      tau_mem=1.0,\n",
        "                                      tau_refrac=None),\n",
        "                   NUM_HIDDEN, \n",
        "                   Exponential(2.0), #5\n",
        "                   record_spikes=True)\n",
        "    \n",
        "    output = Layer(Dense(Normal(sd = 4)),\n",
        "                   LeakyIntegrate(tau_mem=20.0, \n",
        "                                  readout=\"avg_var\"),\n",
        "                   NUM_OUTPUT, \n",
        "                   Exponential(5.0), #53\n",
        "                   record_spikes=True)"
      ]
    },
    {
      "cell_type": "markdown",
      "metadata": {
        "id": "9PCMgNPCz86O"
      },
      "source": [
        "## Compilation\n"
      ]
    },
    {
      "cell_type": "code",
      "execution_count": 77,
      "metadata": {
        "id": "-7lzXzmQcgbt"
      },
      "outputs": [],
      "source": [
        "compiler = EventPropCompiler(example_timesteps=INPUT_FRAME * INPUT_FRAME_TIMESTEP,\n",
        "                         losses=\"sparse_categorical_crossentropy\",\n",
        "                         optimiser=Adam(1e-3), batch_size=BATCH_SIZE)\n",
        "compiled_net = compiler.compile(network)"
      ]
    },
    {
      "cell_type": "markdown",
      "metadata": {
        "id": "ATwobw4Mw2LG"
      },
      "source": [
        "## Training\n"
      ]
    },
    {
      "cell_type": "code",
      "execution_count": 78,
      "metadata": {
        "colab": {
          "base_uri": "https://localhost:8080/",
          "height": 81,
          "referenced_widgets": [
            "eff9fcfe2853408aa430d6f4b24fdc46",
            "adf289f2cf32430e8de020be3782c17d",
            "f0c9245c898a4d9db5fc4ec7b842f914",
            "ba6e6e5119294c4c99a8e00994a28190",
            "d0fbe9ce70ca4fd4ab03ce7a586cac72",
            "ed28c7570f294aa7836dead78d755c19",
            "f9573302ef1b4b59a453a5b1b1538e9c",
            "5a547b0e0fff4e65a5a2eeb6585a9cad",
            "466bcbd14186424c85f23c66a380dcaf",
            "0f0d991347b04538ade13c3f274a3648",
            "50507531324f4a6d9c9558e0dcfc4afe",
            "249c6a4b57134550bc7cec92518644a3",
            "69f405114e304f1b958bd6151a9fdb88",
            "d3df0433054a45119079da5954b98f93",
            "3c08bd083d0f4d769c7ed676faeed535",
            "e261318106944691b05af94b033f37e1",
            "9b4815de75ae4f6cb5e588fb757f8d05",
            "7da6aea9ef8246b1b358696ba9ab81d6",
            "2019481e805043fcbcec6416f6f10d35",
            "483f8d2b71e24594a2edb24fa032254d",
            "f03bb25ff9a1408d8d4ebccc882b75e1",
            "fb6ce3cef82e472a9cfaef31676f06d3"
          ]
        },
        "id": "EEQyoL-zcu-A",
        "outputId": "8d779dcb-bbdb-45a3-9f7b-47ff33fcc242"
      },
      "outputs": [
        {
          "name": "stdout",
          "output_type": "stream",
          "text": [
            "swig/python detected a memory leak of type 'CodeGenerator::CUDA::Backend *', no destructor found.\n",
            "make: Entering directory '/its/home/ts468/PhD/Projects /Intel/SC with ml_genn/EventPropCompiler_CODE'\n"
          ]
        },
        {
          "name": "stderr",
          "output_type": "stream",
          "text": [
            "synapseUpdate.cc(59): warning #177-D: variable \"shLg\" was declared but never referenced\n",
            "\n",
            "neuronUpdate.cc(190): warning #177-D: variable \"lYTrue\" was declared but never referenced\n",
            "\n",
            "customUpdate.cc(423): warning #177-D: variable \"batchOffset\" was declared but never referenced\n",
            "\n"
          ]
        },
        {
          "name": "stdout",
          "output_type": "stream",
          "text": [
            "make: Leaving directory '/its/home/ts468/PhD/Projects /Intel/SC with ml_genn/EventPropCompiler_CODE'\n"
          ]
        },
        {
          "name": "stderr",
          "output_type": "stream",
          "text": [
            "Epoch 0: 100%|██████████| 667/667 [00:03<00:00, 218.91it/s, SparseCategoricalAccuracy: 0.0171]\n",
            "Epoch 0: 100%|██████████| 75/75 [00:00<00:00, 230.29it/s, SparseCategoricalAccuracy: 0.0000]\n"
          ]
        }
      ],
      "source": [
        "with compiled_net:\n",
        "    # Evaluate model on numpy dataset\n",
        "    start_time = perf_counter()\n",
        "    start_epoch = 0\n",
        "    callbacks = [\"batch_progress_bar\", \n",
        "                 Checkpoint(serialiser), \n",
        "                 CSVTrainLog(\"train_output.csv\", \n",
        "                             output,\n",
        "                             False)]\n",
        "    metrics  = compiled_net.train({input: training_images * INPUT_SCALE},\n",
        "                                      {output: training_labels},\n",
        "                                      num_epochs=NUM_EPOCH, \n",
        "                                      shuffle=True,\n",
        "                                      validation_split=0.1,\n",
        "                                      callbacks=callbacks)"
      ]
    },
    {
      "cell_type": "markdown",
      "metadata": {
        "id": "eQfD_7KP2gYm"
      },
      "source": [
        "## Evaluate\n",
        "Load weights checkpointed from last epoch:"
      ]
    },
    {
      "cell_type": "code",
      "execution_count": null,
      "metadata": {},
      "outputs": [],
      "source": []
    },
    {
      "cell_type": "code",
      "execution_count": 79,
      "metadata": {
        "id": "0k429OZXzqOC"
      },
      "outputs": [],
      "source": [
        "network.load((14,), serialiser) #TODO: ASK WHAT THIS IS "
      ]
    },
    {
      "cell_type": "markdown",
      "metadata": {
        "id": "nSwqjLCu2uAF"
      },
      "source": [
        "Create an ``InferenceCompiler`` and compile network for inference:"
      ]
    },
    {
      "cell_type": "code",
      "execution_count": 80,
      "metadata": {
        "id": "ZITrB5w_0Fx4"
      },
      "outputs": [],
      "source": [
        "compiler = InferenceCompiler(evaluate_timesteps=INPUT_FRAME * INPUT_FRAME_TIMESTEP,\n",
        "                             reset_in_syn_between_batches=True,\n",
        "                             batch_size=BATCH_SIZE)\n",
        "compiled_net = compiler.compile(network)"
      ]
    },
    {
      "cell_type": "code",
      "execution_count": 81,
      "metadata": {
        "colab": {
          "base_uri": "https://localhost:8080/",
          "height": 49,
          "referenced_widgets": [
            "a36eb48003e14cedbf70832b1d6ced62",
            "6f051c7e29644e95928a0b1281a779e0",
            "988184e1db4842fdb7c5c4987ee251f5",
            "44cc1e7f5de445bea9c454334b6ef370",
            "f09472cd28e44904b03c1972738ae791",
            "e19e92c7bb3e4e0386fcd0fae619cff0",
            "0d3d6041a5db438fb48c4856565cedca",
            "b9707913480e478781189ad37e0668d8",
            "a1a96b36e2ae41bd99450143df294217",
            "0b19c96296104432b122484610cca7fb",
            "e0633dff09c24caf864efd64c984a7f1"
          ]
        },
        "id": "6NQDJ1_o0LcY",
        "outputId": "bcbd96b1-dbbc-46e3-f6a4-56614003d4a1"
      },
      "outputs": [
        {
          "name": "stdout",
          "output_type": "stream",
          "text": [
            "swig/python detected a memory leak of type 'CodeGenerator::CUDA::Backend *', no destructor found.\n",
            "make: Entering directory '/its/home/ts468/PhD/Projects /Intel/SC with ml_genn/InferenceCompiler_CODE'\n"
          ]
        },
        {
          "name": "stderr",
          "output_type": "stream",
          "text": [
            "synapseUpdate.cc(49): warning #177-D: variable \"synBatchOffset\" was declared but never referenced\n",
            "\n"
          ]
        },
        {
          "name": "stdout",
          "output_type": "stream",
          "text": [
            "make: Leaving directory '/its/home/ts468/PhD/Projects /Intel/SC with ml_genn/InferenceCompiler_CODE'\n"
          ]
        },
        {
          "name": "stderr",
          "output_type": "stream",
          "text": [
            "100%|██████████| 86/86 [00:03<00:00, 27.61it/s, SparseCategoricalAccuracy: 0.0449]\n"
          ]
        }
      ],
      "source": [
        "with compiled_net:\n",
        "    callbacks = [\"batch_progress_bar\", \n",
        "                 SpikeRecorder(input, key=\"input_spikes\"), \n",
        "                 SpikeRecorder(hidden, key=\"hidden_spikes\"),\n",
        "                 SpikeRecorder(output, key=\"output_spikes\"),\n",
        "                 VarRecorder(output, \"v\", key=\"v_output\")]\n",
        "    metrics, cb_data = compiled_net.evaluate({input: testing_images * INPUT_SCALE},\n",
        "                                             {output: testing_labels},\n",
        "                                             callbacks=callbacks)"
      ]
    },
    {
      "cell_type": "code",
      "execution_count": 90,
      "metadata": {},
      "outputs": [
        {
          "data": {
            "image/png": "[encoded data removed]",
            "text/plain": [
              "<Figure size 640x480 with 5 Axes>"
            ]
          },
          "metadata": {},
          "output_type": "display_data"
        }
      ],
      "source": [
        "fig, ((ax1, ax2), (ax3, ax4)) = plt.subplots(2, 2)\n",
        "fig.suptitle('rawHD with EventProp on ml_genn')\n",
        "\n",
        "value = random.randint(0, len(x_test))\n",
        "\n",
        "ax1.scatter(cb_data[\"hidden_spikes\"][0][value], \n",
        "            cb_data[\"hidden_spikes\"][1][value], s=1)\n",
        "ax1.set_xlabel(\"Time [ms]\")\n",
        "ax1.set_ylabel(\"Neuron ID\")\n",
        "ax1.set_title(\"Hidden\")\n",
        "ax1.set_xlim(0, INPUT_FRAME * INPUT_FRAME_TIMESTEP)\n",
        "ax1.set_ylim(0, 40)\n",
        "\n",
        "ax2.scatter(cb_data[\"input_spikes\"][0][value], \n",
        "            cb_data[\"input_spikes\"][1][value], s=1)\n",
        "ax2.set_xlabel(\"Time [ms]\")\n",
        "ax2.set_ylabel(\"Neuron ID\")\n",
        "ax2.set_title(\"Input\")\n",
        "ax2.set_xlim(0, INPUT_FRAME * INPUT_FRAME_TIMESTEP)\n",
        "ax2.set_ylim(0, 40)\n",
        "\n",
        "ax3.plot(cb_data[\"v_output\"][value])\n",
        "ax3.set_xlabel(\"Time [ms]\")\n",
        "ax3.set_ylabel(\"voltage (v)\")\n",
        "ax3.set_title(\"Output voltage\")\n",
        "ax3.set_xlim(0, INPUT_FRAME * INPUT_FRAME_TIMESTEP)\n",
        "#ax3.set_ylim(0, 40)\n",
        "\n",
        "sr = 22050\n",
        "img = librosa.display.specshow(x_test[value], \n",
        "                         x_axis='time', \n",
        "                         y_axis='mel', \n",
        "                         sr=sr, \n",
        "                         cmap='viridis')\n",
        "fig.colorbar(img, ax = ax4)\n",
        "ax4.set_title(\"mel encoding\")\n",
        "\n",
        "fig.tight_layout()\n",
        "\n",
        "plt.show()"
      ]
    },
    {
      "cell_type": "code",
      "execution_count": 83,
      "metadata": {},
      "outputs": [
        {
          "data": {
            "image/png": "[encoded data removed]",
            "text/plain": [
              "<Figure size 640x480 with 1 Axes>"
            ]
          },
          "metadata": {},
          "output_type": "display_data"
        },
        {
          "data": {
            "image/png": "[encoded data removed]",
            "text/plain": [
              "<Figure size 640x480 with 1 Axes>"
            ]
          },
          "metadata": {},
          "output_type": "display_data"
        },
        {
          "data": {
            "image/png": "[encoded data removed]",
            "text/plain": [
              "<Figure size 640x480 with 1 Axes>"
            ]
          },
          "metadata": {},
          "output_type": "display_data"
        },
        {
          "data": {
            "image/png": "[encoded data removed]",
            "text/plain": [
              "<Figure size 640x480 with 2 Axes>"
            ]
          },
          "metadata": {},
          "output_type": "display_data"
        }
      ],
      "source": [
        "value = random.randint(0, len(x_test))\n",
        "fig, axis = plt.subplots()\n",
        "\n",
        "axis.plot(cb_data[\"v_output\"][value])\n",
        "axis.set_xlabel(\"Time [ms]\")\n",
        "axis.set_ylabel(\"voltage (v)\")\n",
        "axis.set_title(\"Output voltage\")\n",
        "axis.set_xlim(0, INPUT_FRAME * INPUT_FRAME_TIMESTEP)\n",
        "plt.show()\n",
        "\n",
        "fig, axis = plt.subplots()\n",
        "axis.scatter(cb_data[\"hidden_spikes\"][0][value], \n",
        "             cb_data[\"hidden_spikes\"][1][value], s=1)\n",
        "axis.set_xlabel(\"Time [ms]\")\n",
        "axis.set_ylabel(\"Neuron ID\")\n",
        "axis.set_title(\"rawHD mel spectrogram from ml_genn time varying input HIDDEN\")\n",
        "axis.set_xlim(0, INPUT_FRAME * INPUT_FRAME_TIMESTEP)\n",
        "axis.set_ylim(0, 40)\n",
        "plt.show()\n",
        "\n",
        "fig, axis = plt.subplots()\n",
        "axis.scatter(cb_data[\"input_spikes\"][0][value], \n",
        "             cb_data[\"input_spikes\"][1][value], s=1)\n",
        "axis.set_xlabel(\"Time [ms]\")\n",
        "axis.set_ylabel(\"Neuron ID\")\n",
        "axis.set_title(\"rawHD mel spectrogram from ml_genn time varying input\")\n",
        "axis.set_xlim(0, INPUT_FRAME * INPUT_FRAME_TIMESTEP)\n",
        "axis.set_ylim(0, 40)\n",
        "plt.show()\n",
        "\n",
        "x_train = np.load(\"/its/home/ts468/data/rawHD/experimental_1/rawHD_x_train.npy\")\n",
        "sr = 22050\n",
        "librosa.display.specshow(x_test[value], \n",
        "                         x_axis='time', \n",
        "                         y_axis='mel', \n",
        "                         sr=sr, \n",
        "                         cmap='viridis')\n",
        "plt.colorbar(format='%+2.0f dB')\n",
        "plt.title(\"mel spectrogram of HD\")\n",
        "plt.show()"
      ]
    },
    {
      "cell_type": "code",
      "execution_count": 84,
      "metadata": {},
      "outputs": [
        {
          "data": {
            "image/png": "[encoded data removed]",
            "text/plain": [
              "<Figure size 640x480 with 1 Axes>"
            ]
          },
          "metadata": {},
          "output_type": "display_data"
        }
      ],
      "source": [
        "data = pd.read_csv(\"/its/home/ts468/PhD/Projects /Intel/SC with ml_genn/train_output.csv\")\n",
        "df = pd.DataFrame(data, columns=['accuracy'])\n",
        "\n",
        "accuracy = np.array(df)\n",
        "\n",
        "accuracy = accuracy * 100\n",
        "\n",
        "validation = []\n",
        "training = []\n",
        "\n",
        "for i in range(len(accuracy)):\n",
        "    if i % 2 == 0:\n",
        "        training.append(float(accuracy[i]))\n",
        "    else:\n",
        "        validation.append(float(accuracy[i]))\n",
        "        \n",
        "        \n",
        "plt.plot(training, label = \"training\")\n",
        "plt.plot(validation, label = \"validation\")\n",
        "plt.ylabel(\"accuracy (%)\")\n",
        "plt.xlabel(\"epochs\")\n",
        "plt.title(\"accuracy during training\")\n",
        "plt.legend()\n",
        "plt.show()"
      ]
    }
  ],
  "metadata": {
    "accelerator": "GPU",
    "colab": {
      "name": "tutorial_1",
      "provenance": []
    },
    "kernelspec": {
      "display_name": "Python 3",
      "language": "python",
      "name": "python3"
    },
    "language_info": {
      "codemirror_mode": {
        "name": "ipython",
        "version": 3
      },
      "file_extension": ".py",
      "mimetype": "text/x-python",
      "name": "python",
      "nbconvert_exporter": "python",
      "pygments_lexer": "ipython3",
      "version": "3.8.10"
    },
    "widgets": {
      "application/vnd.jupyter.widget-state+json": {
        "0b19c96296104432b122484610cca7fb": {
          "model_module": "@jupyter-widgets/base",
          "model_module_version": "1.2.0",
          "model_name": "LayoutModel",
          "state": {
            "_model_module": "@jupyter-widgets/base",
            "_model_module_version": "1.2.0",
            "_model_name": "LayoutModel",
            "_view_count": null,
            "_view_module": "@jupyter-widgets/base",
            "_view_module_version": "1.2.0",
            "_view_name": "LayoutView",
            "align_content": null,
            "align_items": null,
            "align_self": null,
            "border": null,
            "bottom": null,
            "display": null,
            "flex": null,
            "flex_flow": null,
            "grid_area": null,
            "grid_auto_columns": null,
            "grid_auto_flow": null,
            "grid_auto_rows": null,
            "grid_column": null,
            "grid_gap": null,
            "grid_row": null,
            "grid_template_areas": null,
            "grid_template_columns": null,
            "grid_template_rows": null,
            "height": null,
            "justify_content": null,
            "justify_items": null,
            "left": null,
            "margin": null,
            "max_height": null,
            "max_width": null,
            "min_height": null,
            "min_width": null,
            "object_fit": null,
            "object_position": null,
            "order": null,
            "overflow": null,
            "overflow_x": null,
            "overflow_y": null,
            "padding": null,
            "right": null,
            "top": null,
            "visibility": null,
            "width": null
          }
        },
        "0d3d6041a5db438fb48c4856565cedca": {
          "model_module": "@jupyter-widgets/controls",
          "model_module_version": "1.5.0",
          "model_name": "DescriptionStyleModel",
          "state": {
            "_model_module": "@jupyter-widgets/controls",
            "_model_module_version": "1.5.0",
            "_model_name": "DescriptionStyleModel",
            "_view_count": null,
            "_view_module": "@jupyter-widgets/base",
            "_view_module_version": "1.2.0",
            "_view_name": "StyleView",
            "description_width": ""
          }
        },
        "0f0d991347b04538ade13c3f274a3648": {
          "model_module": "@jupyter-widgets/base",
          "model_module_version": "1.2.0",
          "model_name": "LayoutModel",
          "state": {
            "_model_module": "@jupyter-widgets/base",
            "_model_module_version": "1.2.0",
            "_model_name": "LayoutModel",
            "_view_count": null,
            "_view_module": "@jupyter-widgets/base",
            "_view_module_version": "1.2.0",
            "_view_name": "LayoutView",
            "align_content": null,
            "align_items": null,
            "align_self": null,
            "border": null,
            "bottom": null,
            "display": null,
            "flex": null,
            "flex_flow": null,
            "grid_area": null,
            "grid_auto_columns": null,
            "grid_auto_flow": null,
            "grid_auto_rows": null,
            "grid_column": null,
            "grid_gap": null,
            "grid_row": null,
            "grid_template_areas": null,
            "grid_template_columns": null,
            "grid_template_rows": null,
            "height": null,
            "justify_content": null,
            "justify_items": null,
            "left": null,
            "margin": null,
            "max_height": null,
            "max_width": null,
            "min_height": null,
            "min_width": null,
            "object_fit": null,
            "object_position": null,
            "order": null,
            "overflow": null,
            "overflow_x": null,
            "overflow_y": null,
            "padding": null,
            "right": null,
            "top": null,
            "visibility": null,
            "width": null
          }
        },
        "2019481e805043fcbcec6416f6f10d35": {
          "model_module": "@jupyter-widgets/base",
          "model_module_version": "1.2.0",
          "model_name": "LayoutModel",
          "state": {
            "_model_module": "@jupyter-widgets/base",
            "_model_module_version": "1.2.0",
            "_model_name": "LayoutModel",
            "_view_count": null,
            "_view_module": "@jupyter-widgets/base",
            "_view_module_version": "1.2.0",
            "_view_name": "LayoutView",
            "align_content": null,
            "align_items": null,
            "align_self": null,
            "border": null,
            "bottom": null,
            "display": null,
            "flex": null,
            "flex_flow": null,
            "grid_area": null,
            "grid_auto_columns": null,
            "grid_auto_flow": null,
            "grid_auto_rows": null,
            "grid_column": null,
            "grid_gap": null,
            "grid_row": null,
            "grid_template_areas": null,
            "grid_template_columns": null,
            "grid_template_rows": null,
            "height": null,
            "justify_content": null,
            "justify_items": null,
            "left": null,
            "margin": null,
            "max_height": null,
            "max_width": null,
            "min_height": null,
            "min_width": null,
            "object_fit": null,
            "object_position": null,
            "order": null,
            "overflow": null,
            "overflow_x": null,
            "overflow_y": null,
            "padding": null,
            "right": null,
            "top": null,
            "visibility": null,
            "width": null
          }
        },
        "249c6a4b57134550bc7cec92518644a3": {
          "model_module": "@jupyter-widgets/controls",
          "model_module_version": "1.5.0",
          "model_name": "HBoxModel",
          "state": {
            "_dom_classes": [],
            "_model_module": "@jupyter-widgets/controls",
            "_model_module_version": "1.5.0",
            "_model_name": "HBoxModel",
            "_view_count": null,
            "_view_module": "@jupyter-widgets/controls",
            "_view_module_version": "1.5.0",
            "_view_name": "HBoxView",
            "box_style": "",
            "children": [
              "IPY_MODEL_69f405114e304f1b958bd6151a9fdb88",
              "IPY_MODEL_d3df0433054a45119079da5954b98f93",
              "IPY_MODEL_3c08bd083d0f4d769c7ed676faeed535"
            ],
            "layout": "IPY_MODEL_e261318106944691b05af94b033f37e1"
          }
        },
        "3c08bd083d0f4d769c7ed676faeed535": {
          "model_module": "@jupyter-widgets/controls",
          "model_module_version": "1.5.0",
          "model_name": "HTMLModel",
          "state": {
            "_dom_classes": [],
            "_model_module": "@jupyter-widgets/controls",
            "_model_module_version": "1.5.0",
            "_model_name": "HTMLModel",
            "_view_count": null,
            "_view_module": "@jupyter-widgets/controls",
            "_view_module_version": "1.5.0",
            "_view_name": "HTMLView",
            "description": "",
            "description_tooltip": null,
            "layout": "IPY_MODEL_f03bb25ff9a1408d8d4ebccc882b75e1",
            "placeholder": "​",
            "style": "IPY_MODEL_fb6ce3cef82e472a9cfaef31676f06d3",
            "value": " 47/47 [00:00&lt;00:00, 184.47it/s, SparseCategoricalAccuracy: 0.9652]"
          }
        },
        "44cc1e7f5de445bea9c454334b6ef370": {
          "model_module": "@jupyter-widgets/controls",
          "model_module_version": "1.5.0",
          "model_name": "HTMLModel",
          "state": {
            "_dom_classes": [],
            "_model_module": "@jupyter-widgets/controls",
            "_model_module_version": "1.5.0",
            "_model_name": "HTMLModel",
            "_view_count": null,
            "_view_module": "@jupyter-widgets/controls",
            "_view_module_version": "1.5.0",
            "_view_name": "HTMLView",
            "description": "",
            "description_tooltip": null,
            "layout": "IPY_MODEL_0b19c96296104432b122484610cca7fb",
            "placeholder": "​",
            "style": "IPY_MODEL_e0633dff09c24caf864efd64c984a7f1",
            "value": " 79/79 [00:00&lt;00:00, 202.45it/s, SparseCategoricalAccuracy: 0.9652]"
          }
        },
        "466bcbd14186424c85f23c66a380dcaf": {
          "model_module": "@jupyter-widgets/controls",
          "model_module_version": "1.5.0",
          "model_name": "ProgressStyleModel",
          "state": {
            "_model_module": "@jupyter-widgets/controls",
            "_model_module_version": "1.5.0",
            "_model_name": "ProgressStyleModel",
            "_view_count": null,
            "_view_module": "@jupyter-widgets/base",
            "_view_module_version": "1.2.0",
            "_view_name": "StyleView",
            "bar_color": null,
            "description_width": ""
          }
        },
        "483f8d2b71e24594a2edb24fa032254d": {
          "model_module": "@jupyter-widgets/controls",
          "model_module_version": "1.5.0",
          "model_name": "ProgressStyleModel",
          "state": {
            "_model_module": "@jupyter-widgets/controls",
            "_model_module_version": "1.5.0",
            "_model_name": "ProgressStyleModel",
            "_view_count": null,
            "_view_module": "@jupyter-widgets/base",
            "_view_module_version": "1.2.0",
            "_view_name": "StyleView",
            "bar_color": null,
            "description_width": ""
          }
        },
        "50507531324f4a6d9c9558e0dcfc4afe": {
          "model_module": "@jupyter-widgets/controls",
          "model_module_version": "1.5.0",
          "model_name": "DescriptionStyleModel",
          "state": {
            "_model_module": "@jupyter-widgets/controls",
            "_model_module_version": "1.5.0",
            "_model_name": "DescriptionStyleModel",
            "_view_count": null,
            "_view_module": "@jupyter-widgets/base",
            "_view_module_version": "1.2.0",
            "_view_name": "StyleView",
            "description_width": ""
          }
        },
        "5a547b0e0fff4e65a5a2eeb6585a9cad": {
          "model_module": "@jupyter-widgets/base",
          "model_module_version": "1.2.0",
          "model_name": "LayoutModel",
          "state": {
            "_model_module": "@jupyter-widgets/base",
            "_model_module_version": "1.2.0",
            "_model_name": "LayoutModel",
            "_view_count": null,
            "_view_module": "@jupyter-widgets/base",
            "_view_module_version": "1.2.0",
            "_view_name": "LayoutView",
            "align_content": null,
            "align_items": null,
            "align_self": null,
            "border": null,
            "bottom": null,
            "display": null,
            "flex": null,
            "flex_flow": null,
            "grid_area": null,
            "grid_auto_columns": null,
            "grid_auto_flow": null,
            "grid_auto_rows": null,
            "grid_column": null,
            "grid_gap": null,
            "grid_row": null,
            "grid_template_areas": null,
            "grid_template_columns": null,
            "grid_template_rows": null,
            "height": null,
            "justify_content": null,
            "justify_items": null,
            "left": null,
            "margin": null,
            "max_height": null,
            "max_width": null,
            "min_height": null,
            "min_width": null,
            "object_fit": null,
            "object_position": null,
            "order": null,
            "overflow": null,
            "overflow_x": null,
            "overflow_y": null,
            "padding": null,
            "right": null,
            "top": null,
            "visibility": null,
            "width": null
          }
        },
        "69f405114e304f1b958bd6151a9fdb88": {
          "model_module": "@jupyter-widgets/controls",
          "model_module_version": "1.5.0",
          "model_name": "HTMLModel",
          "state": {
            "_dom_classes": [],
            "_model_module": "@jupyter-widgets/controls",
            "_model_module_version": "1.5.0",
            "_model_name": "HTMLModel",
            "_view_count": null,
            "_view_module": "@jupyter-widgets/controls",
            "_view_module_version": "1.5.0",
            "_view_name": "HTMLView",
            "description": "",
            "description_tooltip": null,
            "layout": "IPY_MODEL_9b4815de75ae4f6cb5e588fb757f8d05",
            "placeholder": "​",
            "style": "IPY_MODEL_7da6aea9ef8246b1b358696ba9ab81d6",
            "value": "Epoch 14: 100%"
          }
        },
        "6f051c7e29644e95928a0b1281a779e0": {
          "model_module": "@jupyter-widgets/controls",
          "model_module_version": "1.5.0",
          "model_name": "HTMLModel",
          "state": {
            "_dom_classes": [],
            "_model_module": "@jupyter-widgets/controls",
            "_model_module_version": "1.5.0",
            "_model_name": "HTMLModel",
            "_view_count": null,
            "_view_module": "@jupyter-widgets/controls",
            "_view_module_version": "1.5.0",
            "_view_name": "HTMLView",
            "description": "",
            "description_tooltip": null,
            "layout": "IPY_MODEL_e19e92c7bb3e4e0386fcd0fae619cff0",
            "placeholder": "​",
            "style": "IPY_MODEL_0d3d6041a5db438fb48c4856565cedca",
            "value": "100%"
          }
        },
        "7da6aea9ef8246b1b358696ba9ab81d6": {
          "model_module": "@jupyter-widgets/controls",
          "model_module_version": "1.5.0",
          "model_name": "DescriptionStyleModel",
          "state": {
            "_model_module": "@jupyter-widgets/controls",
            "_model_module_version": "1.5.0",
            "_model_name": "DescriptionStyleModel",
            "_view_count": null,
            "_view_module": "@jupyter-widgets/base",
            "_view_module_version": "1.2.0",
            "_view_name": "StyleView",
            "description_width": ""
          }
        },
        "988184e1db4842fdb7c5c4987ee251f5": {
          "model_module": "@jupyter-widgets/controls",
          "model_module_version": "1.5.0",
          "model_name": "FloatProgressModel",
          "state": {
            "_dom_classes": [],
            "_model_module": "@jupyter-widgets/controls",
            "_model_module_version": "1.5.0",
            "_model_name": "FloatProgressModel",
            "_view_count": null,
            "_view_module": "@jupyter-widgets/controls",
            "_view_module_version": "1.5.0",
            "_view_name": "ProgressView",
            "bar_style": "success",
            "description": "",
            "description_tooltip": null,
            "layout": "IPY_MODEL_b9707913480e478781189ad37e0668d8",
            "max": 79,
            "min": 0,
            "orientation": "horizontal",
            "style": "IPY_MODEL_a1a96b36e2ae41bd99450143df294217",
            "value": 79
          }
        },
        "9b4815de75ae4f6cb5e588fb757f8d05": {
          "model_module": "@jupyter-widgets/base",
          "model_module_version": "1.2.0",
          "model_name": "LayoutModel",
          "state": {
            "_model_module": "@jupyter-widgets/base",
            "_model_module_version": "1.2.0",
            "_model_name": "LayoutModel",
            "_view_count": null,
            "_view_module": "@jupyter-widgets/base",
            "_view_module_version": "1.2.0",
            "_view_name": "LayoutView",
            "align_content": null,
            "align_items": null,
            "align_self": null,
            "border": null,
            "bottom": null,
            "display": null,
            "flex": null,
            "flex_flow": null,
            "grid_area": null,
            "grid_auto_columns": null,
            "grid_auto_flow": null,
            "grid_auto_rows": null,
            "grid_column": null,
            "grid_gap": null,
            "grid_row": null,
            "grid_template_areas": null,
            "grid_template_columns": null,
            "grid_template_rows": null,
            "height": null,
            "justify_content": null,
            "justify_items": null,
            "left": null,
            "margin": null,
            "max_height": null,
            "max_width": null,
            "min_height": null,
            "min_width": null,
            "object_fit": null,
            "object_position": null,
            "order": null,
            "overflow": null,
            "overflow_x": null,
            "overflow_y": null,
            "padding": null,
            "right": null,
            "top": null,
            "visibility": null,
            "width": null
          }
        },
        "a1a96b36e2ae41bd99450143df294217": {
          "model_module": "@jupyter-widgets/controls",
          "model_module_version": "1.5.0",
          "model_name": "ProgressStyleModel",
          "state": {
            "_model_module": "@jupyter-widgets/controls",
            "_model_module_version": "1.5.0",
            "_model_name": "ProgressStyleModel",
            "_view_count": null,
            "_view_module": "@jupyter-widgets/base",
            "_view_module_version": "1.2.0",
            "_view_name": "StyleView",
            "bar_color": null,
            "description_width": ""
          }
        },
        "a36eb48003e14cedbf70832b1d6ced62": {
          "model_module": "@jupyter-widgets/controls",
          "model_module_version": "1.5.0",
          "model_name": "HBoxModel",
          "state": {
            "_dom_classes": [],
            "_model_module": "@jupyter-widgets/controls",
            "_model_module_version": "1.5.0",
            "_model_name": "HBoxModel",
            "_view_count": null,
            "_view_module": "@jupyter-widgets/controls",
            "_view_module_version": "1.5.0",
            "_view_name": "HBoxView",
            "box_style": "",
            "children": [
              "IPY_MODEL_6f051c7e29644e95928a0b1281a779e0",
              "IPY_MODEL_988184e1db4842fdb7c5c4987ee251f5",
              "IPY_MODEL_44cc1e7f5de445bea9c454334b6ef370"
            ],
            "layout": "IPY_MODEL_f09472cd28e44904b03c1972738ae791"
          }
        },
        "adf289f2cf32430e8de020be3782c17d": {
          "model_module": "@jupyter-widgets/controls",
          "model_module_version": "1.5.0",
          "model_name": "HTMLModel",
          "state": {
            "_dom_classes": [],
            "_model_module": "@jupyter-widgets/controls",
            "_model_module_version": "1.5.0",
            "_model_name": "HTMLModel",
            "_view_count": null,
            "_view_module": "@jupyter-widgets/controls",
            "_view_module_version": "1.5.0",
            "_view_name": "HTMLView",
            "description": "",
            "description_tooltip": null,
            "layout": "IPY_MODEL_ed28c7570f294aa7836dead78d755c19",
            "placeholder": "​",
            "style": "IPY_MODEL_f9573302ef1b4b59a453a5b1b1538e9c",
            "value": "Epoch 14: 100%"
          }
        },
        "b9707913480e478781189ad37e0668d8": {
          "model_module": "@jupyter-widgets/base",
          "model_module_version": "1.2.0",
          "model_name": "LayoutModel",
          "state": {
            "_model_module": "@jupyter-widgets/base",
            "_model_module_version": "1.2.0",
            "_model_name": "LayoutModel",
            "_view_count": null,
            "_view_module": "@jupyter-widgets/base",
            "_view_module_version": "1.2.0",
            "_view_name": "LayoutView",
            "align_content": null,
            "align_items": null,
            "align_self": null,
            "border": null,
            "bottom": null,
            "display": null,
            "flex": null,
            "flex_flow": null,
            "grid_area": null,
            "grid_auto_columns": null,
            "grid_auto_flow": null,
            "grid_auto_rows": null,
            "grid_column": null,
            "grid_gap": null,
            "grid_row": null,
            "grid_template_areas": null,
            "grid_template_columns": null,
            "grid_template_rows": null,
            "height": null,
            "justify_content": null,
            "justify_items": null,
            "left": null,
            "margin": null,
            "max_height": null,
            "max_width": null,
            "min_height": null,
            "min_width": null,
            "object_fit": null,
            "object_position": null,
            "order": null,
            "overflow": null,
            "overflow_x": null,
            "overflow_y": null,
            "padding": null,
            "right": null,
            "top": null,
            "visibility": null,
            "width": null
          }
        },
        "ba6e6e5119294c4c99a8e00994a28190": {
          "model_module": "@jupyter-widgets/controls",
          "model_module_version": "1.5.0",
          "model_name": "HTMLModel",
          "state": {
            "_dom_classes": [],
            "_model_module": "@jupyter-widgets/controls",
            "_model_module_version": "1.5.0",
            "_model_name": "HTMLModel",
            "_view_count": null,
            "_view_module": "@jupyter-widgets/controls",
            "_view_module_version": "1.5.0",
            "_view_name": "HTMLView",
            "description": "",
            "description_tooltip": null,
            "layout": "IPY_MODEL_0f0d991347b04538ade13c3f274a3648",
            "placeholder": "​",
            "style": "IPY_MODEL_50507531324f4a6d9c9558e0dcfc4afe",
            "value": " 422/422 [00:02&lt;00:00, 163.10it/s, SparseCategoricalAccuracy: 0.9628]"
          }
        },
        "d0fbe9ce70ca4fd4ab03ce7a586cac72": {
          "model_module": "@jupyter-widgets/base",
          "model_module_version": "1.2.0",
          "model_name": "LayoutModel",
          "state": {
            "_model_module": "@jupyter-widgets/base",
            "_model_module_version": "1.2.0",
            "_model_name": "LayoutModel",
            "_view_count": null,
            "_view_module": "@jupyter-widgets/base",
            "_view_module_version": "1.2.0",
            "_view_name": "LayoutView",
            "align_content": null,
            "align_items": null,
            "align_self": null,
            "border": null,
            "bottom": null,
            "display": null,
            "flex": null,
            "flex_flow": null,
            "grid_area": null,
            "grid_auto_columns": null,
            "grid_auto_flow": null,
            "grid_auto_rows": null,
            "grid_column": null,
            "grid_gap": null,
            "grid_row": null,
            "grid_template_areas": null,
            "grid_template_columns": null,
            "grid_template_rows": null,
            "height": null,
            "justify_content": null,
            "justify_items": null,
            "left": null,
            "margin": null,
            "max_height": null,
            "max_width": null,
            "min_height": null,
            "min_width": null,
            "object_fit": null,
            "object_position": null,
            "order": null,
            "overflow": null,
            "overflow_x": null,
            "overflow_y": null,
            "padding": null,
            "right": null,
            "top": null,
            "visibility": null,
            "width": null
          }
        },
        "d3df0433054a45119079da5954b98f93": {
          "model_module": "@jupyter-widgets/controls",
          "model_module_version": "1.5.0",
          "model_name": "FloatProgressModel",
          "state": {
            "_dom_classes": [],
            "_model_module": "@jupyter-widgets/controls",
            "_model_module_version": "1.5.0",
            "_model_name": "FloatProgressModel",
            "_view_count": null,
            "_view_module": "@jupyter-widgets/controls",
            "_view_module_version": "1.5.0",
            "_view_name": "ProgressView",
            "bar_style": "success",
            "description": "",
            "description_tooltip": null,
            "layout": "IPY_MODEL_2019481e805043fcbcec6416f6f10d35",
            "max": 47,
            "min": 0,
            "orientation": "horizontal",
            "style": "IPY_MODEL_483f8d2b71e24594a2edb24fa032254d",
            "value": 47
          }
        },
        "e0633dff09c24caf864efd64c984a7f1": {
          "model_module": "@jupyter-widgets/controls",
          "model_module_version": "1.5.0",
          "model_name": "DescriptionStyleModel",
          "state": {
            "_model_module": "@jupyter-widgets/controls",
            "_model_module_version": "1.5.0",
            "_model_name": "DescriptionStyleModel",
            "_view_count": null,
            "_view_module": "@jupyter-widgets/base",
            "_view_module_version": "1.2.0",
            "_view_name": "StyleView",
            "description_width": ""
          }
        },
        "e19e92c7bb3e4e0386fcd0fae619cff0": {
          "model_module": "@jupyter-widgets/base",
          "model_module_version": "1.2.0",
          "model_name": "LayoutModel",
          "state": {
            "_model_module": "@jupyter-widgets/base",
            "_model_module_version": "1.2.0",
            "_model_name": "LayoutModel",
            "_view_count": null,
            "_view_module": "@jupyter-widgets/base",
            "_view_module_version": "1.2.0",
            "_view_name": "LayoutView",
            "align_content": null,
            "align_items": null,
            "align_self": null,
            "border": null,
            "bottom": null,
            "display": null,
            "flex": null,
            "flex_flow": null,
            "grid_area": null,
            "grid_auto_columns": null,
            "grid_auto_flow": null,
            "grid_auto_rows": null,
            "grid_column": null,
            "grid_gap": null,
            "grid_row": null,
            "grid_template_areas": null,
            "grid_template_columns": null,
            "grid_template_rows": null,
            "height": null,
            "justify_content": null,
            "justify_items": null,
            "left": null,
            "margin": null,
            "max_height": null,
            "max_width": null,
            "min_height": null,
            "min_width": null,
            "object_fit": null,
            "object_position": null,
            "order": null,
            "overflow": null,
            "overflow_x": null,
            "overflow_y": null,
            "padding": null,
            "right": null,
            "top": null,
            "visibility": null,
            "width": null
          }
        },
        "e261318106944691b05af94b033f37e1": {
          "model_module": "@jupyter-widgets/base",
          "model_module_version": "1.2.0",
          "model_name": "LayoutModel",
          "state": {
            "_model_module": "@jupyter-widgets/base",
            "_model_module_version": "1.2.0",
            "_model_name": "LayoutModel",
            "_view_count": null,
            "_view_module": "@jupyter-widgets/base",
            "_view_module_version": "1.2.0",
            "_view_name": "LayoutView",
            "align_content": null,
            "align_items": null,
            "align_self": null,
            "border": null,
            "bottom": null,
            "display": null,
            "flex": null,
            "flex_flow": null,
            "grid_area": null,
            "grid_auto_columns": null,
            "grid_auto_flow": null,
            "grid_auto_rows": null,
            "grid_column": null,
            "grid_gap": null,
            "grid_row": null,
            "grid_template_areas": null,
            "grid_template_columns": null,
            "grid_template_rows": null,
            "height": null,
            "justify_content": null,
            "justify_items": null,
            "left": null,
            "margin": null,
            "max_height": null,
            "max_width": null,
            "min_height": null,
            "min_width": null,
            "object_fit": null,
            "object_position": null,
            "order": null,
            "overflow": null,
            "overflow_x": null,
            "overflow_y": null,
            "padding": null,
            "right": null,
            "top": null,
            "visibility": null,
            "width": null
          }
        },
        "ed28c7570f294aa7836dead78d755c19": {
          "model_module": "@jupyter-widgets/base",
          "model_module_version": "1.2.0",
          "model_name": "LayoutModel",
          "state": {
            "_model_module": "@jupyter-widgets/base",
            "_model_module_version": "1.2.0",
            "_model_name": "LayoutModel",
            "_view_count": null,
            "_view_module": "@jupyter-widgets/base",
            "_view_module_version": "1.2.0",
            "_view_name": "LayoutView",
            "align_content": null,
            "align_items": null,
            "align_self": null,
            "border": null,
            "bottom": null,
            "display": null,
            "flex": null,
            "flex_flow": null,
            "grid_area": null,
            "grid_auto_columns": null,
            "grid_auto_flow": null,
            "grid_auto_rows": null,
            "grid_column": null,
            "grid_gap": null,
            "grid_row": null,
            "grid_template_areas": null,
            "grid_template_columns": null,
            "grid_template_rows": null,
            "height": null,
            "justify_content": null,
            "justify_items": null,
            "left": null,
            "margin": null,
            "max_height": null,
            "max_width": null,
            "min_height": null,
            "min_width": null,
            "object_fit": null,
            "object_position": null,
            "order": null,
            "overflow": null,
            "overflow_x": null,
            "overflow_y": null,
            "padding": null,
            "right": null,
            "top": null,
            "visibility": null,
            "width": null
          }
        },
        "eff9fcfe2853408aa430d6f4b24fdc46": {
          "model_module": "@jupyter-widgets/controls",
          "model_module_version": "1.5.0",
          "model_name": "HBoxModel",
          "state": {
            "_dom_classes": [],
            "_model_module": "@jupyter-widgets/controls",
            "_model_module_version": "1.5.0",
            "_model_name": "HBoxModel",
            "_view_count": null,
            "_view_module": "@jupyter-widgets/controls",
            "_view_module_version": "1.5.0",
            "_view_name": "HBoxView",
            "box_style": "",
            "children": [
              "IPY_MODEL_adf289f2cf32430e8de020be3782c17d",
              "IPY_MODEL_f0c9245c898a4d9db5fc4ec7b842f914",
              "IPY_MODEL_ba6e6e5119294c4c99a8e00994a28190"
            ],
            "layout": "IPY_MODEL_d0fbe9ce70ca4fd4ab03ce7a586cac72"
          }
        },
        "f03bb25ff9a1408d8d4ebccc882b75e1": {
          "model_module": "@jupyter-widgets/base",
          "model_module_version": "1.2.0",
          "model_name": "LayoutModel",
          "state": {
            "_model_module": "@jupyter-widgets/base",
            "_model_module_version": "1.2.0",
            "_model_name": "LayoutModel",
            "_view_count": null,
            "_view_module": "@jupyter-widgets/base",
            "_view_module_version": "1.2.0",
            "_view_name": "LayoutView",
            "align_content": null,
            "align_items": null,
            "align_self": null,
            "border": null,
            "bottom": null,
            "display": null,
            "flex": null,
            "flex_flow": null,
            "grid_area": null,
            "grid_auto_columns": null,
            "grid_auto_flow": null,
            "grid_auto_rows": null,
            "grid_column": null,
            "grid_gap": null,
            "grid_row": null,
            "grid_template_areas": null,
            "grid_template_columns": null,
            "grid_template_rows": null,
            "height": null,
            "justify_content": null,
            "justify_items": null,
            "left": null,
            "margin": null,
            "max_height": null,
            "max_width": null,
            "min_height": null,
            "min_width": null,
            "object_fit": null,
            "object_position": null,
            "order": null,
            "overflow": null,
            "overflow_x": null,
            "overflow_y": null,
            "padding": null,
            "right": null,
            "top": null,
            "visibility": null,
            "width": null
          }
        },
        "f09472cd28e44904b03c1972738ae791": {
          "model_module": "@jupyter-widgets/base",
          "model_module_version": "1.2.0",
          "model_name": "LayoutModel",
          "state": {
            "_model_module": "@jupyter-widgets/base",
            "_model_module_version": "1.2.0",
            "_model_name": "LayoutModel",
            "_view_count": null,
            "_view_module": "@jupyter-widgets/base",
            "_view_module_version": "1.2.0",
            "_view_name": "LayoutView",
            "align_content": null,
            "align_items": null,
            "align_self": null,
            "border": null,
            "bottom": null,
            "display": null,
            "flex": null,
            "flex_flow": null,
            "grid_area": null,
            "grid_auto_columns": null,
            "grid_auto_flow": null,
            "grid_auto_rows": null,
            "grid_column": null,
            "grid_gap": null,
            "grid_row": null,
            "grid_template_areas": null,
            "grid_template_columns": null,
            "grid_template_rows": null,
            "height": null,
            "justify_content": null,
            "justify_items": null,
            "left": null,
            "margin": null,
            "max_height": null,
            "max_width": null,
            "min_height": null,
            "min_width": null,
            "object_fit": null,
            "object_position": null,
            "order": null,
            "overflow": null,
            "overflow_x": null,
            "overflow_y": null,
            "padding": null,
            "right": null,
            "top": null,
            "visibility": null,
            "width": null
          }
        },
        "f0c9245c898a4d9db5fc4ec7b842f914": {
          "model_module": "@jupyter-widgets/controls",
          "model_module_version": "1.5.0",
          "model_name": "FloatProgressModel",
          "state": {
            "_dom_classes": [],
            "_model_module": "@jupyter-widgets/controls",
            "_model_module_version": "1.5.0",
            "_model_name": "FloatProgressModel",
            "_view_count": null,
            "_view_module": "@jupyter-widgets/controls",
            "_view_module_version": "1.5.0",
            "_view_name": "ProgressView",
            "bar_style": "success",
            "description": "",
            "description_tooltip": null,
            "layout": "IPY_MODEL_5a547b0e0fff4e65a5a2eeb6585a9cad",
            "max": 422,
            "min": 0,
            "orientation": "horizontal",
            "style": "IPY_MODEL_466bcbd14186424c85f23c66a380dcaf",
            "value": 422
          }
        },
        "f9573302ef1b4b59a453a5b1b1538e9c": {
          "model_module": "@jupyter-widgets/controls",
          "model_module_version": "1.5.0",
          "model_name": "DescriptionStyleModel",
          "state": {
            "_model_module": "@jupyter-widgets/controls",
            "_model_module_version": "1.5.0",
            "_model_name": "DescriptionStyleModel",
            "_view_count": null,
            "_view_module": "@jupyter-widgets/base",
            "_view_module_version": "1.2.0",
            "_view_name": "StyleView",
            "description_width": ""
          }
        },
        "fb6ce3cef82e472a9cfaef31676f06d3": {
          "model_module": "@jupyter-widgets/controls",
          "model_module_version": "1.5.0",
          "model_name": "DescriptionStyleModel",
          "state": {
            "_model_module": "@jupyter-widgets/controls",
            "_model_module_version": "1.5.0",
            "_model_name": "DescriptionStyleModel",
            "_view_count": null,
            "_view_module": "@jupyter-widgets/base",
            "_view_module_version": "1.2.0",
            "_view_name": "StyleView",
            "description_width": ""
          }
        }
      }
    }
  },
  "nbformat": 4,
  "nbformat_minor": 0
}

{
 "cells": [
  {
   "cell_type": "markdown",
   "metadata": {},
   "source": [
    "# Bootstrap SNN Training\n",
    "\n",
    "The underlying principle for ANN-SNN conversion is that the ReLU activation function (or similar form) approximates the firing rate of an LIF spiking neuron. Consequently, an ANN trained with ReLU activation can be mapped to an equivalent SNN with proper scaling of weights and thresholds. However, as the number of time-steps reduces, the alignment between ReLU activation and LIF spiking rate falls apart mainly due to the following two reasons (especially, for discrete-in-time models like Loihi’s CUBA LIF):\n",
    "\n",
    "* With less time steps, the SNN can assume only a few discrete firing rates.\n",
    "* Limited time steps mean that the spiking neuron activity rate often saturates to maximum allowable firing rate.\n",
    "\n",
    "Introducing __Bootstrap training__. An SNN is used to jumpstart an equivalent ANN model which is then used to accelerate SNN training. There is no restriction on the type of spiking neuron or it's reset behavior. It consists of following steps:\n",
    "![](fit.png)\n",
    "\n",
    "* Input output data points are first collected from the network running as an SNN: __SAMPLING mode__. \n",
    "* The data is used to estimate the corresponding ANN activation as a piecewise linear layer, unique to each layer: __FIT mode__.\n",
    "* The training is accelerated using the piecewise linear ANN activation: __ANN mode__.\n",
    "* The network is seamlessly translated to an SNN: __SNN mode__.\n",
    "* _SAMPLING mode_ and _FIT mode_ are repeated for a few iterations every couple of epochs, thus maintaining an accurate ANN estimate.\n",
    "\n",
    "\n",
    "<table><tr>\n",
    "<td> <img src=\"bootstrap.png\" alt=\"Drawing\" style=\"height: 400px;\"/> </td>\n",
    "</tr>\n",
    "</table>\n",
    "\n",
    "Bootstrap training is available as __`lava.lib.dl.bootstrap`__. The main modules are \n",
    "\n",
    "* `block`: provides `lava.lib.dl.slayer.block` based network definition interface.\n",
    "* `ann_sampler`: provides utilities for sampling SNN data points and pievewise linear ANN fit.\n",
    "* `routine`: `routine.Scheduler` provides scheduling utility to seamlessly switch between SAMPLING | FIT | ANN | SNN mode.\n",
    "    * It also provides ANN-SNN bootstrap hybrid traiing utility as well (Not demonstrated in this tutorial).\n",
    "    \n",
    "<table><tr>\n",
    "<td> <img src=\"scheduler.png\" alt=\"Drawing\" style=\"height: 350px;\"/> </td>\n",
    "</tr>\n",
    "</table>\n",
    "\n",
    "## MNIST Classification\n",
    "\n",
    "Here, we will demonstrate botstrap SNN training on the well known MNIST classification problem.\n"
   ]
  },
  {
   "cell_type": "code",
   "execution_count": 1,
   "metadata": {},
   "outputs": [],
   "source": [
    "import os, sys\n",
    "import h5py\n",
    "import numpy as np\n",
    "import matplotlib.pyplot as plt\n",
    "from PIL import Image\n",
    "import torch\n",
    "import torch.nn.functional as F\n",
    "from torch.utils.data import Dataset, DataLoader\n",
    "from torchvision import datasets, transforms\n",
    "\n",
    "# import slayer from lava-dl\n",
    "import lava.lib.dl.slayer as slayer\n",
    "import lava.lib.dl.bootstrap as bootstrap\n",
    "\n",
    "import IPython.display as display\n",
    "from matplotlib import animation"
   ]
  },
  {
   "cell_type": "markdown",
   "metadata": {},
   "source": [
    "## load GSC from mel_encoder"
   ]
  },
  {
   "cell_type": "code",
   "execution_count": 2,
   "metadata": {},
   "outputs": [
    {
     "name": "stdout",
     "output_type": "stream",
     "text": [
      "!! validation dataset loaded successfully\n"
     ]
    }
   ],
   "source": [
    "# Load dataset\n",
    "x_train = np.load(os.path.expanduser(\"/homes/ts468/data/rawSC/rawSC_80input/\") + \"training_x_data.npy\")\n",
    "y_train = np.load(os.path.expanduser(\"/homes/ts468/data/rawSC/rawSC_80input/\") + \"training_y_data.npy\")\n",
    "\n",
    "x_test = np.load(os.path.expanduser(\"/homes/ts468/data/rawSC/rawSC_80input/\") + \"testing_x_data.npy\")\n",
    "y_test = np.load(os.path.expanduser(\"/homes/ts468/data/rawSC/rawSC_80input/\") + \"testing_y_data.npy\")\n",
    "\n",
    "training_images = x_train #np.swapaxes(x_train, 1, 2) \n",
    "testing_images = x_test #np.swapaxes(x_test, 1, 2) \n",
    "\n",
    "training_images = training_images + abs(np.floor(training_images.min()))\n",
    "testing_images = testing_images + abs(np.floor(testing_images.min()))\n",
    "\n",
    "training_labels = y_train\n",
    "testing_labels = y_test\n",
    "\n",
    "# adding validation data if exists\n",
    "validation_images = np.array([])\n",
    "validation_labels = np.array([])\n",
    "if os.path.isfile(os.path.expanduser(\"/homes/ts468/data/rawSC/rawSC_80input/\") + \"validation_y_data.npy\"):\n",
    "        print(\"!! validation dataset loaded successfully\")\n",
    "        x_validation = np.load(os.path.expanduser(\"/homes/ts468/data/rawSC/rawSC_80input/\") + \"validation_x_data.npy\")\n",
    "        y_validation = np.load(os.path.expanduser(\"/homes/ts468/data/rawSC/rawSC_80input/\") + \"validation_y_data.npy\")\n",
    "\n",
    "        validation_images = x_validation #np.swapaxes(x_validation, 1, 2) \n",
    "        validation_images = validation_images + abs(np.floor(validation_images.min()))\n",
    "\n",
    "        validation_labels = y_validation\n",
    "\n",
    "training_images = np.expand_dims(training_images, 1)\n",
    "testing_images = np.expand_dims(testing_images, 1)\n",
    "validation_images = np.expand_dims(validation_images, 1)\n"
   ]
  },
  {
   "cell_type": "code",
   "execution_count": 3,
   "metadata": {},
   "outputs": [
    {
     "data": {
      "text/plain": [
       "(94824, 1, 80, 100)"
      ]
     },
     "execution_count": 3,
     "metadata": {},
     "output_type": "execute_result"
    }
   ],
   "source": [
    "training_images.shape"
   ]
  },
  {
   "cell_type": "code",
   "execution_count": 4,
   "metadata": {},
   "outputs": [],
   "source": [
    "from torch.utils.data import TensorDataset, DataLoader"
   ]
  },
  {
   "cell_type": "code",
   "execution_count": 5,
   "metadata": {},
   "outputs": [],
   "source": [
    "training_dataloader = DataLoader(TensorDataset(torch.Tensor(training_images),\n",
    "                                               torch.Tensor(training_labels)),\n",
    "                                batch_size=32,\n",
    "                                shuffle=True)\n",
    "\n",
    "testing_dataloader = DataLoader(TensorDataset(torch.Tensor(testing_images),\n",
    "                                              torch.Tensor(testing_labels)),\n",
    "                                batch_size=32,\n",
    "                                shuffle=True)\n",
    "\n",
    "validation_dataloader = DataLoader(TensorDataset(torch.Tensor(validation_images),\n",
    "                                                 torch.Tensor(validation_labels)),\n",
    "                                    batch_size=32,\n",
    "                                    shuffle=True)\n",
    "\n",
    "#train_loader = DataLoader(dataset=training_set, batch_size=32, shuffle=True)\n",
    "#test_loader  = DataLoader(dataset=testing_set , batch_size=32, shuffle=True)\n"
   ]
  },
  {
   "cell_type": "code",
   "execution_count": 6,
   "metadata": {},
   "outputs": [
    {
     "data": {
      "text/plain": [
       "<matplotlib.image.AxesImage at 0x7fd9a41a4100>"
      ]
     },
     "execution_count": 6,
     "metadata": {},
     "output_type": "execute_result"
    },
    {
     "data": {
      "image/png": "[encoded data removed]",
      "text/plain": [
       "<Figure size 640x480 with 1 Axes>"
      ]
     },
     "metadata": {},
     "output_type": "display_data"
    }
   ],
   "source": [
    "plt.imshow(x_train[0])"
   ]
  },
  {
   "cell_type": "markdown",
   "metadata": {},
   "source": [
    "# Create Network\n",
    "\n",
    "The network definition follows standard PyTorch way using `torch.nn.Module`.\n",
    "\n",
    "`lava.lib.dl.bootstrap` provides __block interface__ similar to `lava.lib.dl.slayer.block` - which bundles all these individual components into a single unit. These blocks can be cascaded to build a network easily. The block interface provides additional utilities for normalization (weight and neuron), dropout, gradient monitoring and network export."
   ]
  },
  {
   "cell_type": "code",
   "execution_count": 7,
   "metadata": {},
   "outputs": [],
   "source": [
    "class Network(torch.nn.Module):\n",
    "    def __init__(self, time_steps=16):\n",
    "        super(Network, self).__init__()\n",
    "        self.time_steps = time_steps\n",
    "\n",
    "        neuron_params = {\n",
    "                'threshold'     : 1.25,\n",
    "                'current_decay' : 1, # this must be 1 to use batchnorm\n",
    "                'voltage_decay' : 0.03,\n",
    "                'tau_grad'      : 1,\n",
    "                'scale_grad'    : 1,\n",
    "            }\n",
    "        neuron_params_norm = {\n",
    "                **neuron_params, \n",
    "                # 'norm'    : slayer.neuron.norm.MeanOnlyBatchNorm,\n",
    "            }\n",
    "        \n",
    "        self.blocks = torch.nn.ModuleList([\n",
    "                bootstrap.block.cuba.Input(neuron_params, weight=1, bias=0), # enable affine transform at input\n",
    "                bootstrap.block.cuba.Dense(neuron_params_norm, 80*100, 512, weight_norm=True, weight_scale=2),\n",
    "                bootstrap.block.cuba.Dense(neuron_params_norm, 512, 512, weight_norm=True, weight_scale=2),\n",
    "                bootstrap.block.cuba.Affine(neuron_params, 512, 35, weight_norm=True, weight_scale=2),\n",
    "            ])\n",
    "\n",
    "    def forward(self, x, mode):\n",
    "        x = x.float()\n",
    "        N, C, H, W = x.shape\n",
    "        if mode.base_mode == bootstrap.Mode.ANN:\n",
    "            x = x.reshape([N, C, H, W, 1])\n",
    "        else:\n",
    "            x = slayer.utils.time.replicate(x, self.time_steps)\n",
    "\n",
    "        x = x.reshape(N, -1, x.shape[-1])\n",
    "\n",
    "        for block, m in zip(self.blocks, mode):\n",
    "            x = block(x, mode=m)\n",
    "\n",
    "        return x\n",
    "\n",
    "    def export_hdf5(self, filename):\n",
    "        # network export to hdf5 format\n",
    "        h = h5py.File(filename, 'w')\n",
    "        simulation = h.create_group('simulation')\n",
    "        simulation['Ts'] = 1\n",
    "        simulation['tSample'] = self.time_steps        \n",
    "        layer = h.create_group('layer')\n",
    "        for i, b in enumerate(self.blocks):\n",
    "            b.export_hdf5(layer.create_group(f'{i}'))"
   ]
  },
  {
   "cell_type": "markdown",
   "metadata": {},
   "source": [
    "# Instantiate Network, Optimizer, DataSet and DataLoader\n",
    "\n",
    "Here we will use standard _torchvision datasets_ to load MNIST data."
   ]
  },
  {
   "cell_type": "code",
   "execution_count": 8,
   "metadata": {},
   "outputs": [],
   "source": [
    "trained_folder = 'Trained'\n",
    "os.makedirs(trained_folder, exist_ok=True)\n",
    "\n",
    "# device = torch.device('cpu')\n",
    "device = torch.device('cpu') \n",
    "\n",
    "net = Network().to(device)\n",
    "\n",
    "optimizer = torch.optim.Adam(net.parameters(), lr=0.001)\n",
    "\n",
    "# Dataset and dataLoader instances.\n",
    "training_set = datasets.MNIST(\n",
    "        root='data/',\n",
    "        train=True,\n",
    "        transform=transforms.Compose([\n",
    "            transforms.RandomAffine(\n",
    "                degrees=10, \n",
    "                translate=(0.05, 0.05),\n",
    "                scale=(0.95, 1.05),\n",
    "                shear=5,\n",
    "            ),\n",
    "            transforms.ToTensor(),\n",
    "            transforms.Normalize((0.5), (0.5)),\n",
    "        ]),\n",
    "        download=True,\n",
    "    )\n",
    "\n",
    "testing_set = datasets.MNIST(\n",
    "        root='data/',\n",
    "        train=False,\n",
    "        transform=transforms.Compose([\n",
    "            transforms.ToTensor(),\n",
    "            transforms.Normalize((0.5), (0.5)),\n",
    "        ]),\n",
    "    )\n",
    "\n",
    "#train_loader = DataLoader(dataset=training_set, batch_size=32, shuffle=True)\n",
    "#test_loader  = DataLoader(dataset=testing_set , batch_size=32, shuffle=True)\n",
    "\n",
    "stats = slayer.utils.LearningStats()\n",
    "scheduler = bootstrap.routine.Scheduler()"
   ]
  },
  {
   "cell_type": "markdown",
   "metadata": {},
   "source": [
    "# Training Loop\n",
    "\n",
    "Training loop follows standard PyTorch training structure. `bootstrap.routine.Scheduler` helps simplify the complex routine of periodically switching between different bootstrap modes during training. `scheduler.mode(epoch, i, net.training)` provides an iterator which orchestrates the mode of different blocks/layers."
   ]
  },
  {
   "cell_type": "code",
   "execution_count": 9,
   "metadata": {},
   "outputs": [
    {
     "ename": "RuntimeError",
     "evalue": "expected scalar type Long but found Float",
     "output_type": "error",
     "traceback": [
      "\u001b[0;31m---------------------------------------------------------------------------\u001b[0m",
      "\u001b[0;31mRuntimeError\u001b[0m                              Traceback (most recent call last)",
      "Cell \u001b[0;32mIn[9], line 12\u001b[0m\n\u001b[1;32m      9\u001b[0m rate \u001b[38;5;241m=\u001b[39m torch\u001b[38;5;241m.\u001b[39mmean(output, dim\u001b[38;5;241m=\u001b[39m\u001b[38;5;241m-\u001b[39m\u001b[38;5;241m1\u001b[39m)\u001b[38;5;241m.\u001b[39mreshape((\u001b[38;5;28minput\u001b[39m\u001b[38;5;241m.\u001b[39mshape[\u001b[38;5;241m0\u001b[39m], \u001b[38;5;241m-\u001b[39m\u001b[38;5;241m1\u001b[39m))\n\u001b[1;32m     11\u001b[0m rate \u001b[38;5;241m=\u001b[39m rate\u001b[38;5;241m.\u001b[39mfloat()\n\u001b[0;32m---> 12\u001b[0m loss \u001b[38;5;241m=\u001b[39m \u001b[43mF\u001b[49m\u001b[38;5;241;43m.\u001b[39;49m\u001b[43mcross_entropy\u001b[49m\u001b[43m(\u001b[49m\u001b[43mrate\u001b[49m\u001b[43m,\u001b[49m\u001b[43m \u001b[49m\u001b[43mlabel\u001b[49m\u001b[38;5;241;43m.\u001b[39;49m\u001b[43mto\u001b[49m\u001b[43m(\u001b[49m\u001b[43mdevice\u001b[49m\u001b[43m)\u001b[49m\u001b[43m)\u001b[49m\n\u001b[1;32m     13\u001b[0m prediction \u001b[38;5;241m=\u001b[39m rate\u001b[38;5;241m.\u001b[39mdata\u001b[38;5;241m.\u001b[39mmax(\u001b[38;5;241m1\u001b[39m, keepdim\u001b[38;5;241m=\u001b[39m\u001b[38;5;28;01mTrue\u001b[39;00m)[\u001b[38;5;241m1\u001b[39m]\u001b[38;5;241m.\u001b[39mcpu()\u001b[38;5;241m.\u001b[39mflatten()\n\u001b[1;32m     15\u001b[0m stats\u001b[38;5;241m.\u001b[39mtraining\u001b[38;5;241m.\u001b[39mnum_samples \u001b[38;5;241m+\u001b[39m\u001b[38;5;241m=\u001b[39m \u001b[38;5;28mlen\u001b[39m(label)\n",
      "File \u001b[0;32m~/lava_env/lib/python3.8/site-packages/torch/nn/functional.py:3029\u001b[0m, in \u001b[0;36mcross_entropy\u001b[0;34m(input, target, weight, size_average, ignore_index, reduce, reduction, label_smoothing)\u001b[0m\n\u001b[1;32m   3027\u001b[0m \u001b[38;5;28;01mif\u001b[39;00m size_average \u001b[38;5;129;01mis\u001b[39;00m \u001b[38;5;129;01mnot\u001b[39;00m \u001b[38;5;28;01mNone\u001b[39;00m \u001b[38;5;129;01mor\u001b[39;00m reduce \u001b[38;5;129;01mis\u001b[39;00m \u001b[38;5;129;01mnot\u001b[39;00m \u001b[38;5;28;01mNone\u001b[39;00m:\n\u001b[1;32m   3028\u001b[0m     reduction \u001b[38;5;241m=\u001b[39m _Reduction\u001b[38;5;241m.\u001b[39mlegacy_get_string(size_average, reduce)\n\u001b[0;32m-> 3029\u001b[0m \u001b[38;5;28;01mreturn\u001b[39;00m \u001b[43mtorch\u001b[49m\u001b[38;5;241;43m.\u001b[39;49m\u001b[43m_C\u001b[49m\u001b[38;5;241;43m.\u001b[39;49m\u001b[43m_nn\u001b[49m\u001b[38;5;241;43m.\u001b[39;49m\u001b[43mcross_entropy_loss\u001b[49m\u001b[43m(\u001b[49m\u001b[38;5;28;43minput\u001b[39;49m\u001b[43m,\u001b[49m\u001b[43m \u001b[49m\u001b[43mtarget\u001b[49m\u001b[43m,\u001b[49m\u001b[43m \u001b[49m\u001b[43mweight\u001b[49m\u001b[43m,\u001b[49m\u001b[43m \u001b[49m\u001b[43m_Reduction\u001b[49m\u001b[38;5;241;43m.\u001b[39;49m\u001b[43mget_enum\u001b[49m\u001b[43m(\u001b[49m\u001b[43mreduction\u001b[49m\u001b[43m)\u001b[49m\u001b[43m,\u001b[49m\u001b[43m \u001b[49m\u001b[43mignore_index\u001b[49m\u001b[43m,\u001b[49m\u001b[43m \u001b[49m\u001b[43mlabel_smoothing\u001b[49m\u001b[43m)\u001b[49m\n",
      "\u001b[0;31mRuntimeError\u001b[0m: expected scalar type Long but found Float"
     ]
    }
   ],
   "source": [
    "epochs = 2\n",
    "for epoch in range(epochs):\n",
    "    for i, (input, label) in enumerate(training_dataloader, 0):\n",
    "        net.train()\n",
    "        mode = scheduler.mode(epoch, i, net.training)\n",
    "\n",
    "        input = input.to(device)\n",
    "        output = net.forward(input, mode)\n",
    "        rate = torch.mean(output, dim=-1).reshape((input.shape[0], -1))\n",
    "\n",
    "        rate = rate.float()\n",
    "        loss = F.cross_entropy(rate, label.to(device))\n",
    "        prediction = rate.data.max(1, keepdim=True)[1].cpu().flatten()\n",
    "\n",
    "        stats.training.num_samples += len(label)\n",
    "        stats.training.loss_sum += loss.cpu().data.item() * input.shape[0]\n",
    "        stats.training.correct_samples += torch.sum( prediction == label ).data.item()\n",
    "\n",
    "        optimizer.zero_grad()\n",
    "        loss.backward()\n",
    "        optimizer.step()\n",
    "    print(f'\\r[Epoch {epoch:2d}/{epochs}] {stats}', end='')\n",
    "\n",
    "    for i, (input, label) in enumerate(testing_dataloader, 0):\n",
    "        net.eval()\n",
    "        mode = scheduler.mode(epoch, i, net.training)\n",
    "\n",
    "        with torch.no_grad():\n",
    "            input = input.to(device)\n",
    "            output = net.forward(input, mode=scheduler.mode(epoch, i, net.training))\n",
    "            rate = torch.mean(output, dim=-1).reshape((input.shape[0], -1))\n",
    "\n",
    "            loss = F.cross_entropy(rate, label.to(device))\n",
    "            prediction = rate.data.max(1, keepdim=True)[1].cpu().flatten()\n",
    "\n",
    "        stats.testing.num_samples += len(label)\n",
    "        stats.testing.loss_sum += loss.cpu().data.item() * input.shape[0]\n",
    "        stats.testing.correct_samples += torch.sum( prediction == label ).data.item()\n",
    "\n",
    "    print(f'\\r[Epoch {epoch:2d}/{epochs}] {stats}', end='')\n",
    "\n",
    "    if mode.base_mode == bootstrap.routine.Mode.SNN:\n",
    "        scheduler.sync_snn_stat(stats.testing)\n",
    "        print('\\r', ' '*len(f'\\r[Epoch {epoch:2d}/{epochs}] {stats}'))\n",
    "        print(mode)\n",
    "        print(f'[Epoch {epoch:2d}/{epochs}]\\nSNN Testing: {scheduler.snn_stat}')\n",
    "\n",
    "        if scheduler.snn_stat.best_accuracy:\n",
    "            torch.save(net.state_dict(), trained_folder + '/network.pt')\n",
    "        scheduler.update_snn_stat()\n",
    "            \n",
    "    stats.update()\n",
    "    stats.save(trained_folder + '/')"
   ]
  },
  {
   "cell_type": "markdown",
   "metadata": {
    "tags": []
   },
   "source": [
    "# Plot the learning curves\n",
    "\n",
    "Plotting the learning curves is as easy as calling `stats.plot()`."
   ]
  },
  {
   "cell_type": "code",
   "execution_count": null,
   "metadata": {},
   "outputs": [],
   "source": [
    "stats.plot(figsize=(15, 5))"
   ]
  },
  {
   "cell_type": "markdown",
   "metadata": {},
   "source": [
    "# Export the best model\n",
    "\n",
    "Load the best model during training and export it as hdf5 network. It is supported by `lava.lib.dl.netx` to automatically load the network as a lava process."
   ]
  },
  {
   "cell_type": "code",
   "execution_count": null,
   "metadata": {},
   "outputs": [],
   "source": [
    "net.load_state_dict(torch.load(trained_folder + '/network.pt'))\n",
    "net.export_hdf5(trained_folder + '/network.net')"
   ]
  },
  {
   "cell_type": "markdown",
   "metadata": {
    "tags": []
   },
   "source": [
    "# Visualize the network output\n",
    "\n",
    "Here, we will use `slayer.io.tensor_to_event` method to convert the torch output spike tensor into graded (non-binary) `slayer.io.Event` object and visualize a few input and output event pairs."
   ]
  },
  {
   "cell_type": "code",
   "execution_count": null,
   "metadata": {},
   "outputs": [],
   "source": [
    "output = net(input.to(device), mode=scheduler.mode(100, 0, False))\n",
    "for i in range(5):\n",
    "    img = (2*input[i].reshape(28, 28).cpu().data.numpy()-1) * 255\n",
    "    Image.fromarray(img).convert('RGB').save(f'gifs/inp{i}.png')\n",
    "    out_event = slayer.io.tensor_to_event(output[i].cpu().data.numpy().reshape(1, 10, -1))\n",
    "    out_anim = out_event.anim(plt.figure(figsize=(10, 3.5)), frame_rate=2400)\n",
    "    out_anim.save(f'gifs/out{i}.gif', animation.PillowWriter(fps=24), dpi=300)\n"
   ]
  },
  {
   "cell_type": "code",
   "execution_count": null,
   "metadata": {},
   "outputs": [],
   "source": [
    "img_td = lambda gif: f'<td> <img src=\"{gif}\" alt=\"Drawing\" style=\"height: 150px;\"/> </td>'\n",
    "html = '<table>'\n",
    "html += '<tr><td align=\"center\"><b>Input</b></td><td><b>Output</b></td></tr>'\n",
    "for i in range(5):\n",
    "    html += '<tr>'\n",
    "    html += img_td(f'gifs/inp{i}.png')\n",
    "    html += img_td(f'gifs/out{i}.gif')\n",
    "    html += '</tr>'\n",
    "html += '</tr></table>'\n",
    "display.HTML(html)"
   ]
  }
 ],
 "metadata": {
  "interpreter": {
   "hash": "455f3bd799a5f8ef472892b313399a012a22220b177aaac3bdfe3435a7fd8796"
  },
  "kernelspec": {
   "display_name": "Python 3",
   "language": "python",
   "name": "python3"
  },
  "language_info": {
   "codemirror_mode": {
    "name": "ipython",
    "version": 3
   },
   "file_extension": ".py",
   "mimetype": "text/x-python",
   "name": "python",
   "nbconvert_exporter": "python",
   "pygments_lexer": "ipython3",
   "version": "3.8.10"
  }
 },
 "nbformat": 4,
 "nbformat_minor": 4
}

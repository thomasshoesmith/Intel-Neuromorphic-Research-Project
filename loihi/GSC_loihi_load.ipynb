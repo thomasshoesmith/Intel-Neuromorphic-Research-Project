{
 "cells": [
  {
   "cell_type": "code",
   "execution_count": 1,
   "metadata": {},
   "outputs": [],
   "source": [
    "import numpy as np\n",
    "import matplotlib.pyplot as plt\n",
    "import logging\n",
    "\n",
    "from lava.magma.core.run_configs import Loihi2HwCfg, Loihi2SimCfg\n",
    "from lava.magma.core.run_conditions import RunSteps\n",
    "from lava.proc import io\n",
    "\n"
   ]
  },
  {
   "cell_type": "code",
   "execution_count": 2,
   "metadata": {},
   "outputs": [],
   "source": [
    "from lava.lib.dl import netx\n",
    "from lava.lib.dl import slayer"
   ]
  },
  {
   "cell_type": "code",
   "execution_count": 3,
   "metadata": {},
   "outputs": [
    {
     "name": "stdout",
     "output_type": "stream",
     "text": [
      "Running on oheogulch\n"
     ]
    }
   ],
   "source": [
    "from lava.utils.system import Loihi2\n",
    "Loihi2.preferred_partition = 'oheogulch'\n",
    "loihi2_is_available = Loihi2.is_loihi2_available\n",
    "\n",
    "if loihi2_is_available:\n",
    "    from lava.proc import embedded_io as eio\n",
    "    print(f'Running on {Loihi2.partition}')\n",
    "else:\n",
    "    print(\"Loihi2 compiler is not available in this system. \"\n",
    "          \"This tutorial will execute on CPU backend.\")"
   ]
  },
  {
   "cell_type": "code",
   "execution_count": 6,
   "metadata": {},
   "outputs": [
    {
     "name": "stdout",
     "output_type": "stream",
     "text": [
      "|   Type   |  W  |  H  |  C  | ker | str | pad | dil | grp |delay|\n",
      "|Dense     |    1|    1|  512|     |     |     |     |     |False|\n",
      "|Dense     |    1|    1|   35|     |     |     |     |     |False|\n"
     ]
    }
   ],
   "source": [
    "import os\n",
    "\n",
    "net = netx.hdf5.Network(net_config=os.path.expanduser('Trained/network.net'))\n",
    "print(net)"
   ]
  },
  {
   "cell_type": "code",
   "execution_count": 7,
   "metadata": {},
   "outputs": [
    {
     "name": "stdout",
     "output_type": "stream",
     "text": [
      "There are 2 layers in the network:\n",
      "Dense : in_layer  , shape : (512,)\n",
      "Dense : out_layer , shape : (35,)\n"
     ]
    }
   ],
   "source": [
    "print(f'There are {len(net)} layers in the network:')\n",
    "\n",
    "for l in net.layers:\n",
    "    print(f'{l.block:5s} : {l.name:10s}, shape : {l.shape}')"
   ]
  },
  {
   "cell_type": "code",
   "execution_count": 8,
   "metadata": {},
   "outputs": [
    {
     "ename": "ModuleNotFoundError",
     "evalue": "No module named 'utils'",
     "output_type": "error",
     "traceback": [
      "\u001b[0;31m---------------------------------------------------------------------------\u001b[0m",
      "\u001b[0;31mModuleNotFoundError\u001b[0m                       Traceback (most recent call last)",
      "Cell \u001b[0;32mIn[8], line 2\u001b[0m\n\u001b[1;32m      1\u001b[0m \u001b[38;5;28;01mif\u001b[39;00m loihi2_is_available:\n\u001b[0;32m----> 2\u001b[0m     \u001b[38;5;28;01mfrom\u001b[39;00m \u001b[38;5;21;01mutils\u001b[39;00m \u001b[38;5;28;01mimport\u001b[39;00m CustomHwRunConfig\n\u001b[1;32m      3\u001b[0m     run_config \u001b[38;5;241m=\u001b[39m CustomHwRunConfig()\n\u001b[1;32m      4\u001b[0m \u001b[38;5;28;01melse\u001b[39;00m:\n",
      "\u001b[0;31mModuleNotFoundError\u001b[0m: No module named 'utils'"
     ]
    }
   ],
   "source": [
    "if loihi2_is_available:\n",
    "    from utils import CustomHwRunConfig\n",
    "    run_config = CustomHwRunConfig()\n",
    "else:\n",
    "    from utils import CustomSimRunConfig\n",
    "    run_config = CustomSimRunConfig()\n",
    "run_condition = RunSteps(num_steps=20)\n",
    "net._log_config.level = logging.INFO\n",
    "net.run(condition=run_condition, run_cfg=run_config)\n",
    "#output = sink.data.get()\n",
    "net.stop()"
   ]
  },
  {
   "cell_type": "code",
   "execution_count": null,
   "metadata": {},
   "outputs": [],
   "source": []
  }
 ],
 "metadata": {
  "kernelspec": {
   "display_name": "lava_env",
   "language": "python",
   "name": "python3"
  },
  "language_info": {
   "codemirror_mode": {
    "name": "ipython",
    "version": 3
   },
   "file_extension": ".py",
   "mimetype": "text/x-python",
   "name": "python",
   "nbconvert_exporter": "python",
   "pygments_lexer": "ipython3",
   "version": "3.8.10"
  }
 },
 "nbformat": 4,
 "nbformat_minor": 2
}

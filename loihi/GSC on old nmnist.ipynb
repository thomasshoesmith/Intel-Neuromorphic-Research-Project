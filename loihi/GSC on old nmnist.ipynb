{
 "cells": [
  {
   "cell_type": "code",
   "execution_count": 1,
   "id": "afc7d708-0431-4b60-91f0-9b30edbedac0",
   "metadata": {},
   "outputs": [],
   "source": [
    "import os, sys\n",
    "import glob\n",
    "import zipfile\n",
    "import h5py\n",
    "import numpy as np\n",
    "import matplotlib.pyplot as plt\n",
    "import torch\n",
    "from torch.utils.data import Dataset, DataLoader\n",
    "\n",
    "# import slayer from lava-dl\n",
    "import lava.lib.dl.slayer as slayer\n",
    "\n",
    "import IPython.display as display\n",
    "from matplotlib import animation\n",
    "\n",
    "\n",
    "from gsc_dataset import GSCDataset"
   ]
  },
  {
   "cell_type": "markdown",
   "id": "670955ec-b45f-4ce5-a0aa-acce71a07370",
   "metadata": {},
   "source": [
    "# Create Dataset\n",
    "\n",
    "The dataset class follows standard torch dataset definition. They are defined in `nmnist.py`. We will just import the dataset and augmentation routine here."
   ]
  },
  {
   "cell_type": "markdown",
   "id": "a4ff3649-9c82-4fd4-bdbe-e4672f726dc7",
   "metadata": {},
   "source": [
    "# Create Network\n",
    "\n",
    "A slayer network definition follows standard PyTorch way using `torch.nn.Module`.\n",
    "\n",
    "The network can be described with a combination of individual `synapse`, `dendrite`, `neuron` and `axon` components. For rapid and easy development, slayer provides __block interface__ - `slayer.block` - which bundles all these individual components into a single unit. These blocks can be cascaded to build a network easily. The block interface provides additional utilities for normalization (weight and neuron), dropout, gradient monitoring and network export.\n",
    "\n",
    "In the example below, `slayer.block.cuba` is illustrated."
   ]
  },
  {
   "cell_type": "code",
   "execution_count": 2,
   "id": "4172d38f-7d39-475f-bac8-7985fb1baa53",
   "metadata": {},
   "outputs": [],
   "source": [
    "class Network(torch.nn.Module):\n",
    "    def __init__(self):\n",
    "        super(Network, self).__init__()\n",
    "\n",
    "        neuron_params = {\n",
    "                'threshold'     : 1.25,\n",
    "                'current_decay' : 0.25,\n",
    "                'voltage_decay' : 0.03,\n",
    "                'tau_grad'      : 0.03,\n",
    "                'scale_grad'    : 3,\n",
    "                'requires_grad' : True,     \n",
    "            }\n",
    "        neuron_params_drop = {**neuron_params, 'dropout' : slayer.neuron.Dropout(p=0.05),}\n",
    "        \n",
    "        self.blocks = torch.nn.ModuleList([\n",
    "                slayer.block.cuba.Dense(neuron_params_drop, 80, 512, weight_norm=True, delay=False),\n",
    "                #slayer.block.cuba.Dense(neuron_params_drop, 512, 512, weight_norm=True, delay=True),\n",
    "                slayer.block.cuba.Dense(neuron_params, 512, 35, weight_norm=True),\n",
    "            ])\n",
    "    \n",
    "    def forward(self, spike):\n",
    "        for block in self.blocks:\n",
    "            spike = block(spike)\n",
    "        return spike\n",
    "    \n",
    "    def grad_flow(self, path):\n",
    "        # helps monitor the gradient flow\n",
    "        grad = [b.synapse.grad_norm for b in self.blocks if hasattr(b, 'synapse')]\n",
    "\n",
    "        plt.figure()\n",
    "        plt.semilogy(grad)\n",
    "        plt.savefig(path + 'gradFlow.png')\n",
    "        plt.close()\n",
    "\n",
    "        return grad\n",
    "\n",
    "    def export_hdf5(self, filename):\n",
    "        # network export to hdf5 format\n",
    "        h = h5py.File(filename, 'w')\n",
    "        layer = h.create_group('layer')\n",
    "        for i, b in enumerate(self.blocks):\n",
    "            b.export_hdf5(layer.create_group(f'{i}'))"
   ]
  },
  {
   "cell_type": "markdown",
   "id": "7617ab25-f112-42c6-8bdd-28d0ded7ffb1",
   "metadata": {},
   "source": [
    "# Instantiate Network, Optimizer, DataSet and DataLoader\n",
    "\n",
    "Running the network in GPU is as simple as selecting `torch.device('cuda')`."
   ]
  },
  {
   "cell_type": "code",
   "execution_count": 3,
   "id": "fb02d269",
   "metadata": {},
   "outputs": [],
   "source": [
    "NETWORK_SCALE = 0.02"
   ]
  },
  {
   "cell_type": "code",
   "execution_count": 4,
   "id": "75f1528e",
   "metadata": {},
   "outputs": [
    {
     "name": "stdout",
     "output_type": "stream",
     "text": [
      "original network size: 94824\n",
      "reduced network size: 1896\n",
      "!! network reduced\n",
      "!! validation dataset loaded successfully\n"
     ]
    },
    {
     "data": {
      "text/plain": [
       "'training_images = np.expand_dims(training_images, 1)\\ntesting_images = np.expand_dims(testing_images, 1)\\nvalidation_images = np.expand_dims(validation_images, 1)'"
      ]
     },
     "execution_count": 4,
     "metadata": {},
     "output_type": "execute_result"
    }
   ],
   "source": [
    "# Load dataset\n",
    "\n",
    "dir = \"/mnt/data0/ts468/data/rawSC/rawSC_80input/\"\n",
    "\n",
    "x_train = np.load(os.path.expanduser(dir) + \"training_x_data.npy\")\n",
    "y_train = np.load(os.path.expanduser(dir) + \"training_y_data.npy\")\n",
    "\n",
    "x_test = np.load(os.path.expanduser(dir) + \"testing_x_data.npy\")\n",
    "y_test = np.load(os.path.expanduser(dir) + \"testing_y_data.npy\")\n",
    "\n",
    "if NETWORK_SCALE < 1:\n",
    "        assert len(x_train) == len(y_train)\n",
    "        p = np.random.permutation(len(x_train))\n",
    "        x_train, y_train = x_train[p], y_train[p]\n",
    "        print(f\"original network size: {len(x_train)}\")\n",
    "        x_train = x_train[:int(len(x_train) * NETWORK_SCALE)]\n",
    "        y_train = y_train[:int(len(y_train) * NETWORK_SCALE)]\n",
    "        print(f\"reduced network size: {len(x_train)}\")\n",
    "        print(\"!! network reduced\")\n",
    "\n",
    "training_images = x_train #np.swapaxes(x_train, 1, 2) \n",
    "testing_images = x_test #np.swapaxes(x_test, 1, 2) \n",
    "\n",
    "training_images = training_images + abs(np.floor(training_images.min()))\n",
    "testing_images = testing_images + abs(np.floor(testing_images.min()))\n",
    "\n",
    "training_labels = y_train\n",
    "testing_labels = y_test\n",
    "\n",
    "# adding validation data if exists\n",
    "validation_images = np.array([])\n",
    "validation_labels = np.array([])\n",
    "if os.path.isfile(os.path.expanduser(dir) + \"validation_y_data.npy\"):\n",
    "        print(\"!! validation dataset loaded successfully\")\n",
    "        x_validation = np.load(os.path.expanduser(dir) + \"validation_x_data.npy\")\n",
    "        y_validation = np.load(os.path.expanduser(dir) + \"validation_y_data.npy\")\n",
    "\n",
    "        validation_images = x_validation #np.swapaxes(x_validation, 1, 2) \n",
    "        validation_images = validation_images + abs(np.floor(validation_images.min()))\n",
    "\n",
    "        validation_labels = y_validation\n",
    "\n",
    "\"\"\"training_images = np.expand_dims(training_images, 1)\n",
    "testing_images = np.expand_dims(testing_images, 1)\n",
    "validation_images = np.expand_dims(validation_images, 1)\"\"\""
   ]
  },
  {
   "cell_type": "code",
   "execution_count": 5,
   "id": "a89b270b",
   "metadata": {},
   "outputs": [],
   "source": [
    "batch = 8\n",
    "\n",
    "# Datasets\n",
    "training_set = GSCDataset(\n",
    "    data = training_images, \n",
    "    targets = training_labels)\n",
    "\n",
    "testing_set = GSCDataset(\n",
    "data = training_images, \n",
    "targets = training_labels)\n",
    "\n",
    "train_loader = DataLoader(dataset=training_set, batch_size=batch, shuffle=True)\n",
    "test_loader  = DataLoader(dataset=testing_set , batch_size=batch, shuffle=True)"
   ]
  },
  {
   "cell_type": "code",
   "execution_count": 6,
   "id": "2c3e5578",
   "metadata": {},
   "outputs": [],
   "source": [
    "trained_folder = 'Trained'\n",
    "os.makedirs(trained_folder, exist_ok=True)\n",
    "\n",
    "#device = torch.device('cpu')\n",
    "device = torch.device('cuda') \n",
    "\n",
    "net = Network().to(device)\n",
    "\n",
    "optimizer = torch.optim.Adam(net.parameters(), lr=0.001)"
   ]
  },
  {
   "cell_type": "code",
   "execution_count": 7,
   "id": "47d40cfa-7c30-4192-910c-1b5a90e08c8e",
   "metadata": {
    "tags": []
   },
   "outputs": [
    {
     "data": {
      "text/plain": [
       "\"trained_folder = 'Trained'\\nos.makedirs(trained_folder, exist_ok=True)\\n\\n# device = torch.device('cpu')\\ndevice = torch.device('cuda') \\n\\nnet = Network().to(device)\\n\\noptimizer = torch.optim.Adam(net.parameters(), lr=0.001)\\n\\ntraining_set = NMNISTDataset(train=True, transform=augment)\\ntesting_set  = NMNISTDataset(train=False)\\n\\ntrain_loader = DataLoader(dataset=training_set, batch_size=32, shuffle=True)\\ntest_loader  = DataLoader(dataset=testing_set , batch_size=32, shuffle=True)\""
      ]
     },
     "execution_count": 7,
     "metadata": {},
     "output_type": "execute_result"
    }
   ],
   "source": [
    "\"\"\"trained_folder = 'Trained'\n",
    "os.makedirs(trained_folder, exist_ok=True)\n",
    "\n",
    "# device = torch.device('cpu')\n",
    "device = torch.device('cuda') \n",
    "\n",
    "net = Network().to(device)\n",
    "\n",
    "optimizer = torch.optim.Adam(net.parameters(), lr=0.001)\n",
    "\n",
    "training_set = NMNISTDataset(train=True, transform=augment)\n",
    "testing_set  = NMNISTDataset(train=False)\n",
    "\n",
    "train_loader = DataLoader(dataset=training_set, batch_size=32, shuffle=True)\n",
    "test_loader  = DataLoader(dataset=testing_set , batch_size=32, shuffle=True)\"\"\""
   ]
  },
  {
   "cell_type": "markdown",
   "id": "87f1551e-ce69-46ef-b1bc-d73be3c97794",
   "metadata": {},
   "source": [
    "# Visualize the input data\n",
    "\n",
    "A `slayer.io.Event` can be visualized by invoking it's `Event.show()` routine. `Event.anim()` instead returns the event visualization animation which can be embedded in notebook or exported as video/gif. Here, we will export gif animation and visualize it."
   ]
  },
  {
   "cell_type": "code",
   "execution_count": 8,
   "id": "be0b1c3b-77ec-4d8d-9fb3-22ae2b6dd742",
   "metadata": {},
   "outputs": [
    {
     "data": {
      "text/plain": [
       "\"for i in range(5):\\n    spike_tensor, label = testing_set[np.random.randint(len(testing_set))]\\n    spike_tensor = spike_tensor.reshape(2, 34, 34, -1)\\n    event = slayer.io.tensor_to_event(spike_tensor.cpu().data.numpy())\\n    anim = event.anim(plt.figure(figsize=(5, 5)), frame_rate=240)\\n    anim.save(f'gifs/input{i}.gif', animation.PillowWriter(fps=24), dpi=300)\""
      ]
     },
     "execution_count": 8,
     "metadata": {},
     "output_type": "execute_result"
    }
   ],
   "source": [
    "\"\"\"for i in range(5):\n",
    "    spike_tensor, label = testing_set[np.random.randint(len(testing_set))]\n",
    "    spike_tensor = spike_tensor.reshape(2, 34, 34, -1)\n",
    "    event = slayer.io.tensor_to_event(spike_tensor.cpu().data.numpy())\n",
    "    anim = event.anim(plt.figure(figsize=(5, 5)), frame_rate=240)\n",
    "    anim.save(f'gifs/input{i}.gif', animation.PillowWriter(fps=24), dpi=300)\"\"\""
   ]
  },
  {
   "cell_type": "code",
   "execution_count": 9,
   "id": "89122bc4-6441-4963-bb43-2313432f0530",
   "metadata": {},
   "outputs": [
    {
     "data": {
      "text/plain": [
       "'gif_td = lambda gif: f\\'<td> <img src=\"{gif}\" alt=\"Drawing\" style=\"height: 250px;\"/> </td>\\'\\nheader = \\'<table><tr>\\'\\nimages = \\' \\'.join([gif_td(f\\'gifs/input{i}.gif\\') for i in range(5)])\\nfooter = \\'</tr></table>\\'\\ndisplay.HTML(header + images + footer)'"
      ]
     },
     "execution_count": 9,
     "metadata": {},
     "output_type": "execute_result"
    }
   ],
   "source": [
    "\"\"\"gif_td = lambda gif: f'<td> <img src=\"{gif}\" alt=\"Drawing\" style=\"height: 250px;\"/> </td>'\n",
    "header = '<table><tr>'\n",
    "images = ' '.join([gif_td(f'gifs/input{i}.gif') for i in range(5)])\n",
    "footer = '</tr></table>'\n",
    "display.HTML(header + images + footer)\"\"\""
   ]
  },
  {
   "cell_type": "markdown",
   "id": "d5a3fc61-6560-40fa-a222-5c051dc2ede7",
   "metadata": {},
   "source": [
    "# Error module\n",
    "\n",
    "Slayer provides prebuilt loss modules: `slayer.loss.{SpikeTime, SpikeRate, SpikeMax}`.\n",
    "* `SpikeTime`: precise spike time based loss when target spike train is known.\n",
    "* `SpikeRate`: spike rate based loss when desired rate of the output neuron is known.\n",
    "* `SpikeMax`: negative log likelihood losses for classification without any rate tuning.\n",
    "\n",
    "Since the target spike train is not known for this problem, we use `SpikeRate` loss and target high spiking rate for true class and low spiking rate for false class.\n",
    "\n",
    "target rate: $\\hat{\\boldsymbol r} = r_\\text{true}\\,{\\bf 1}[\\text{label}] + r_\\text{false}\\,(1-{\\bf 1}[\\text{label}])$ where ${\\bf 1}[\\text{label}]$ is one-hot encoding of label. The loss is:\n",
    "\n",
    "$$L = \\frac{1}{2} \\left(\\frac{1}{T}\\int_T {\\boldsymbol s}(t)\\,\\text dt -  \\hat{\\boldsymbol r}\\right)^\\top {\\bf 1}$$"
   ]
  },
  {
   "cell_type": "code",
   "execution_count": 10,
   "id": "3c4b9b92-925a-4da8-b146-923dc4b6ad5f",
   "metadata": {},
   "outputs": [],
   "source": [
    "error = slayer.loss.SpikeRate(true_rate=0.2, false_rate=0.03, reduction='sum').to(device)"
   ]
  },
  {
   "cell_type": "markdown",
   "id": "6cb1c953-78e7-47b7-9ce5-ab747ec23eb6",
   "metadata": {},
   "source": [
    "# Stats and Assistants\n",
    "\n",
    "Slayer provides `slayer.utils.LearningStats` as a simple learning statistics logger for training, validation and testing.\n",
    "\n",
    "In addtion, `slayer.utils.Assistant` module wraps common training validation and testing routine which help simplify the training routine."
   ]
  },
  {
   "cell_type": "code",
   "execution_count": 11,
   "id": "473884dd-d2fa-4e6a-b44d-6a1c303dc950",
   "metadata": {},
   "outputs": [],
   "source": [
    "stats = slayer.utils.LearningStats()\n",
    "assistant = slayer.utils.Assistant(net, error, optimizer, stats, classifier=slayer.classifier.Rate.predict)"
   ]
  },
  {
   "cell_type": "markdown",
   "id": "05eb7069-d384-4368-8235-f5b782c5eeae",
   "metadata": {},
   "source": [
    "# Training Loop\n",
    "\n",
    "Training loop mainly consists of looping over epochs and calling `assistant.train` and `assistant.test` utilities over training and testing dataset. The `assistant` utility takes care of statndard backpropagation procedure internally.\n",
    "\n",
    "* `stats` can be used in print statement to get formatted stats printout.\n",
    "* `stats.testing.best_accuracy` can be used to find out if the current iteration has the best testing accuracy. Here, we use it to save the best model.\n",
    "* `stats.update()` updates the stats collected for the epoch.\n",
    "* `stats.save` saves the stats in files."
   ]
  },
  {
   "cell_type": "code",
   "execution_count": 12,
   "id": "dbcbc25a-41bb-49f0-bdb7-26be901626c9",
   "metadata": {},
   "outputs": [
    {
     "name": "stdout",
     "output_type": "stream",
     "text": [
      "[Epoch  9/10] Train loss =     0.46342 (min =     0.57263)     accuracy = 0.03586 (max = 0.03692)  | Test  loss =     0.40621 (min =     0.51799)     accuracy = 0.03745 (max = 0.04905) "
     ]
    }
   ],
   "source": [
    "epochs = 10\n",
    "\n",
    "for epoch in range(epochs):\n",
    "    for i, (input, label) in enumerate(train_loader): # training loop\n",
    "        output = assistant.train(input, label)\n",
    "    print(f'\\r[Epoch {epoch:2d}/{epochs}] {stats}', end='')\n",
    "        \n",
    "    for i, (input, label) in enumerate(test_loader): # training loop\n",
    "        output = assistant.test(input, label)\n",
    "    print(f'\\r[Epoch {epoch:2d}/{epochs}] {stats}', end='')\n",
    "        \n",
    "    if epoch%20 == 19: # cleanup display\n",
    "        print('\\r', ' '*len(f'\\r[Epoch {epoch:2d}/{epochs}] {stats}'))\n",
    "        stats_str = str(stats).replace(\"| \", \"\\n\")\n",
    "        print(f'[Epoch {epoch:2d}/{epochs}]\\n{stats_str}')\n",
    "    \n",
    "    if stats.testing.best_accuracy:\n",
    "        pass\n",
    "        torch.save(net.state_dict(), trained_folder + '/network.pt')\n",
    "    stats.update()\n",
    "    stats.save(trained_folder + '/')\n",
    "    net.grad_flow(trained_folder + '/')"
   ]
  },
  {
   "cell_type": "markdown",
   "id": "854daacd-5ea4-46fd-befd-b0918b26bda3",
   "metadata": {},
   "source": [
    "# Plot the learning curves\n",
    "\n",
    "Plotting the learning curves is as easy as calling `stats.plot()`."
   ]
  },
  {
   "cell_type": "code",
   "execution_count": 13,
   "id": "be59928f-4da2-4055-8802-71216003bf0c",
   "metadata": {},
   "outputs": [
    {
     "data": {
      "image/png": "[encoded data removed]",
      "text/plain": [
       "<Figure size 1500x500 with 1 Axes>"
      ]
     },
     "metadata": {},
     "output_type": "display_data"
    },
    {
     "data": {
      "image/png": "[encoded data removed]",
      "text/plain": [
       "<Figure size 1500x500 with 1 Axes>"
      ]
     },
     "metadata": {},
     "output_type": "display_data"
    }
   ],
   "source": [
    "stats.plot(figsize=(15, 5))"
   ]
  },
  {
   "cell_type": "markdown",
   "id": "d7785921-b165-425a-a3c8-600b1b822378",
   "metadata": {},
   "source": [
    "# Export the best model\n",
    "\n",
    "Load the best model during training and export it as hdf5 network. It is supported by `lava.lib.dl.netx` to automatically load the network as a lava process."
   ]
  },
  {
   "cell_type": "code",
   "execution_count": 14,
   "id": "fa9a9efa-da94-45b9-8598-c669e522a5c7",
   "metadata": {},
   "outputs": [],
   "source": [
    "net.load_state_dict(torch.load(trained_folder + '/network.pt'))\n",
    "net.export_hdf5(trained_folder + '/network.net')"
   ]
  },
  {
   "cell_type": "code",
   "execution_count": 23,
   "id": "6a291fc5",
   "metadata": {},
   "outputs": [
    {
     "data": {
      "text/plain": [
       "Parameter containing:\n",
       "tensor([[[[[ 0.0398]]],\n",
       "\n",
       "\n",
       "         [[[-0.0136]]],\n",
       "\n",
       "\n",
       "         [[[-0.0587]]],\n",
       "\n",
       "\n",
       "         ...,\n",
       "\n",
       "\n",
       "         [[[-0.0709]]],\n",
       "\n",
       "\n",
       "         [[[-0.0904]]],\n",
       "\n",
       "\n",
       "         [[[-0.0377]]]],\n",
       "\n",
       "\n",
       "\n",
       "        [[[[ 0.0025]]],\n",
       "\n",
       "\n",
       "         [[[-0.0165]]],\n",
       "\n",
       "\n",
       "         [[[ 0.0384]]],\n",
       "\n",
       "\n",
       "         ...,\n",
       "\n",
       "\n",
       "         [[[-0.0896]]],\n",
       "\n",
       "\n",
       "         [[[ 0.1202]]],\n",
       "\n",
       "\n",
       "         [[[-0.0806]]]],\n",
       "\n",
       "\n",
       "\n",
       "        [[[[ 0.0148]]],\n",
       "\n",
       "\n",
       "         [[[ 0.0295]]],\n",
       "\n",
       "\n",
       "         [[[ 0.0958]]],\n",
       "\n",
       "\n",
       "         ...,\n",
       "\n",
       "\n",
       "         [[[-0.0554]]],\n",
       "\n",
       "\n",
       "         [[[ 0.0762]]],\n",
       "\n",
       "\n",
       "         [[[-0.1002]]]],\n",
       "\n",
       "\n",
       "\n",
       "        ...,\n",
       "\n",
       "\n",
       "\n",
       "        [[[[ 0.0170]]],\n",
       "\n",
       "\n",
       "         [[[ 0.1177]]],\n",
       "\n",
       "\n",
       "         [[[-0.0413]]],\n",
       "\n",
       "\n",
       "         ...,\n",
       "\n",
       "\n",
       "         [[[ 0.0490]]],\n",
       "\n",
       "\n",
       "         [[[ 0.0498]]],\n",
       "\n",
       "\n",
       "         [[[-0.0035]]]],\n",
       "\n",
       "\n",
       "\n",
       "        [[[[-0.0957]]],\n",
       "\n",
       "\n",
       "         [[[ 0.0183]]],\n",
       "\n",
       "\n",
       "         [[[-0.1206]]],\n",
       "\n",
       "\n",
       "         ...,\n",
       "\n",
       "\n",
       "         [[[-0.0468]]],\n",
       "\n",
       "\n",
       "         [[[-0.0244]]],\n",
       "\n",
       "\n",
       "         [[[-0.1008]]]],\n",
       "\n",
       "\n",
       "\n",
       "        [[[[ 0.0137]]],\n",
       "\n",
       "\n",
       "         [[[-0.0581]]],\n",
       "\n",
       "\n",
       "         [[[ 0.0269]]],\n",
       "\n",
       "\n",
       "         ...,\n",
       "\n",
       "\n",
       "         [[[-0.0010]]],\n",
       "\n",
       "\n",
       "         [[[ 0.0520]]],\n",
       "\n",
       "\n",
       "         [[[-0.0227]]]]], device='cuda:0', requires_grad=True)"
      ]
     },
     "execution_count": 23,
     "metadata": {},
     "output_type": "execute_result"
    }
   ],
   "source": [
    "net.blocks[0].synapse._parameters[\"weight\"]"
   ]
  },
  {
   "cell_type": "markdown",
   "id": "a9a89584-2b71-49d9-b9e5-582e657676bc",
   "metadata": {},
   "source": [
    "# Visualize the network output\n",
    "\n",
    "Here, we will use `slayer.io.tensor_to_event` method to convert the torch output spike tensor into `slayer.io.Event` object and visualize a few input and output event pairs."
   ]
  },
  {
   "cell_type": "code",
   "execution_count": 26,
   "id": "2a37918a-c45d-40a5-b727-e2fe610b7c80",
   "metadata": {},
   "outputs": [
    {
     "name": "stderr",
     "output_type": "stream",
     "text": [
      "/its/home/ts468/PhD/ve/genn_4_9/lib/python3.8/site-packages/matplotlib/animation.py:884: UserWarning: Animation was deleted without rendering anything. This is most likely not intended. To prevent deletion, assign the Animation to a variable, e.g. `anim`, that exists until you output the Animation using `plt.show()` or `anim.save()`.\n",
      "  warnings.warn(\n",
      "/its/home/ts468/PhD/ve/genn_4_9/lib/python3.8/site-packages/matplotlib/animation.py:1740: UserWarning: Can not start iterating the frames for the initial draw. This can be caused by passing in a 0 length sequence for *frames*.\n",
      "\n",
      "If you passed *frames* as a generator it may be exhausted due to a previous display or save.\n",
      "  warnings.warn(\n"
     ]
    },
    {
     "ename": "IndexError",
     "evalue": "list index out of range",
     "output_type": "error",
     "traceback": [
      "\u001b[0;31m---------------------------------------------------------------------------\u001b[0m",
      "\u001b[0;31mIndexError\u001b[0m                                Traceback (most recent call last)",
      "Cell \u001b[0;32mIn[26], line 7\u001b[0m\n\u001b[1;32m      5\u001b[0m inp_anim \u001b[38;5;241m=\u001b[39m inp_event\u001b[38;5;241m.\u001b[39manim(plt\u001b[38;5;241m.\u001b[39mfigure(figsize\u001b[38;5;241m=\u001b[39m(\u001b[38;5;241m5\u001b[39m, \u001b[38;5;241m5\u001b[39m)), frame_rate\u001b[38;5;241m=\u001b[39m\u001b[38;5;241m240\u001b[39m)\n\u001b[1;32m      6\u001b[0m out_anim \u001b[38;5;241m=\u001b[39m out_event\u001b[38;5;241m.\u001b[39manim(plt\u001b[38;5;241m.\u001b[39mfigure(figsize\u001b[38;5;241m=\u001b[39m(\u001b[38;5;241m10\u001b[39m, \u001b[38;5;241m5\u001b[39m)), frame_rate\u001b[38;5;241m=\u001b[39m\u001b[38;5;241m240\u001b[39m)\n\u001b[0;32m----> 7\u001b[0m \u001b[43minp_anim\u001b[49m\u001b[38;5;241;43m.\u001b[39;49m\u001b[43msave\u001b[49m\u001b[43m(\u001b[49m\u001b[38;5;124;43mf\u001b[39;49m\u001b[38;5;124;43m'\u001b[39;49m\u001b[38;5;124;43mgifs/inp\u001b[39;49m\u001b[38;5;132;43;01m{\u001b[39;49;00m\u001b[43mi\u001b[49m\u001b[38;5;132;43;01m}\u001b[39;49;00m\u001b[38;5;124;43m.gif\u001b[39;49m\u001b[38;5;124;43m'\u001b[39;49m\u001b[43m,\u001b[49m\u001b[43m \u001b[49m\u001b[43manimation\u001b[49m\u001b[38;5;241;43m.\u001b[39;49m\u001b[43mPillowWriter\u001b[49m\u001b[43m(\u001b[49m\u001b[43mfps\u001b[49m\u001b[38;5;241;43m=\u001b[39;49m\u001b[38;5;241;43m24\u001b[39;49m\u001b[43m)\u001b[49m\u001b[43m,\u001b[49m\u001b[43m \u001b[49m\u001b[43mdpi\u001b[49m\u001b[38;5;241;43m=\u001b[39;49m\u001b[38;5;241;43m300\u001b[39;49m\u001b[43m)\u001b[49m\n\u001b[1;32m      8\u001b[0m out_anim\u001b[38;5;241m.\u001b[39msave(\u001b[38;5;124mf\u001b[39m\u001b[38;5;124m'\u001b[39m\u001b[38;5;124mgifs/out\u001b[39m\u001b[38;5;132;01m{\u001b[39;00mi\u001b[38;5;132;01m}\u001b[39;00m\u001b[38;5;124m.gif\u001b[39m\u001b[38;5;124m'\u001b[39m, animation\u001b[38;5;241m.\u001b[39mPillowWriter(fps\u001b[38;5;241m=\u001b[39m\u001b[38;5;241m24\u001b[39m), dpi\u001b[38;5;241m=\u001b[39m\u001b[38;5;241m300\u001b[39m)\n",
      "File \u001b[0;32m~/PhD/ve/genn_4_9/lib/python3.8/site-packages/matplotlib/animation.py:1107\u001b[0m, in \u001b[0;36mAnimation.save\u001b[0;34m(self, filename, writer, fps, dpi, codec, bitrate, extra_args, metadata, extra_anim, savefig_kwargs, progress_callback)\u001b[0m\n\u001b[1;32m   1105\u001b[0m         progress_callback(frame_number, total_frames)\n\u001b[1;32m   1106\u001b[0m         frame_number \u001b[38;5;241m+\u001b[39m\u001b[38;5;241m=\u001b[39m \u001b[38;5;241m1\u001b[39m\n\u001b[0;32m-> 1107\u001b[0m writer\u001b[38;5;241m.\u001b[39mgrab_frame(\u001b[38;5;241m*\u001b[39m\u001b[38;5;241m*\u001b[39msavefig_kwargs)\n",
      "File \u001b[0;32m/usr/lib/python3.8/contextlib.py:120\u001b[0m, in \u001b[0;36m_GeneratorContextManager.__exit__\u001b[0;34m(self, type, value, traceback)\u001b[0m\n\u001b[1;32m    118\u001b[0m \u001b[38;5;28;01mif\u001b[39;00m \u001b[38;5;28mtype\u001b[39m \u001b[38;5;129;01mis\u001b[39;00m \u001b[38;5;28;01mNone\u001b[39;00m:\n\u001b[1;32m    119\u001b[0m     \u001b[38;5;28;01mtry\u001b[39;00m:\n\u001b[0;32m--> 120\u001b[0m         \u001b[38;5;28;43mnext\u001b[39;49m\u001b[43m(\u001b[49m\u001b[38;5;28;43mself\u001b[39;49m\u001b[38;5;241;43m.\u001b[39;49m\u001b[43mgen\u001b[49m\u001b[43m)\u001b[49m\n\u001b[1;32m    121\u001b[0m     \u001b[38;5;28;01mexcept\u001b[39;00m \u001b[38;5;167;01mStopIteration\u001b[39;00m:\n\u001b[1;32m    122\u001b[0m         \u001b[38;5;28;01mreturn\u001b[39;00m \u001b[38;5;28;01mFalse\u001b[39;00m\n",
      "File \u001b[0;32m~/PhD/ve/genn_4_9/lib/python3.8/site-packages/matplotlib/animation.py:235\u001b[0m, in \u001b[0;36mAbstractMovieWriter.saving\u001b[0;34m(self, fig, outfile, dpi, *args, **kwargs)\u001b[0m\n\u001b[1;32m    233\u001b[0m     \u001b[38;5;28;01myield\u001b[39;00m \u001b[38;5;28mself\u001b[39m\n\u001b[1;32m    234\u001b[0m \u001b[38;5;28;01mfinally\u001b[39;00m:\n\u001b[0;32m--> 235\u001b[0m     \u001b[38;5;28;43mself\u001b[39;49m\u001b[38;5;241;43m.\u001b[39;49m\u001b[43mfinish\u001b[49m\u001b[43m(\u001b[49m\u001b[43m)\u001b[49m\n",
      "File \u001b[0;32m~/PhD/ve/genn_4_9/lib/python3.8/site-packages/matplotlib/animation.py:501\u001b[0m, in \u001b[0;36mPillowWriter.finish\u001b[0;34m(self)\u001b[0m\n\u001b[1;32m    500\u001b[0m \u001b[38;5;28;01mdef\u001b[39;00m \u001b[38;5;21mfinish\u001b[39m(\u001b[38;5;28mself\u001b[39m):\n\u001b[0;32m--> 501\u001b[0m     \u001b[38;5;28;43mself\u001b[39;49m\u001b[38;5;241;43m.\u001b[39;49m\u001b[43m_frames\u001b[49m\u001b[43m[\u001b[49m\u001b[38;5;241;43m0\u001b[39;49m\u001b[43m]\u001b[49m\u001b[38;5;241m.\u001b[39msave(\n\u001b[1;32m    502\u001b[0m         \u001b[38;5;28mself\u001b[39m\u001b[38;5;241m.\u001b[39moutfile, save_all\u001b[38;5;241m=\u001b[39m\u001b[38;5;28;01mTrue\u001b[39;00m, append_images\u001b[38;5;241m=\u001b[39m\u001b[38;5;28mself\u001b[39m\u001b[38;5;241m.\u001b[39m_frames[\u001b[38;5;241m1\u001b[39m:],\n\u001b[1;32m    503\u001b[0m         duration\u001b[38;5;241m=\u001b[39m\u001b[38;5;28mint\u001b[39m(\u001b[38;5;241m1000\u001b[39m \u001b[38;5;241m/\u001b[39m \u001b[38;5;28mself\u001b[39m\u001b[38;5;241m.\u001b[39mfps), loop\u001b[38;5;241m=\u001b[39m\u001b[38;5;241m0\u001b[39m)\n",
      "\u001b[0;31mIndexError\u001b[0m: list index out of range"
     ]
    }
   ],
   "source": [
    "output = net(input.to(device))\n",
    "for i in range(5):\n",
    "    inp_event = slayer.io.tensor_to_event(input[i].cpu().data.numpy().reshape(1, 80, 100, -1))\n",
    "    out_event = slayer.io.tensor_to_event(output[i].cpu().data.numpy().reshape(1, 10, -1))\n",
    "    inp_anim = inp_event.anim(plt.figure(figsize=(5, 5)), frame_rate=240)\n",
    "    out_anim = out_event.anim(plt.figure(figsize=(10, 5)), frame_rate=240)\n",
    "    inp_anim.save(f'gifs/inp{i}.gif', animation.PillowWriter(fps=24), dpi=300)\n",
    "    out_anim.save(f'gifs/out{i}.gif', animation.PillowWriter(fps=24), dpi=300)\n"
   ]
  },
  {
   "cell_type": "code",
   "execution_count": 16,
   "id": "d933ed73-cdc1-43b8-8045-57cc9c499fba",
   "metadata": {},
   "outputs": [
    {
     "data": {
      "text/plain": [
       "'html = \\'<table>\\'\\nhtml += \\'<tr><td align=\"center\"><b>Input</b></td><td><b>Output</b></td></tr>\\'\\nfor i in range(5):\\n    html += \\'<tr>\\'\\n    html += gif_td(f\\'gifs/inp{i}.gif\\')\\n    html += gif_td(f\\'gifs/out{i}.gif\\')\\n    html += \\'</tr>\\'\\nhtml += \\'</tr></table>\\'\\ndisplay.HTML(html)'"
      ]
     },
     "execution_count": 16,
     "metadata": {},
     "output_type": "execute_result"
    }
   ],
   "source": [
    "\"\"\"html = '<table>'\n",
    "html += '<tr><td align=\"center\"><b>Input</b></td><td><b>Output</b></td></tr>'\n",
    "for i in range(5):\n",
    "    html += '<tr>'\n",
    "    html += gif_td(f'gifs/inp{i}.gif')\n",
    "    html += gif_td(f'gifs/out{i}.gif')\n",
    "    html += '</tr>'\n",
    "html += '</tr></table>'\n",
    "display.HTML(html)\"\"\""
   ]
  }
 ],
 "metadata": {
  "kernelspec": {
   "display_name": "Python 3",
   "language": "python",
   "name": "python3"
  },
  "language_info": {
   "codemirror_mode": {
    "name": "ipython",
    "version": 3
   },
   "file_extension": ".py",
   "mimetype": "text/x-python",
   "name": "python",
   "nbconvert_exporter": "python",
   "pygments_lexer": "ipython3",
   "version": "3.8.10"
  }
 },
 "nbformat": 4,
 "nbformat_minor": 5
}

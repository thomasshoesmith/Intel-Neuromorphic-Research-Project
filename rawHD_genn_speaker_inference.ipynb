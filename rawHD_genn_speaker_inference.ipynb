{
 "cells": [
  {
   "cell_type": "code",
   "execution_count": 1,
   "metadata": {},
   "outputs": [
    {
     "name": "stdout",
     "output_type": "stream",
     "text": [
      "env: CUDA_PATH=/usr/local/cuda\n"
     ]
    }
   ],
   "source": [
    "%env CUDA_PATH=/usr/local/cuda"
   ]
  },
  {
   "cell_type": "code",
   "execution_count": 2,
   "metadata": {},
   "outputs": [],
   "source": [
    "import os\n",
    "import numpy as np\n",
    "import opendatasets as od\n",
    "import matplotlib.pyplot as plt\n",
    "import json\n",
    "\n",
    "from ml_genn import Network, Population, Connection\n",
    "from ml_genn.callbacks import SpikeRecorder, VarRecorder\n",
    "from ml_genn.compilers import InferenceCompiler\n",
    "from ml_genn.connectivity import Dense\n",
    "from ml_genn.neurons import LeakyIntegrate, LeakyIntegrateFire, SpikeInput\n",
    "from ml_genn.synapses import Exponential\n",
    "\n",
    "from ml_genn.utils.data import calc_latest_spike_time\n",
    "from ml_genn.compilers.event_prop_compiler import default_params\n",
    "\n",
    "from ml_genn.utils.data import (calc_latest_spike_time, calc_max_spikes,\n",
    "                                preprocess_tonic_spikes)\n",
    "\n",
    "from rawHD_dataset_loader_padded_spikes import rawHD_Loader"
   ]
  },
  {
   "cell_type": "code",
   "execution_count": 3,
   "metadata": {},
   "outputs": [],
   "source": [
    "# sample ID used for visual\n",
    "sample_id = 0"
   ]
  },
  {
   "cell_type": "code",
   "execution_count": 4,
   "metadata": {},
   "outputs": [],
   "source": [
    "with open(\"rawHD_params.json\", \"r\") as f: \n",
    "    params = json.load(f)\n",
    "    \n",
    "params[\"num_samples\"] = None\n",
    "params[\"NUM_OUTPUT\"] = 12\n",
    "params[\"output_dir\"] = \"rawHD_speaker_training_1_inference\"\n",
    "params[\"NUM_EPOCH\"] = 20\n",
    "params[\"BATCH_SIZE\"] = 32\n",
    "params[\"weights_dir\"] = \"rawHD_pretrained_weights_recurrent_speakers\""
   ]
  },
  {
   "cell_type": "code",
   "execution_count": 5,
   "metadata": {},
   "outputs": [],
   "source": [
    "x_train, y_train, z_train, x_test, y_test, z_test, x_validation, y_validation, z_validation = rawHD_Loader(dir = os.getcwd() + params[\"dataset_directory\"],\n",
    "                                                                                                           num_samples=params[\"num_samples\"],\n",
    "                                                                                                           shuffle = True,\n",
    "                                                                                                           shuffle_seed = 0,\n",
    "                                                                                                           process_padded_spikes = False)\n"
   ]
  },
  {
   "cell_type": "code",
   "execution_count": 6,
   "metadata": {},
   "outputs": [
    {
     "name": "stdout",
     "output_type": "stream",
     "text": [
      "training speakers: [ 0  1  2  3  6  7  8  9 10 11]\n",
      "testing speakers : [ 0  1  2  3  4  5  6  7  8  9 10 11]\n"
     ]
    }
   ],
   "source": [
    "print(f\"training speakers: {np.unique(z_train)}\")\n",
    "print(f\"testing speakers : {np.unique(z_test)}\")"
   ]
  },
  {
   "cell_type": "code",
   "execution_count": 7,
   "metadata": {},
   "outputs": [
    {
     "name": "stdout",
     "output_type": "stream",
     "text": [
      "Skipping, found downloaded files in \"./spiking-google-speech-commands\" (use force=True to force download)\n",
      "Max spikes 2386, latest spike time 2000\n"
     ]
    }
   ],
   "source": [
    "# Kaggle dataset directory\n",
    "dataset = 'https://www.kaggle.com/datasets/thomasshoesmith/spiking-google-speech-commands/data'\n",
    "\n",
    "# Using opendatasets to download SGSC dataset\n",
    "od.download(dataset)\n",
    "\n",
    "#x_test = np.load(\"spiking-google-speech-commands/testing_x_spikes.npy\", allow_pickle=True)\n",
    "#y_test = np.load(\"spiking-google-speech-commands/testing_y_spikes.npy\", allow_pickle=True)\n",
    "\n",
    "# Preprocess\n",
    "x_train_spikes = []\n",
    "for i in range(len(x_train)):\n",
    "    events = x_train[i]\n",
    "    x_train_spikes.append(preprocess_tonic_spikes(events, \n",
    "                                                  x_train[0].dtype.names,\n",
    "                                                  (params[\"NUM_INPUT\"], 1, 1),\n",
    "                                                  time_scale = 1))\n",
    "\n",
    "# Determine max spikes and latest spike time\n",
    "max_spikes = calc_max_spikes(x_train_spikes)\n",
    "latest_spike_time = 2000 #calc_latest_spike_time(x_train_spikes) #TODO: Fix\n",
    "print(f\"Max spikes {max_spikes}, latest spike time {latest_spike_time}\")"
   ]
  },
  {
   "cell_type": "code",
   "execution_count": 8,
   "metadata": {},
   "outputs": [
    {
     "name": "stdout",
     "output_type": "stream",
     "text": [
      "Skipping, found downloaded files in \"./spiking-google-speech-commands\" (use force=True to force download)\n",
      "Max spikes 2190, latest spike time 2000\n"
     ]
    }
   ],
   "source": [
    "# Kaggle dataset directory\n",
    "dataset = 'https://www.kaggle.com/datasets/thomasshoesmith/spiking-google-speech-commands/data'\n",
    "\n",
    "# Using opendatasets to download SGSC dataset\n",
    "od.download(dataset)\n",
    "\n",
    "#x_test = np.load(\"spiking-google-speech-commands/testing_x_spikes.npy\", allow_pickle=True)\n",
    "#y_test = np.load(\"spiking-google-speech-commands/testing_y_spikes.npy\", allow_pickle=True)\n",
    "\n",
    "# Preprocess\n",
    "x_test_spikes = []\n",
    "for i in range(len(x_test)):\n",
    "    events = x_test[i]\n",
    "    x_test_spikes.append(preprocess_tonic_spikes(events, \n",
    "                                                 x_test[0].dtype.names,\n",
    "                                                 (params[\"NUM_INPUT\"], 1, 1),\n",
    "                                                 time_scale = 1))\n",
    "\n",
    "# Determine max spikes and latest spike time\n",
    "max_spikes = calc_max_spikes(x_test_spikes)\n",
    "latest_spike_time = 2000 #calc_latest_spike_time(x_train_spikes) #TODO: Fix\n",
    "print(f\"Max spikes {max_spikes}, latest spike time {latest_spike_time}\")"
   ]
  },
  {
   "cell_type": "code",
   "execution_count": 9,
   "metadata": {},
   "outputs": [],
   "source": [
    "# loading pretrained weights\n",
    "w_i2h = np.load(f\"{params['weights_dir']}/rawHD_Pop0_Pop1-g.npy\")\n",
    "w_i2h = w_i2h.reshape((params[\"NUM_INPUT\"], \n",
    "                       params[\"NUM_HIDDEN\"]))\n",
    "\n",
    "if params[\"recurrent\"]:\n",
    "    w_h2h = np.load(f\"{params['weights_dir']}/rawHD_Pop1_Pop1-g.npy\")\n",
    "    w_h2h = w_h2h.reshape((params[\"NUM_HIDDEN\"],\n",
    "                           params[\"NUM_HIDDEN\"]))\n",
    "\n",
    "w_h2o = np.load(f\"{params['weights_dir']}/rawHD_Pop1_Pop2-g.npy\")\n",
    "w_h2o = w_h2o.reshape((params[\"NUM_HIDDEN\"], \n",
    "                       params[\"NUM_OUTPUT\"]))"
   ]
  },
  {
   "cell_type": "code",
   "execution_count": 10,
   "metadata": {},
   "outputs": [],
   "source": [
    "# change directory for output code of (ML_)GeNN\n",
    "try:\n",
    "    os.makedirs(\"output/\" + params[\"output_dir\"] + \"_inference_run\")\n",
    "except:\n",
    "    pass\n",
    "\n",
    "os.chdir(\"output/\" + params[\"output_dir\"] + \"_inference_run\")"
   ]
  },
  {
   "cell_type": "code",
   "execution_count": 11,
   "metadata": {},
   "outputs": [
    {
     "name": "stderr",
     "output_type": "stream",
     "text": [
      "/its/home/ts468/PhD/ve/genn_5_1_0/lib/python3.10/site-packages/tqdm/auto.py:21: TqdmWarning: IProgress not found. Please update jupyter and ipywidgets. See https://ipywidgets.readthedocs.io/en/stable/user_install.html\n",
      "  from .autonotebook import tqdm as notebook_tqdm\n"
     ]
    },
    {
     "name": "stdout",
     "output_type": "stream",
     "text": [
      "make: Entering directory '/its/home/ts468/PhD/Intel-Neuromorphic-Research-Project/output/rawHD_speaker_training_1_inference_inference_run/InferenceCompiler_CODE'\n",
      "make: Nothing to be done for 'all'.\n",
      "make: Leaving directory '/its/home/ts468/PhD/Intel-Neuromorphic-Research-Project/output/rawHD_speaker_training_1_inference_inference_run/InferenceCompiler_CODE'\n"
     ]
    },
    {
     "name": "stderr",
     "output_type": "stream",
     "text": [
      "100%|██████████| 71/71 [00:00<00:00, 75.39it/s, SparseCategoricalAccuracy: 0.1873]\n",
      "100%|██████████| 71/71 [00:00<00:00, 77.24it/s]\n"
     ]
    }
   ],
   "source": [
    "network = Network(default_params)\n",
    "\n",
    "with network:\n",
    "    # Populations\n",
    "    input = Population(SpikeInput(max_spikes = params[\"BATCH_SIZE\"] * max_spikes),\n",
    "                       params[\"NUM_INPUT\"],\n",
    "                       record_spikes=True)\n",
    "    \n",
    "    hidden = Population(LeakyIntegrateFire(v_thresh=1.0, \n",
    "                                    tau_mem=20.0),\n",
    "                params.get(\"NUM_HIDDEN\"), \n",
    "                record_spikes=True)\n",
    "    \n",
    "    output = Population(LeakyIntegrate(tau_mem=20.0, \n",
    "                                readout=\"avg_var_exp_weight\"),\n",
    "                params.get(\"NUM_OUTPUT\"), \n",
    "                record_spikes=True)\n",
    "\n",
    "    Connection(input, hidden, Dense(weight = w_i2h),\n",
    "                Exponential(5.0))\n",
    "    \n",
    "    if params.get(\"recurrent\"):\n",
    "        Connection(hidden, hidden, Dense(weight = w_h2h),\n",
    "                Exponential(5.0))\n",
    "    \n",
    "    Connection(hidden, output, Dense(w_h2o),\n",
    "                Exponential(5.0))\n",
    "\n",
    "compiler = InferenceCompiler(evaluate_timesteps = params.get(\"NUM_FRAMES\") * params.get(\"INPUT_FRAME_TIMESTEP\"),\n",
    "                            reset_in_syn_between_batches=True,\n",
    "                            #quantise_num_weight_bits=8,\n",
    "                            #quantise_weight_percentile=99,\n",
    "                            batch_size = params.get(\"BATCH_SIZE\"))\n",
    "\n",
    "compiled_net = compiler.compile(network)\n",
    "\n",
    "\n",
    "with compiled_net:\n",
    "\n",
    "    callbacks = [\"batch_progress_bar\",\n",
    "                 SpikeRecorder(input, \n",
    "                               key = \"input_spikes\",\n",
    "                               example_filter = sample_id),\n",
    "                 SpikeRecorder(hidden,\n",
    "                               key = \"hidden_spikes\",\n",
    "                               example_filter = sample_id),\n",
    "                VarRecorder(hidden, \n",
    "                             var = \"v\",\n",
    "                             key = \"hidden_voltages\",\n",
    "                             example_filter = sample_id),\n",
    "                 VarRecorder(output, \n",
    "                             var = \"v\",\n",
    "                             key = \"output_voltages\",\n",
    "                             example_filter = sample_id)]\n",
    "    \n",
    "    \n",
    "    #metrics, cb_data = compiled_net.evaluate({input: x_train_spikes}, {output: z_train}, callbacks = callbacks)\n",
    "    #metrics, cb_data = compiled_net.predict({input: x_train_spikes}, output, callbacks = callbacks)\n",
    "    \n",
    "    metrics, cb_data = compiled_net.evaluate({input: x_test_spikes}, {output: z_test}, callbacks = callbacks)\n",
    "    metrics, cb_data = compiled_net.predict({input: x_test_spikes}, output, callbacks = callbacks)\n",
    "\n",
    "    #compiled_net.save((\"quant8\",), serialiser)\n",
    "\n",
    "\n",
    "    #print(f\"Accuracy = {100 * metrics[output].result}%\")"
   ]
  },
  {
   "cell_type": "code",
   "execution_count": 12,
   "metadata": {},
   "outputs": [
    {
     "ename": "IndexError",
     "evalue": "index 2264 is out of bounds for axis 0 with size 2264",
     "output_type": "error",
     "traceback": [
      "\u001b[0;31m---------------------------------------------------------------------------\u001b[0m",
      "\u001b[0;31mIndexError\u001b[0m                                Traceback (most recent call last)",
      "Cell \u001b[0;32mIn[12], line 7\u001b[0m\n\u001b[1;32m      5\u001b[0m my_list \u001b[38;5;241m=\u001b[39m []\n\u001b[1;32m      6\u001b[0m \u001b[38;5;28;01mfor\u001b[39;00m i \u001b[38;5;129;01min\u001b[39;00m \u001b[38;5;28mrange\u001b[39m(\u001b[38;5;28mlen\u001b[39m(z_train)):\n\u001b[0;32m----> 7\u001b[0m     my_list\u001b[38;5;241m.\u001b[39mappend(\u001b[38;5;124mf\u001b[39m\u001b[38;5;124m\"\u001b[39m\u001b[38;5;124mPred: \u001b[39m\u001b[38;5;132;01m{\u001b[39;00mnp\u001b[38;5;241m.\u001b[39margmax(\u001b[43mmetrics\u001b[49m\u001b[43m[\u001b[49m\u001b[43moutput\u001b[49m\u001b[43m]\u001b[49m\u001b[43m[\u001b[49m\u001b[43mi\u001b[49m\u001b[43m]\u001b[49m)\u001b[38;5;132;01m}\u001b[39;00m\u001b[38;5;124m, True:\u001b[39m\u001b[38;5;132;01m{\u001b[39;00mz_train[i]\u001b[38;5;132;01m}\u001b[39;00m\u001b[38;5;124m\"\u001b[39m)\n\u001b[1;32m      9\u001b[0m file_path \u001b[38;5;241m=\u001b[39m \u001b[38;5;124m\"\u001b[39m\u001b[38;5;124mrawHD_genn_speaker_inference_predicted.txt\u001b[39m\u001b[38;5;124m\"\u001b[39m\n\u001b[1;32m     10\u001b[0m \u001b[38;5;28mprint\u001b[39m(my_list)\n",
      "\u001b[0;31mIndexError\u001b[0m: index 2264 is out of bounds for axis 0 with size 2264"
     ]
    }
   ],
   "source": [
    "# use to print predicted and ground truth output of GeNN Inference run\n",
    "if True:\n",
    "    os.chdir(\"/its/home/ts468/PhD/Intel-Neuromorphic-Research-Project\")\n",
    "\n",
    "    my_list = []\n",
    "    for i in range(len(z_train)):\n",
    "        my_list.append(f\"Pred: {np.argmax(metrics[output][i])}, True:{z_train[i]}\")\n",
    "\n",
    "    file_path = \"rawHD_genn_speaker_inference_predicted.txt\"\n",
    "    print(my_list)\n",
    "\n",
    "    with open(file_path, 'w') as file:\n",
    "        # Join the list elements into a single string with a newline character\n",
    "        data_to_write = '\\n'.join(my_list)\n",
    "        \n",
    "        # Write the data to the file\n",
    "        file.write(data_to_write)"
   ]
  },
  {
   "cell_type": "code",
   "execution_count": null,
   "metadata": {},
   "outputs": [],
   "source": [
    "os.chdir(\"/its/home/ts468/PhD/Intel-Neuromorphic-Research-Project\")"
   ]
  },
  {
   "cell_type": "code",
   "execution_count": null,
   "metadata": {},
   "outputs": [],
   "source": [
    "# Input spike activity\n",
    "plt.scatter(cb_data[\"input_spikes\"][0][0], cb_data[\"input_spikes\"][1][0],\n",
    "            s = 1)\n",
    "\n",
    "plt.title('Input Spikes (with raw input for comparison) from lava')\n",
    "plt.ylim(0, params[\"NUM_INPUT\"])\n",
    "plt.xlim(0, 2000)\n",
    "plt.show()"
   ]
  },
  {
   "cell_type": "code",
   "execution_count": null,
   "metadata": {},
   "outputs": [],
   "source": [
    "plt.scatter(cb_data[\"hidden_spikes\"][0][0], cb_data[\"hidden_spikes\"][1][0],\n",
    "            s = 0.5)\n",
    "\n",
    "plt.ylabel(\"neurons\")\n",
    "plt.xlabel(\"timesteps\")\n",
    "plt.title(\"Hidden layer activity\")\n",
    "plt.ylim(0, params[\"NUM_HIDDEN\"])\n",
    "plt.xlim(0, 2000)\n",
    "plt.show()"
   ]
  },
  {
   "cell_type": "code",
   "execution_count": null,
   "metadata": {},
   "outputs": [],
   "source": [
    "plt.figure(figsize=(12, 3), dpi=80)\n",
    "\n",
    "plt.plot(cb_data[\"hidden_voltages\"][0][:,16])\n",
    "\n",
    "plt.ylabel(\"voltage (v)\")\n",
    "plt.xlabel(\"timesteps\")\n",
    "plt.title(\"hidden voltage activity\")\n",
    "#plt.xlim(450, 600)\n",
    "\n",
    "plt.show()"
   ]
  },
  {
   "cell_type": "code",
   "execution_count": null,
   "metadata": {},
   "outputs": [],
   "source": [
    "plt.figure(figsize=(12, 3), dpi=80)\n",
    "\n",
    "plt.plot(cb_data[\"hidden_voltages\"][0][:,299])\n",
    "\n",
    "plt.ylabel(\"voltage (v)\")\n",
    "plt.xlabel(\"timesteps\")\n",
    "plt.title(\"hidden voltage activity\")\n",
    "#plt.xlim(450, 600)\n",
    "#plt.xlim(650, 720)\n",
    "plt.xlim(300, 400)\n",
    "#plt.ylim(0, 1 * 1.1)\n",
    "\n",
    "plt.scatter([cb_data[\"hidden_spikes\"][0][0][i] for i in np.where(cb_data[\"hidden_spikes\"][1][0] == 299)][0],\n",
    "            len([cb_data[\"hidden_spikes\"][0][0][i] for i in np.where(cb_data[\"hidden_spikes\"][1][0] == 299)][0]) * [1],\n",
    "            c = \"r\",\n",
    "            label = \"spikes\")\n",
    "\n",
    "for i in range(1000):\n",
    "    plt.axvline(i * 10, color = \"grey\", alpha=0.5, linestyle = \"dashed\")\n",
    "\n",
    "plt.axhline(1, color = \"red\", alpha=0.5, linestyle = \"dashed\", label = \"threshold\")\n",
    "\n",
    "plt.legend()\n",
    "plt.show()"
   ]
  },
  {
   "cell_type": "code",
   "execution_count": null,
   "metadata": {},
   "outputs": [],
   "source": [
    "plt.figure(figsize=(12, 3), dpi=80)\n",
    "\n",
    "plt.plot(cb_data[\"output_voltages\"][0])\n",
    "\n",
    "plt.ylabel(\"voltage (v)\")\n",
    "plt.xlabel(\"timesteps\")\n",
    "plt.title(\"output voltage activity\")\n",
    "plt.xlim(0, 2000)\n",
    "\n",
    "plt.show()"
   ]
  },
  {
   "cell_type": "code",
   "execution_count": null,
   "metadata": {},
   "outputs": [],
   "source": [
    "plt.plot(np.sort(w_i2h.flatten()))\n",
    "plt.title(\"input to hidden\")\n",
    "plt.show()"
   ]
  },
  {
   "cell_type": "code",
   "execution_count": null,
   "metadata": {},
   "outputs": [],
   "source": [
    "if params[\"recurrent\"]:\n",
    "    plt.plot(np.sort(w_h2h.flatten()))\n",
    "    plt.title(\"hidden to hidden\")\n",
    "    plt.show()"
   ]
  },
  {
   "cell_type": "code",
   "execution_count": null,
   "metadata": {},
   "outputs": [],
   "source": [
    "plt.plot(np.sort(w_h2o.flatten()))\n",
    "plt.title(\"hidden to output\")\n",
    "plt.show()"
   ]
  },
  {
   "cell_type": "markdown",
   "metadata": {},
   "source": [
    "Confusion Matrix"
   ]
  },
  {
   "cell_type": "code",
   "execution_count": 15,
   "metadata": {},
   "outputs": [],
   "source": [
    "from sklearn.metrics import confusion_matrix"
   ]
  },
  {
   "cell_type": "code",
   "execution_count": null,
   "metadata": {},
   "outputs": [],
   "source": [
    "cm = confusion_matrix(z_train, np.argmax(metrics[output], 1))\n",
    "fig, ax = plt.subplots(figsize=(7.5, 7.5))\n",
    "ax.matshow(cm, cmap=plt.cm.Blues, alpha=0.3)\n",
    "for i in range(cm.shape[0]):\n",
    "    for j in range(cm.shape[1]):\n",
    "        ax.text(x=j, y=i,s=cm[i, j], va='center', ha='center', size='xx-large')\n",
    " \n",
    "plt.xlabel('Predictions', fontsize=18)\n",
    "plt.ylabel('Truth', fontsize=18)\n",
    "plt.title('Speaker Confusion Matrix', fontsize=18)\n",
    "plt.xticks(list(range(10)), np.unique(z_train))\n",
    "plt.yticks(list(range(10)), np.unique(z_train))\n",
    "plt.show()"
   ]
  },
  {
   "cell_type": "code",
   "execution_count": 20,
   "metadata": {},
   "outputs": [
    {
     "data": {
      "image/png": "[encoded data removed]",
      "text/plain": [
       "<Figure size 750x750 with 1 Axes>"
      ]
     },
     "metadata": {},
     "output_type": "display_data"
    }
   ],
   "source": [
    "cm = confusion_matrix(z_test, np.argmax(metrics[output], 1))\n",
    "fig, ax = plt.subplots(figsize=(7.5, 7.5))\n",
    "ax.matshow(cm, cmap=plt.cm.Blues, alpha=0.3)\n",
    "for i in range(cm.shape[0]):\n",
    "    for j in range(cm.shape[1]):\n",
    "        ax.text(x=j, y=i,s=cm[i, j], va='center', ha='center', size='xx-large')\n",
    " \n",
    "plt.xlabel('Predictions', fontsize=18)\n",
    "plt.ylabel('Truth', fontsize=18)\n",
    "plt.title('Speaker Confusion Matrix', fontsize=18)\n",
    "plt.xticks(list(range(12)))\n",
    "plt.yticks(list(range(12)))\n",
    "plt.show()"
   ]
  },
  {
   "cell_type": "code",
   "execution_count": null,
   "metadata": {},
   "outputs": [],
   "source": []
  }
 ],
 "metadata": {
  "kernelspec": {
   "display_name": "genn_5_1_0",
   "language": "python",
   "name": "python3"
  },
  "language_info": {
   "codemirror_mode": {
    "name": "ipython",
    "version": 3
   },
   "file_extension": ".py",
   "mimetype": "text/x-python",
   "name": "python",
   "nbconvert_exporter": "python",
   "pygments_lexer": "ipython3",
   "version": "3.10.12"
  }
 },
 "nbformat": 4,
 "nbformat_minor": 2
}

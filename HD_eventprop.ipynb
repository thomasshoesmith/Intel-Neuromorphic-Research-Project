{
 "cells": [
  {
   "cell_type": "code",
   "execution_count": 1,
   "metadata": {},
   "outputs": [
    {
     "name": "stdout",
     "output_type": "stream",
     "text": [
      "env: CUDA_PATH=/usr/local/cuda\n"
     ]
    }
   ],
   "source": [
    "%env CUDA_PATH=/usr/local/cuda"
   ]
  },
  {
   "cell_type": "code",
   "execution_count": 2,
   "metadata": {},
   "outputs": [],
   "source": [
    "#export CUDA_PATH=/usr/local/cuda\n",
    "import numpy as np\n",
    "import matplotlib.pyplot as plt\n",
    "import csv\n",
    "import pandas as pd\n",
    "from tqdm import trange\n",
    "import os\n",
    "\n",
    "from ml_genn import InputLayer, Layer, SequentialNetwork\n",
    "from ml_genn.callbacks import Checkpoint, SpikeRecorder, VarRecorder, Callback\n",
    "from ml_genn.compilers import EventPropCompiler, InferenceCompiler\n",
    "from ml_genn.connectivity import Dense\n",
    "from ml_genn.initializers import Normal\n",
    "from ml_genn.neurons import LeakyIntegrate, LeakyIntegrateFire, SpikeInput, LeakyIntegrateFireInput\n",
    "from ml_genn.optimisers import Adam\n",
    "from ml_genn.serialisers import Numpy\n",
    "from ml_genn.synapses import Exponential\n",
    "from time import perf_counter\n",
    "\n",
    "from ml_genn.utils.data import (calc_latest_spike_time, linear_latency_encode_data)\n",
    "\n",
    "from ml_genn.compilers.event_prop_compiler import default_params\n",
    "\n",
    "import random\n",
    "import librosa"
   ]
  },
  {
   "cell_type": "code",
   "execution_count": 16,
   "metadata": {},
   "outputs": [],
   "source": [
    "# constants\n",
    "params = {}\n",
    "params[\"NUM_INPUT\"] = 40\n",
    "params[\"NUM_HIDDEN\"] = 256\n",
    "params[\"NUM_OUTPUT\"] = 20\n",
    "params[\"BATCH_SIZE\"] = 128\n",
    "params[\"INPUT_FRAME_TIMESTEP\"] = 2\n",
    "params[\"INPUT_SCALE\"] = 0.008\n",
    "params[\"NUM_EPOCH\"] = 50\n",
    "params[\"NUM_FRAMES\"] = 80\n",
    "params[\"verbose\"] = True\n",
    "params[\"lr\"] = 0.01\n",
    "\n",
    "#weights\n",
    "params[\"hidden_w_mean\"] = 0.0 #0.5\n",
    "params[\"hidden_w_sd\"] = 3.5 #4.0\n",
    "params[\"output_w_mean\"] = 3.0 #0.5\n",
    "params[\"output_w_sd\"] = 1.5 #1\n",
    "\n",
    "file_path = \"/its/home/ts468/data/rawHD/experimental_2/\""
   ]
  },
  {
   "cell_type": "code",
   "execution_count": 4,
   "metadata": {},
   "outputs": [],
   "source": [
    "# change dir for readout files\n",
    "try:\n",
    "    os.mkdir(\"HD_eventprop_output\")\n",
    "except:\n",
    "    pass\n",
    "\n",
    "os.chdir(\"HD_eventprop_output\")\n",
    "\n",
    "# Load testing data\n",
    "x_train = np.load(file_path + \"training_x_data.npy\")\n",
    "y_train = np.load(file_path + \"training_y_data.npy\")\n",
    "\n",
    "x_test = np.load(file_path + \"testing_x_data.npy\")\n",
    "y_test = np.load(file_path + \"testing_y_data.npy\")\n",
    "\n",
    "training_details = pd.read_csv(file_path + \"training_details.csv\")\n",
    "testing_details = pd.read_csv(file_path + \"testing_details.csv\")\n",
    "\n",
    "training_images = np.swapaxes(x_train, 1, 2) \n",
    "testing_images = np.swapaxes(x_test, 1, 2) \n",
    "\n",
    "training_images = training_images + abs(np.floor(training_images.min()))\n",
    "testing_images = testing_images + abs(np.floor(testing_images.min()))\n",
    "\n",
    "training_labels = y_train\n",
    "testing_labels = y_test\n",
    "\n",
    "if params.get(\"verbose\"): print(testing_details.head())\n",
    "speaker_id = np.sort(testing_details.Speaker.unique())\n",
    "if params.get(\"verbose\"): print(np.sort(testing_details.Speaker.unique()))"
   ]
  },
  {
   "cell_type": "code",
   "execution_count": 5,
   "metadata": {},
   "outputs": [],
   "source": [
    "# readout class\n",
    "\n",
    "class CSVTrainLog(Callback):\n",
    "    def __init__(self, filename, output_pop, resume):\n",
    "        # Create CSV writer\n",
    "        self.file = open(filename, \"a\" if resume else \"w\")\n",
    "        self.csv_writer = csv.writer(self.file, delimiter=\",\")\n",
    "\n",
    "        # Write header row if we're not resuming from an existing training run\n",
    "        if not resume:\n",
    "            self.csv_writer.writerow([\"Epoch\", \"Num trials\", \"Number correct\", \"accuracy\", \"Time\"])\n",
    "\n",
    "        self.output_pop = output_pop\n",
    "\n",
    "    def on_epoch_begin(self, epoch):\n",
    "        self.start_time = perf_counter()\n",
    "\n",
    "    def on_epoch_end(self, epoch, metrics):\n",
    "        m = metrics[self.output_pop]\n",
    "        self.csv_writer.writerow([epoch, \n",
    "                                m.total, \n",
    "                                m.correct,\n",
    "                                m.correct / m.total,\n",
    "                                perf_counter() - self.start_time])\n",
    "        self.file.flush()\n",
    "        "
   ]
  },
  {
   "cell_type": "code",
   "execution_count": 6,
   "metadata": {},
   "outputs": [],
   "source": [
    "# Create sequential model\n",
    "serialiser = Numpy(\"latency_hd_checkpoints\")\n",
    "network = SequentialNetwork(default_params)\n",
    "with network:\n",
    "    # Populations\n",
    "    input = InputLayer(LeakyIntegrateFireInput(v_thresh=4,\n",
    "                                            tau_mem=10, \n",
    "                                            input_frames=params.get(\"NUM_FRAMES\"), \n",
    "                                            input_frame_timesteps=params.get(\"INPUT_FRAME_TIMESTEP\")),\n",
    "                        params.get(\"NUM_INPUT\"), \n",
    "                        record_spikes = True)\n",
    "    \n",
    "    hidden = Layer(Dense(Normal(mean = params.get(\"hidden_w_mean\"), # m = .5, sd = 4 ~ 68%\n",
    "                                sd = params.get(\"hidden_w_sd\"))), \n",
    "                LeakyIntegrateFire(v_thresh=5.0, \n",
    "                                    tau_mem=20.0,\n",
    "                                    tau_refrac=None),\n",
    "                params.get(\"NUM_HIDDEN\"), \n",
    "                Exponential(5.0), #5\n",
    "                record_spikes=True)\n",
    "    \n",
    "    output = Layer(Dense(Normal(mean = params.get(\"output_w_mean\"), # m = 0.5, sd = 1 @ ~ 66\n",
    "                                sd = params.get(\"output_w_sd\"))),\n",
    "                LeakyIntegrate(tau_mem=20.0, \n",
    "                                readout=\"avg_var\"),\n",
    "                params.get(\"NUM_OUTPUT\"), \n",
    "                Exponential(5.0), #5\n",
    "                record_spikes=True)"
   ]
  },
  {
   "cell_type": "code",
   "execution_count": 7,
   "metadata": {},
   "outputs": [
    {
     "name": "stderr",
     "output_type": "stream",
     "text": [
      "./EventPropCompiler_CODE/synapseUpdateCUDAOptim.cc(59): warning #177-D: variable \"shLg\" was declared but never referenced\n",
      "\n",
      "./EventPropCompiler_CODE/neuronUpdateCUDAOptim.cc(190): warning #177-D: variable \"lYTrue\" was declared but never referenced\n",
      "\n",
      "./EventPropCompiler_CODE/customUpdateCUDAOptim.cc(423): warning #177-D: variable \"batchOffset\" was declared but never referenced\n",
      "\n",
      "./EventPropCompiler_CODE/synapseUpdateCUDAOptim.cc(59): warning #177-D: variable \"shLg\" was declared but never referenced\n",
      "\n",
      "./EventPropCompiler_CODE/neuronUpdateCUDAOptim.cc(190): warning #177-D: variable \"lYTrue\" was declared but never referenced\n",
      "\n",
      "./EventPropCompiler_CODE/customUpdateCUDAOptim.cc(423): warning #177-D: variable \"batchOffset\" was declared but never referenced\n",
      "\n"
     ]
    },
    {
     "name": "stdout",
     "output_type": "stream",
     "text": [
      "swig/python detected a memory leak of type 'CodeGenerator::CUDA::Backend *', no destructor found.\n",
      "make: Entering directory '/its/home/ts468/PhD/Intel-Neuromorphic-Research-Project/HD_eventprop_output/EventPropCompiler_CODE'\n"
     ]
    },
    {
     "name": "stderr",
     "output_type": "stream",
     "text": [
      "synapseUpdate.cc(59): warning #177-D: variable \"shLg\" was declared but never referenced\n",
      "\n",
      "neuronUpdate.cc(190): warning #177-D: variable \"lYTrue\" was declared but never referenced\n",
      "\n",
      "customUpdate.cc(423): warning #177-D: variable \"batchOffset\" was declared but never referenced\n",
      "\n"
     ]
    },
    {
     "name": "stdout",
     "output_type": "stream",
     "text": [
      "make: Leaving directory '/its/home/ts468/PhD/Intel-Neuromorphic-Research-Project/HD_eventprop_output/EventPropCompiler_CODE'\n"
     ]
    },
    {
     "name": "stderr",
     "output_type": "stream",
     "text": [
      "/its/home/ts468/PhD/pythonenv/genn_4_8_1/ve/genn_4_8_1/lib/python3.8/site-packages/tqdm-4.65.0-py3.8.egg/tqdm/auto.py:21: TqdmWarning: IProgress not found. Please update jupyter and ipywidgets. See https://ipywidgets.readthedocs.io/en/stable/user_install.html\n",
      "  from .autonotebook import tqdm as notebook_tqdm\n",
      "Epoch 49: 100%|██████████| 64/64 [00:00<00:00, 91.28it/s, SparseCategoricalAccuracy: 0.8605]\n"
     ]
    }
   ],
   "source": [
    "compiler = EventPropCompiler(example_timesteps = params.get(\"NUM_FRAMES\") * params.get(\"INPUT_FRAME_TIMESTEP\"),\n",
    "                        losses=\"sparse_categorical_crossentropy\",\n",
    "                        optimiser=Adam(params.get(\"lr\")), batch_size = params.get(\"BATCH_SIZE\"))\n",
    "\n",
    "\n",
    "compiled_net = compiler.compile(network)\n",
    "\n",
    "with compiled_net:\n",
    "    # Evaluate model on numpy dataset\n",
    "    start_epoch = 0\n",
    "    callbacks = [\"batch_progress_bar\", \n",
    "                Checkpoint(serialiser), \n",
    "                CSVTrainLog(\"train_output.csv\", \n",
    "                            output,\n",
    "                            False),\n",
    "                SpikeRecorder(hidden, key = \"hidden_spike_counts\", record_counts = True)]\n",
    "        \n",
    "    metrics, cb_data_training  = compiled_net.train({input: training_images * params.get(\"INPUT_SCALE\")},\n",
    "                                    {output: training_labels},\n",
    "                                    num_epochs = params.get(\"NUM_EPOCH\"), \n",
    "                                    shuffle=True,\n",
    "                                    #validation_split = 0.1,\n",
    "                                    callbacks = callbacks)"
   ]
  },
  {
   "cell_type": "code",
   "execution_count": 8,
   "metadata": {},
   "outputs": [
    {
     "data": {
      "text/plain": [
       "409600"
      ]
     },
     "execution_count": 8,
     "metadata": {},
     "output_type": "execute_result"
    }
   ],
   "source": [
    "len(cb_data_training[\"hidden_spike_counts\"])"
   ]
  },
  {
   "cell_type": "code",
   "execution_count": 9,
   "metadata": {},
   "outputs": [
    {
     "data": {
      "text/plain": [
       "list"
      ]
     },
     "execution_count": 9,
     "metadata": {},
     "output_type": "execute_result"
    }
   ],
   "source": [
    "type(cb_data_training[\"hidden_spike_counts\"])"
   ]
  },
  {
   "cell_type": "code",
   "execution_count": 10,
   "metadata": {},
   "outputs": [
    {
     "data": {
      "text/plain": [
       "'/its/home/ts468/PhD/Intel-Neuromorphic-Research-Project/HD_eventprop_output'"
      ]
     },
     "execution_count": 10,
     "metadata": {},
     "output_type": "execute_result"
    }
   ],
   "source": [
    "os.getcwd()"
   ]
  },
  {
   "cell_type": "code",
   "execution_count": 11,
   "metadata": {},
   "outputs": [],
   "source": [
    "with open('hidden_spike_counts.npy', 'wb') as f:\n",
    "    np.save(f, cb_data_training[\"hidden_spike_counts\"])"
   ]
  },
  {
   "cell_type": "code",
   "execution_count": 12,
   "metadata": {},
   "outputs": [
    {
     "name": "stderr",
     "output_type": "stream",
     "text": [
      "./InferenceCompiler_CODE/synapseUpdateCUDAOptim.cc(49): warning #177-D: variable \"synBatchOffset\" was declared but never referenced\n",
      "\n",
      "./InferenceCompiler_CODE/synapseUpdateCUDAOptim.cc(49): warning #177-D: variable \"synBatchOffset\" was declared but never referenced\n",
      "\n"
     ]
    },
    {
     "name": "stdout",
     "output_type": "stream",
     "text": [
      "swig/python detected a memory leak of type 'CodeGenerator::CUDA::Backend *', no destructor found.\n",
      "make: Entering directory '/its/home/ts468/PhD/Intel-Neuromorphic-Research-Project/HD_eventprop_output/InferenceCompiler_CODE'\n"
     ]
    },
    {
     "name": "stderr",
     "output_type": "stream",
     "text": [
      "synapseUpdate.cc(49): warning #177-D: variable \"synBatchOffset\" was declared but never referenced\n",
      "\n"
     ]
    },
    {
     "name": "stdout",
     "output_type": "stream",
     "text": [
      "make: Leaving directory '/its/home/ts468/PhD/Intel-Neuromorphic-Research-Project/HD_eventprop_output/InferenceCompiler_CODE'\n"
     ]
    },
    {
     "name": "stderr",
     "output_type": "stream",
     "text": [
      "100%|██████████| 64/64 [00:01<00:00, 34.59it/s, SparseCategoricalAccuracy: 0.8789]\n"
     ]
    }
   ],
   "source": [
    "# evaluate\n",
    "\n",
    "network.load((params.get(\"NUM_EPOCH\") - 1,), serialiser)\n",
    "\n",
    "compiler = InferenceCompiler(evaluate_timesteps = params.get(\"NUM_FRAMES\") * params.get(\"INPUT_FRAME_TIMESTEP\"),\n",
    "                            reset_in_syn_between_batches=True,\n",
    "                            batch_size = params.get(\"BATCH_SIZE\"))\n",
    "compiled_net = compiler.compile(network)\n",
    "\n",
    "with compiled_net:\n",
    "    callbacks = [\"batch_progress_bar\", \n",
    "                SpikeRecorder(input, key=\"input_spikes\"), \n",
    "                SpikeRecorder(hidden, key=\"hidden_spikes\"),\n",
    "                SpikeRecorder(output, key=\"output_spikes\"),\n",
    "                VarRecorder(output, \"v\", key=\"v_output\")]\n",
    "\n",
    "    metrics, cb_data = compiled_net.evaluate({input: training_images * params.get(\"INPUT_SCALE\")},\n",
    "                                            {output: training_labels},\n",
    "                                            callbacks = callbacks)"
   ]
  },
  {
   "cell_type": "code",
   "execution_count": 17,
   "metadata": {},
   "outputs": [
    {
     "data": {
      "image/png": "[encoded data removed]",
      "text/plain": [
       "<Figure size 640x480 with 4 Axes>"
      ]
     },
     "metadata": {},
     "output_type": "display_data"
    },
    {
     "ename": "FileNotFoundError",
     "evalue": "[Errno 2] No such file or directory: 'train_output.csv'",
     "output_type": "error",
     "traceback": [
      "\u001b[0;31m---------------------------------------------------------------------------\u001b[0m",
      "\u001b[0;31mFileNotFoundError\u001b[0m                         Traceback (most recent call last)",
      "Cell \u001b[0;32mIn[17], line 44\u001b[0m\n\u001b[1;32m     40\u001b[0m fig\u001b[39m.\u001b[39mtight_layout()\n\u001b[1;32m     42\u001b[0m plt\u001b[39m.\u001b[39mshow()\n\u001b[0;32m---> 44\u001b[0m data \u001b[39m=\u001b[39m pd\u001b[39m.\u001b[39;49mread_csv(\u001b[39m\"\u001b[39;49m\u001b[39mtrain_output.csv\u001b[39;49m\u001b[39m\"\u001b[39;49m)\n\u001b[1;32m     45\u001b[0m df \u001b[39m=\u001b[39m pd\u001b[39m.\u001b[39mDataFrame(data, columns\u001b[39m=\u001b[39m[\u001b[39m'\u001b[39m\u001b[39maccuracy\u001b[39m\u001b[39m'\u001b[39m])\n\u001b[1;32m     47\u001b[0m accuracy \u001b[39m=\u001b[39m np\u001b[39m.\u001b[39marray(df)\n",
      "File \u001b[0;32m~/PhD/pythonenv/genn_4_8_1/ve/genn_4_8_1/lib/python3.8/site-packages/pandas/io/parsers/readers.py:912\u001b[0m, in \u001b[0;36mread_csv\u001b[0;34m(filepath_or_buffer, sep, delimiter, header, names, index_col, usecols, dtype, engine, converters, true_values, false_values, skipinitialspace, skiprows, skipfooter, nrows, na_values, keep_default_na, na_filter, verbose, skip_blank_lines, parse_dates, infer_datetime_format, keep_date_col, date_parser, date_format, dayfirst, cache_dates, iterator, chunksize, compression, thousands, decimal, lineterminator, quotechar, quoting, doublequote, escapechar, comment, encoding, encoding_errors, dialect, on_bad_lines, delim_whitespace, low_memory, memory_map, float_precision, storage_options, dtype_backend)\u001b[0m\n\u001b[1;32m    899\u001b[0m kwds_defaults \u001b[39m=\u001b[39m _refine_defaults_read(\n\u001b[1;32m    900\u001b[0m     dialect,\n\u001b[1;32m    901\u001b[0m     delimiter,\n\u001b[0;32m   (...)\u001b[0m\n\u001b[1;32m    908\u001b[0m     dtype_backend\u001b[39m=\u001b[39mdtype_backend,\n\u001b[1;32m    909\u001b[0m )\n\u001b[1;32m    910\u001b[0m kwds\u001b[39m.\u001b[39mupdate(kwds_defaults)\n\u001b[0;32m--> 912\u001b[0m \u001b[39mreturn\u001b[39;00m _read(filepath_or_buffer, kwds)\n",
      "File \u001b[0;32m~/PhD/pythonenv/genn_4_8_1/ve/genn_4_8_1/lib/python3.8/site-packages/pandas/io/parsers/readers.py:577\u001b[0m, in \u001b[0;36m_read\u001b[0;34m(filepath_or_buffer, kwds)\u001b[0m\n\u001b[1;32m    574\u001b[0m _validate_names(kwds\u001b[39m.\u001b[39mget(\u001b[39m\"\u001b[39m\u001b[39mnames\u001b[39m\u001b[39m\"\u001b[39m, \u001b[39mNone\u001b[39;00m))\n\u001b[1;32m    576\u001b[0m \u001b[39m# Create the parser.\u001b[39;00m\n\u001b[0;32m--> 577\u001b[0m parser \u001b[39m=\u001b[39m TextFileReader(filepath_or_buffer, \u001b[39m*\u001b[39;49m\u001b[39m*\u001b[39;49mkwds)\n\u001b[1;32m    579\u001b[0m \u001b[39mif\u001b[39;00m chunksize \u001b[39mor\u001b[39;00m iterator:\n\u001b[1;32m    580\u001b[0m     \u001b[39mreturn\u001b[39;00m parser\n",
      "File \u001b[0;32m~/PhD/pythonenv/genn_4_8_1/ve/genn_4_8_1/lib/python3.8/site-packages/pandas/io/parsers/readers.py:1407\u001b[0m, in \u001b[0;36mTextFileReader.__init__\u001b[0;34m(self, f, engine, **kwds)\u001b[0m\n\u001b[1;32m   1404\u001b[0m     \u001b[39mself\u001b[39m\u001b[39m.\u001b[39moptions[\u001b[39m\"\u001b[39m\u001b[39mhas_index_names\u001b[39m\u001b[39m\"\u001b[39m] \u001b[39m=\u001b[39m kwds[\u001b[39m\"\u001b[39m\u001b[39mhas_index_names\u001b[39m\u001b[39m\"\u001b[39m]\n\u001b[1;32m   1406\u001b[0m \u001b[39mself\u001b[39m\u001b[39m.\u001b[39mhandles: IOHandles \u001b[39m|\u001b[39m \u001b[39mNone\u001b[39;00m \u001b[39m=\u001b[39m \u001b[39mNone\u001b[39;00m\n\u001b[0;32m-> 1407\u001b[0m \u001b[39mself\u001b[39m\u001b[39m.\u001b[39m_engine \u001b[39m=\u001b[39m \u001b[39mself\u001b[39;49m\u001b[39m.\u001b[39;49m_make_engine(f, \u001b[39mself\u001b[39;49m\u001b[39m.\u001b[39;49mengine)\n",
      "File \u001b[0;32m~/PhD/pythonenv/genn_4_8_1/ve/genn_4_8_1/lib/python3.8/site-packages/pandas/io/parsers/readers.py:1661\u001b[0m, in \u001b[0;36mTextFileReader._make_engine\u001b[0;34m(self, f, engine)\u001b[0m\n\u001b[1;32m   1659\u001b[0m     \u001b[39mif\u001b[39;00m \u001b[39m\"\u001b[39m\u001b[39mb\u001b[39m\u001b[39m\"\u001b[39m \u001b[39mnot\u001b[39;00m \u001b[39min\u001b[39;00m mode:\n\u001b[1;32m   1660\u001b[0m         mode \u001b[39m+\u001b[39m\u001b[39m=\u001b[39m \u001b[39m\"\u001b[39m\u001b[39mb\u001b[39m\u001b[39m\"\u001b[39m\n\u001b[0;32m-> 1661\u001b[0m \u001b[39mself\u001b[39m\u001b[39m.\u001b[39mhandles \u001b[39m=\u001b[39m get_handle(\n\u001b[1;32m   1662\u001b[0m     f,\n\u001b[1;32m   1663\u001b[0m     mode,\n\u001b[1;32m   1664\u001b[0m     encoding\u001b[39m=\u001b[39;49m\u001b[39mself\u001b[39;49m\u001b[39m.\u001b[39;49moptions\u001b[39m.\u001b[39;49mget(\u001b[39m\"\u001b[39;49m\u001b[39mencoding\u001b[39;49m\u001b[39m\"\u001b[39;49m, \u001b[39mNone\u001b[39;49;00m),\n\u001b[1;32m   1665\u001b[0m     compression\u001b[39m=\u001b[39;49m\u001b[39mself\u001b[39;49m\u001b[39m.\u001b[39;49moptions\u001b[39m.\u001b[39;49mget(\u001b[39m\"\u001b[39;49m\u001b[39mcompression\u001b[39;49m\u001b[39m\"\u001b[39;49m, \u001b[39mNone\u001b[39;49;00m),\n\u001b[1;32m   1666\u001b[0m     memory_map\u001b[39m=\u001b[39;49m\u001b[39mself\u001b[39;49m\u001b[39m.\u001b[39;49moptions\u001b[39m.\u001b[39;49mget(\u001b[39m\"\u001b[39;49m\u001b[39mmemory_map\u001b[39;49m\u001b[39m\"\u001b[39;49m, \u001b[39mFalse\u001b[39;49;00m),\n\u001b[1;32m   1667\u001b[0m     is_text\u001b[39m=\u001b[39;49mis_text,\n\u001b[1;32m   1668\u001b[0m     errors\u001b[39m=\u001b[39;49m\u001b[39mself\u001b[39;49m\u001b[39m.\u001b[39;49moptions\u001b[39m.\u001b[39;49mget(\u001b[39m\"\u001b[39;49m\u001b[39mencoding_errors\u001b[39;49m\u001b[39m\"\u001b[39;49m, \u001b[39m\"\u001b[39;49m\u001b[39mstrict\u001b[39;49m\u001b[39m\"\u001b[39;49m),\n\u001b[1;32m   1669\u001b[0m     storage_options\u001b[39m=\u001b[39;49m\u001b[39mself\u001b[39;49m\u001b[39m.\u001b[39;49moptions\u001b[39m.\u001b[39;49mget(\u001b[39m\"\u001b[39;49m\u001b[39mstorage_options\u001b[39;49m\u001b[39m\"\u001b[39;49m, \u001b[39mNone\u001b[39;49;00m),\n\u001b[1;32m   1670\u001b[0m )\n\u001b[1;32m   1671\u001b[0m \u001b[39massert\u001b[39;00m \u001b[39mself\u001b[39m\u001b[39m.\u001b[39mhandles \u001b[39mis\u001b[39;00m \u001b[39mnot\u001b[39;00m \u001b[39mNone\u001b[39;00m\n\u001b[1;32m   1672\u001b[0m f \u001b[39m=\u001b[39m \u001b[39mself\u001b[39m\u001b[39m.\u001b[39mhandles\u001b[39m.\u001b[39mhandle\n",
      "File \u001b[0;32m~/PhD/pythonenv/genn_4_8_1/ve/genn_4_8_1/lib/python3.8/site-packages/pandas/io/common.py:859\u001b[0m, in \u001b[0;36mget_handle\u001b[0;34m(path_or_buf, mode, encoding, compression, memory_map, is_text, errors, storage_options)\u001b[0m\n\u001b[1;32m    854\u001b[0m \u001b[39melif\u001b[39;00m \u001b[39misinstance\u001b[39m(handle, \u001b[39mstr\u001b[39m):\n\u001b[1;32m    855\u001b[0m     \u001b[39m# Check whether the filename is to be opened in binary mode.\u001b[39;00m\n\u001b[1;32m    856\u001b[0m     \u001b[39m# Binary mode does not support 'encoding' and 'newline'.\u001b[39;00m\n\u001b[1;32m    857\u001b[0m     \u001b[39mif\u001b[39;00m ioargs\u001b[39m.\u001b[39mencoding \u001b[39mand\u001b[39;00m \u001b[39m\"\u001b[39m\u001b[39mb\u001b[39m\u001b[39m\"\u001b[39m \u001b[39mnot\u001b[39;00m \u001b[39min\u001b[39;00m ioargs\u001b[39m.\u001b[39mmode:\n\u001b[1;32m    858\u001b[0m         \u001b[39m# Encoding\u001b[39;00m\n\u001b[0;32m--> 859\u001b[0m         handle \u001b[39m=\u001b[39m \u001b[39mopen\u001b[39;49m(\n\u001b[1;32m    860\u001b[0m             handle,\n\u001b[1;32m    861\u001b[0m             ioargs\u001b[39m.\u001b[39;49mmode,\n\u001b[1;32m    862\u001b[0m             encoding\u001b[39m=\u001b[39;49mioargs\u001b[39m.\u001b[39;49mencoding,\n\u001b[1;32m    863\u001b[0m             errors\u001b[39m=\u001b[39;49merrors,\n\u001b[1;32m    864\u001b[0m             newline\u001b[39m=\u001b[39;49m\u001b[39m\"\u001b[39;49m\u001b[39m\"\u001b[39;49m,\n\u001b[1;32m    865\u001b[0m         )\n\u001b[1;32m    866\u001b[0m     \u001b[39melse\u001b[39;00m:\n\u001b[1;32m    867\u001b[0m         \u001b[39m# Binary mode\u001b[39;00m\n\u001b[1;32m    868\u001b[0m         handle \u001b[39m=\u001b[39m \u001b[39mopen\u001b[39m(handle, ioargs\u001b[39m.\u001b[39mmode)\n",
      "\u001b[0;31mFileNotFoundError\u001b[0m: [Errno 2] No such file or directory: 'train_output.csv'"
     ]
    }
   ],
   "source": [
    "if params.get(\"verbose\"):\n",
    "    # cannot print verbose whilst requesting just accuracy\n",
    "    fig, ((ax1, ax2), (ax3, ax4)) = plt.subplots(2, 2)\n",
    "    fig.suptitle('rawHD with EventProp on ml_genn')\n",
    "\n",
    "    value = random.randint(0, len(x_test))\n",
    "\n",
    "    ax1.scatter(cb_data[\"hidden_spikes\"][0][value], \n",
    "                cb_data[\"hidden_spikes\"][1][value], s=1)\n",
    "    ax1.set_xlabel(\"Time [ms]\")\n",
    "    ax1.set_ylabel(\"Neuron ID\")\n",
    "    ax1.set_title(\"Hidden\")\n",
    "    ax1.set_xlim(0, params.get(\"NUM_FRAMES\") * params.get(\"INPUT_FRAME_TIMESTEP\"))\n",
    "    ax1.set_ylim(0, params.get(\"NUM_INPUT\"))\n",
    "\n",
    "    ax2.scatter(cb_data[\"input_spikes\"][0][value], \n",
    "                cb_data[\"input_spikes\"][1][value], s=1)\n",
    "    ax2.set_xlabel(\"Time [ms]\")\n",
    "    ax2.set_ylabel(\"Neuron ID\")\n",
    "    ax2.set_title(\"Input\")\n",
    "    ax2.set_xlim(0, params.get(\"NUM_FRAMES\") * params.get(\"INPUT_FRAME_TIMESTEP\"))\n",
    "    ax2.set_ylim(0, params.get(\"NUM_INPUT\"))\n",
    "\n",
    "    ax3.plot(cb_data[\"v_output\"][value])\n",
    "    ax3.set_xlabel(\"Time [ms]\")\n",
    "    ax3.set_ylabel(\"voltage (v)\")\n",
    "    ax3.set_title(\"Output voltage\")\n",
    "    ax3.set_xlim(0, params.get(\"NUM_FRAMES\") * params.get(\"INPUT_FRAME_TIMESTEP\"))\n",
    "    #ax3.set_ylim(0, params.get(\"NUM_INPUT\"))\n",
    "\n",
    "    sr = 22050\n",
    "    img = librosa.display.specshow(x_train[value], \n",
    "                            x_axis='time', \n",
    "                            y_axis='mel', \n",
    "                            sr=sr, \n",
    "                            cmap='viridis')\n",
    "    #fig.colorbar(img, ax = ax4)\n",
    "    ax4.set_title(\"mel encoding\")\n",
    "\n",
    "    fig.tight_layout()\n",
    "\n",
    "    plt.show()\n",
    "    \n",
    "    data = pd.read_csv(\"train_output.csv\")\n",
    "    df = pd.DataFrame(data, columns=['accuracy'])\n",
    "\n",
    "    accuracy = np.array(df)\n",
    "\n",
    "    accuracy = accuracy * 100\n",
    "\n",
    "    validation = []\n",
    "    training = []\n",
    "\n",
    "    for i in range(len(accuracy)):\n",
    "        if i % 2 == 0:\n",
    "            training.append(float(accuracy[i]))\n",
    "        else:\n",
    "            validation.append(float(accuracy[i]))\n",
    "                        \n",
    "    plt.plot(training, label = \"training\")\n",
    "    plt.plot(validation, label = \"validation\")\n",
    "    plt.ylabel(\"accuracy (%)\")\n",
    "    plt.xlabel(\"epochs\")\n",
    "    plt.title(\"accuracy during training\")\n",
    "    plt.legend()\n",
    "    plt.show()\n"
   ]
  },
  {
   "cell_type": "code",
   "execution_count": 14,
   "metadata": {},
   "outputs": [],
   "source": [
    "\n",
    "    \n",
    "\n",
    "    \n",
    "    \n",
    "\n",
    "    \n",
    "\n",
    "\n",
    "# reset directory\n",
    "\n",
    "os.chdir(\"..\")\n"
   ]
  }
 ],
 "metadata": {
  "kernelspec": {
   "display_name": "genn_4_8_1",
   "language": "python",
   "name": "python3"
  },
  "language_info": {
   "codemirror_mode": {
    "name": "ipython",
    "version": 3
   },
   "file_extension": ".py",
   "mimetype": "text/x-python",
   "name": "python",
   "nbconvert_exporter": "python",
   "pygments_lexer": "ipython3",
   "version": "3.8.10"
  },
  "orig_nbformat": 4
 },
 "nbformat": 4,
 "nbformat_minor": 2
}

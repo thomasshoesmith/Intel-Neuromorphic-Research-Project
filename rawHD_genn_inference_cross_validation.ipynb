{
 "cells": [
  {
   "cell_type": "code",
   "execution_count": 1,
   "metadata": {},
   "outputs": [
    {
     "name": "stdout",
     "output_type": "stream",
     "text": [
      "env: CUDA_PATH=/usr/local/cuda\n"
     ]
    }
   ],
   "source": [
    "%env CUDA_PATH=/usr/local/cuda"
   ]
  },
  {
   "cell_type": "code",
   "execution_count": 2,
   "metadata": {},
   "outputs": [],
   "source": [
    "import os\n",
    "import numpy as np\n",
    "import opendatasets as od\n",
    "import matplotlib.pyplot as plt\n",
    "import json\n",
    "import pandas as pd\n",
    "\n",
    "from ml_genn import Network, Population, Connection\n",
    "from ml_genn.callbacks import SpikeRecorder, VarRecorder\n",
    "from ml_genn.compilers import InferenceCompiler\n",
    "from ml_genn.connectivity import Dense\n",
    "from ml_genn.neurons import LeakyIntegrate, LeakyIntegrateFire, SpikeInput\n",
    "from ml_genn.synapses import Exponential\n",
    "\n",
    "from ml_genn.utils.data import calc_latest_spike_time\n",
    "from ml_genn.compilers.event_prop_compiler import default_params\n",
    "\n",
    "from ml_genn.utils.data import (calc_latest_spike_time, calc_max_spikes,\n",
    "                                preprocess_tonic_spikes)\n",
    "\n",
    "from rawHD_dataset_loader_padded_spikes import rawHD_Loader"
   ]
  },
  {
   "cell_type": "code",
   "execution_count": 3,
   "metadata": {},
   "outputs": [],
   "source": [
    "# sample ID used for visual\n",
    "sample_id = 0"
   ]
  },
  {
   "cell_type": "code",
   "execution_count": 4,
   "metadata": {},
   "outputs": [],
   "source": [
    "cwd_dir = os.getcwd()\n",
    "output_dir = os.path.expanduser(cwd_dir) + \"/output/rawHD_test_run_11_cross_validation/\"\n",
    "param_dir = \"params.json\"\n",
    "\n",
    "with open((output_dir + param_dir), \"r\") as f:\n",
    "        params = json.load(f)\n",
    "        \n",
    "training_details = pd.read_csv(os.getcwd() + params.get(\"dataset_directory\") + \"training_details.csv\")\n",
    "testing_details = pd.read_csv(os.getcwd() + params.get(\"dataset_directory\") + \"testing_details.csv\")"
   ]
  },
  {
   "cell_type": "code",
   "execution_count": 5,
   "metadata": {},
   "outputs": [],
   "source": [
    "x_train, y_train, x_test, y_test, x_validation, y_validation = rawHD_Loader(dir = os.getcwd() + \"/raw-spiking-heidleberg-digits-80input/\",\n",
    "                                                                           num_samples=params[\"num_samples\"],\n",
    "                                                                           shuffle = True,\n",
    "                                                                           shuffle_seed = 0,\n",
    "                                                                           process_padded_spikes = False)"
   ]
  },
  {
   "cell_type": "code",
   "execution_count": 6,
   "metadata": {},
   "outputs": [
    {
     "name": "stdout",
     "output_type": "stream",
     "text": [
      "Skipping, found downloaded files in \"./spiking-google-speech-commands\" (use force=True to force download)\n",
      "Max spikes 2190, latest spike time 1599\n"
     ]
    }
   ],
   "source": [
    "# Kaggle dataset directory\n",
    "dataset = 'https://www.kaggle.com/datasets/thomasshoesmith/spiking-google-speech-commands/data'\n",
    "\n",
    "# Using opendatasets to download SGSC dataset\n",
    "od.download(dataset)\n",
    "\n",
    "#x_test = np.load(\"spiking-google-speech-commands/testing_x_spikes.npy\", allow_pickle=True)\n",
    "#y_test = np.load(\"spiking-google-speech-commands/testing_y_spikes.npy\", allow_pickle=True)\n",
    "\n",
    "# Preprocess\n",
    "x_test_spikes = []\n",
    "for i in range(len(x_test)):\n",
    "    events = x_test[i]\n",
    "    x_test_spikes.append(preprocess_tonic_spikes(events, \n",
    "                                                  x_test[0].dtype.names,\n",
    "                                                  (params[\"NUM_INPUT\"], 1, 1),\n",
    "                                                  time_scale = 1))\n",
    "\n",
    "# Determine max spikes and latest spike time\n",
    "max_spikes = calc_max_spikes(x_test_spikes)\n",
    "latest_spike_time = calc_latest_spike_time(x_test_spikes)\n",
    "print(f\"Max spikes {max_spikes}, latest spike time {latest_spike_time}\")"
   ]
  },
  {
   "cell_type": "code",
   "execution_count": 7,
   "metadata": {},
   "outputs": [],
   "source": [
    "# change directory for output code of (ML_)GeNN\n",
    "try:\n",
    "    os.makedirs(\"output/\" + params[\"output_dir\"] + \"_inference_run\")\n",
    "except:\n",
    "    pass\n",
    "\n",
    "os.chdir(\"output/\" + params[\"output_dir\"] + \"_inference_run\")"
   ]
  },
  {
   "cell_type": "code",
   "execution_count": 8,
   "metadata": {},
   "outputs": [
    {
     "name": "stdout",
     "output_type": "stream",
     "text": [
      " ! Running Inference for Serialiser 0 !\n",
      "make: Entering directory '/its/home/ts468/PhD/Intel-Neuromorphic-Research-Project/output/rawHD_test_run_11_cross_validation_inference_run/InferenceCompiler_CODE'\n"
     ]
    },
    {
     "name": "stderr",
     "output_type": "stream",
     "text": [
      "/its/home/ts468/PhD/ve/genn_5_0/lib/python3.10/site-packages/tqdm/auto.py:21: TqdmWarning: IProgress not found. Please update jupyter and ipywidgets. See https://ipywidgets.readthedocs.io/en/stable/user_install.html\n",
      "  from .autonotebook import tqdm as notebook_tqdm\n"
     ]
    },
    {
     "name": "stdout",
     "output_type": "stream",
     "text": [
      "make: Leaving directory '/its/home/ts468/PhD/Intel-Neuromorphic-Research-Project/output/rawHD_test_run_11_cross_validation_inference_run/InferenceCompiler_CODE'\n"
     ]
    },
    {
     "name": "stderr",
     "output_type": "stream",
     "text": [
      "100%|██████████| 71/71 [00:00<00:00, 72.58it/s, SparseCategoricalAccuracy: 0.8825]\n"
     ]
    },
    {
     "name": "stdout",
     "output_type": "stream",
     "text": [
      "Accuracy = 88.25088339222616%\n",
      " ! Running Inference for Serialiser 1 !\n",
      "make: Entering directory '/its/home/ts468/PhD/Intel-Neuromorphic-Research-Project/output/rawHD_test_run_11_cross_validation_inference_run/InferenceCompiler_CODE'\n",
      "make: Leaving directory '/its/home/ts468/PhD/Intel-Neuromorphic-Research-Project/output/rawHD_test_run_11_cross_validation_inference_run/InferenceCompiler_CODE'\n"
     ]
    },
    {
     "name": "stderr",
     "output_type": "stream",
     "text": [
      "100%|██████████| 71/71 [00:00<00:00, 73.41it/s, SparseCategoricalAccuracy: 0.8185]\n"
     ]
    },
    {
     "name": "stdout",
     "output_type": "stream",
     "text": [
      "Accuracy = 81.84628975265018%\n",
      " ! Running Inference for Serialiser 2 !\n",
      "make: Entering directory '/its/home/ts468/PhD/Intel-Neuromorphic-Research-Project/output/rawHD_test_run_11_cross_validation_inference_run/InferenceCompiler_CODE'\n",
      "make: Leaving directory '/its/home/ts468/PhD/Intel-Neuromorphic-Research-Project/output/rawHD_test_run_11_cross_validation_inference_run/InferenceCompiler_CODE'\n"
     ]
    },
    {
     "name": "stderr",
     "output_type": "stream",
     "text": [
      "100%|██████████| 71/71 [00:00<00:00, 72.73it/s, SparseCategoricalAccuracy: 0.9011]\n"
     ]
    },
    {
     "name": "stdout",
     "output_type": "stream",
     "text": [
      "Accuracy = 90.10600706713781%\n",
      " ! Running Inference for Serialiser 3 !\n",
      "make: Entering directory '/its/home/ts468/PhD/Intel-Neuromorphic-Research-Project/output/rawHD_test_run_11_cross_validation_inference_run/InferenceCompiler_CODE'\n",
      "make: Leaving directory '/its/home/ts468/PhD/Intel-Neuromorphic-Research-Project/output/rawHD_test_run_11_cross_validation_inference_run/InferenceCompiler_CODE'\n"
     ]
    },
    {
     "name": "stderr",
     "output_type": "stream",
     "text": [
      "100%|██████████| 71/71 [00:00<00:00, 72.36it/s, SparseCategoricalAccuracy: 0.8419]\n"
     ]
    },
    {
     "name": "stdout",
     "output_type": "stream",
     "text": [
      "Accuracy = 84.18727915194346%\n",
      " ! Running Inference for Serialiser 6 !\n",
      "make: Entering directory '/its/home/ts468/PhD/Intel-Neuromorphic-Research-Project/output/rawHD_test_run_11_cross_validation_inference_run/InferenceCompiler_CODE'\n",
      "make: Leaving directory '/its/home/ts468/PhD/Intel-Neuromorphic-Research-Project/output/rawHD_test_run_11_cross_validation_inference_run/InferenceCompiler_CODE'\n"
     ]
    },
    {
     "name": "stderr",
     "output_type": "stream",
     "text": [
      "100%|██████████| 71/71 [00:00<00:00, 73.14it/s, SparseCategoricalAccuracy: 0.8516]\n"
     ]
    },
    {
     "name": "stdout",
     "output_type": "stream",
     "text": [
      "Accuracy = 85.15901060070671%\n",
      " ! Running Inference for Serialiser 7 !\n",
      "make: Entering directory '/its/home/ts468/PhD/Intel-Neuromorphic-Research-Project/output/rawHD_test_run_11_cross_validation_inference_run/InferenceCompiler_CODE'\n",
      "make: Leaving directory '/its/home/ts468/PhD/Intel-Neuromorphic-Research-Project/output/rawHD_test_run_11_cross_validation_inference_run/InferenceCompiler_CODE'\n"
     ]
    },
    {
     "name": "stderr",
     "output_type": "stream",
     "text": [
      "100%|██████████| 71/71 [00:00<00:00, 72.62it/s, SparseCategoricalAccuracy: 0.8410]\n"
     ]
    },
    {
     "name": "stdout",
     "output_type": "stream",
     "text": [
      "Accuracy = 84.09893992932862%\n",
      " ! Running Inference for Serialiser 8 !\n",
      "make: Entering directory '/its/home/ts468/PhD/Intel-Neuromorphic-Research-Project/output/rawHD_test_run_11_cross_validation_inference_run/InferenceCompiler_CODE'\n",
      "make: Leaving directory '/its/home/ts468/PhD/Intel-Neuromorphic-Research-Project/output/rawHD_test_run_11_cross_validation_inference_run/InferenceCompiler_CODE'\n"
     ]
    },
    {
     "name": "stderr",
     "output_type": "stream",
     "text": [
      "100%|██████████| 71/71 [00:00<00:00, 72.60it/s, SparseCategoricalAccuracy: 0.8715]\n"
     ]
    },
    {
     "name": "stdout",
     "output_type": "stream",
     "text": [
      "Accuracy = 87.14664310954063%\n",
      " ! Running Inference for Serialiser 9 !\n",
      "make: Entering directory '/its/home/ts468/PhD/Intel-Neuromorphic-Research-Project/output/rawHD_test_run_11_cross_validation_inference_run/InferenceCompiler_CODE'\n",
      "make: Leaving directory '/its/home/ts468/PhD/Intel-Neuromorphic-Research-Project/output/rawHD_test_run_11_cross_validation_inference_run/InferenceCompiler_CODE'\n"
     ]
    },
    {
     "name": "stderr",
     "output_type": "stream",
     "text": [
      "100%|██████████| 71/71 [00:00<00:00, 73.10it/s, SparseCategoricalAccuracy: 0.8481]\n"
     ]
    },
    {
     "name": "stdout",
     "output_type": "stream",
     "text": [
      "Accuracy = 84.80565371024736%\n",
      " ! Running Inference for Serialiser 10 !\n",
      "make: Entering directory '/its/home/ts468/PhD/Intel-Neuromorphic-Research-Project/output/rawHD_test_run_11_cross_validation_inference_run/InferenceCompiler_CODE'\n",
      "make: Leaving directory '/its/home/ts468/PhD/Intel-Neuromorphic-Research-Project/output/rawHD_test_run_11_cross_validation_inference_run/InferenceCompiler_CODE'\n"
     ]
    },
    {
     "name": "stderr",
     "output_type": "stream",
     "text": [
      "100%|██████████| 71/71 [00:00<00:00, 72.65it/s, SparseCategoricalAccuracy: 0.8626]\n"
     ]
    },
    {
     "name": "stdout",
     "output_type": "stream",
     "text": [
      "Accuracy = 86.26325088339223%\n",
      " ! Running Inference for Serialiser 11 !\n",
      "make: Entering directory '/its/home/ts468/PhD/Intel-Neuromorphic-Research-Project/output/rawHD_test_run_11_cross_validation_inference_run/InferenceCompiler_CODE'\n",
      "make: Leaving directory '/its/home/ts468/PhD/Intel-Neuromorphic-Research-Project/output/rawHD_test_run_11_cross_validation_inference_run/InferenceCompiler_CODE'\n"
     ]
    },
    {
     "name": "stderr",
     "output_type": "stream",
     "text": [
      "100%|██████████| 71/71 [00:00<00:00, 73.02it/s, SparseCategoricalAccuracy: 0.8397]"
     ]
    },
    {
     "name": "stdout",
     "output_type": "stream",
     "text": [
      "Accuracy = 83.96643109540636%\n"
     ]
    },
    {
     "name": "stderr",
     "output_type": "stream",
     "text": [
      "\n"
     ]
    }
   ],
   "source": [
    "accuracy_list = []\n",
    "\n",
    "for speaker in np.sort(training_details.Speaker.unique()):\n",
    "    print(f\" ! Running Inference for Serialiser {speaker} !\")\n",
    "    \n",
    "    # loading pretrained weights\n",
    "    w_i2h = np.load(output_dir + f\"serialiser_{speaker}\" + f\"/{params['NUM_EPOCH'] - 1}-Conn_Pop0_Pop1-g.npy\", allow_pickle = True)\n",
    "    w_i2h = w_i2h.reshape((params[\"NUM_INPUT\"], \n",
    "                        params[\"NUM_HIDDEN\"]))\n",
    "\n",
    "    if params[\"recurrent\"]:\n",
    "        w_h2h = np.load(output_dir + f\"serialiser_{speaker}\" + f\"/{params['NUM_EPOCH'] - 1}-Conn_Pop1_Pop1-g.npy\", allow_pickle = True)\n",
    "        w_h2h = w_h2h.reshape((params[\"NUM_HIDDEN\"],\n",
    "                            params[\"NUM_HIDDEN\"]))\n",
    "\n",
    "    w_h2o = np.load(output_dir + f\"serialiser_{speaker}\" + f\"/{params['NUM_EPOCH'] - 1}-Conn_Pop1_Pop2-g.npy\", allow_pickle = True)\n",
    "    w_h2o = w_h2o.reshape((params[\"NUM_HIDDEN\"], \n",
    "                        params[\"NUM_OUTPUT\"]))\n",
    "    \n",
    "    network = Network(default_params)\n",
    "\n",
    "    with network:\n",
    "        # Populations\n",
    "        input = Population(SpikeInput(max_spikes = params[\"BATCH_SIZE\"] * max_spikes),\n",
    "                        params[\"NUM_INPUT\"],\n",
    "                        record_spikes=True)\n",
    "        \n",
    "        hidden = Population(LeakyIntegrateFire(v_thresh=1.0, \n",
    "                                        tau_mem=20.0),\n",
    "                    params.get(\"NUM_HIDDEN\"), \n",
    "                    record_spikes=True)\n",
    "        \n",
    "        output = Population(LeakyIntegrate(tau_mem=20.0, \n",
    "                                    readout=\"avg_var_exp_weight\"),\n",
    "                    params.get(\"NUM_OUTPUT\"), \n",
    "                    record_spikes=True)\n",
    "\n",
    "        Connection(input, hidden, Dense(weight = w_i2h),\n",
    "                    Exponential(5.0))\n",
    "        \n",
    "        if params.get(\"recurrent\"):\n",
    "            Connection(hidden, hidden, Dense(weight = w_h2h),\n",
    "                    Exponential(5.0))\n",
    "        \n",
    "        Connection(hidden, output, Dense(w_h2o),\n",
    "                    Exponential(5.0))\n",
    "\n",
    "    compiler = InferenceCompiler(evaluate_timesteps = params.get(\"NUM_FRAMES\") * params.get(\"INPUT_FRAME_TIMESTEP\"),\n",
    "                                reset_in_syn_between_batches=True,\n",
    "                                #quantise_num_weight_bits=8,\n",
    "                                #quantise_weight_percentile=99,\n",
    "                                batch_size = params.get(\"BATCH_SIZE\"))\n",
    "\n",
    "    compiled_net = compiler.compile(network)\n",
    "\n",
    "\n",
    "    with compiled_net:\n",
    "\n",
    "        callbacks = [\"batch_progress_bar\",\n",
    "                    SpikeRecorder(input, \n",
    "                                key = \"input_spikes\",\n",
    "                                example_filter = sample_id),\n",
    "                    SpikeRecorder(hidden,\n",
    "                                key = \"hidden_spikes\",\n",
    "                                example_filter = sample_id),\n",
    "                    VarRecorder(hidden, \n",
    "                                var = \"v\",\n",
    "                                key = \"hidden_voltages\",\n",
    "                                example_filter = sample_id),\n",
    "                    VarRecorder(output, \n",
    "                                var = \"v\",\n",
    "                                key = \"output_voltages\",\n",
    "                                example_filter = sample_id)]\n",
    "        \n",
    "        \n",
    "        metrics, cb_data = compiled_net.evaluate({input: x_test_spikes}, {output: y_test}, callbacks = callbacks)\n",
    "        \n",
    "        #metrics, cb_data = compiled_net.predict({input: x_test_spikes}, output, callbacks = callbacks)\n",
    "\n",
    "        #compiled_net.save((\"quant8\",), serialiser)\n",
    "\n",
    "\n",
    "        print(f\"Accuracy = {100 * metrics[output].result}%\")\n",
    "        \n",
    "        accuracy_list.append(100 * metrics[output].result)"
   ]
  },
  {
   "cell_type": "code",
   "execution_count": 9,
   "metadata": {},
   "outputs": [],
   "source": [
    "# use to print predicted and ground truth output of GeNN Inference run\n",
    "if False:\n",
    "    os.chdir(\"/its/home/ts468/PhD/Intel-Neuromorphic-Research-Project\")\n",
    "\n",
    "    my_list = []\n",
    "    for i in range(len(y_test)):\n",
    "        my_list.append(f\"Pred: {np.argmax(metrics[output][i])}, True:{y_test[i]}\")\n",
    "\n",
    "    file_path = \"GeNN_floating_point_recurrent.txt\"\n",
    "    print(my_list)\n",
    "\n",
    "    with open(file_path, 'w') as file:\n",
    "        # Join the list elements into a single string with a newline character\n",
    "        data_to_write = '\\n'.join(my_list)\n",
    "        \n",
    "        # Write the data to the file\n",
    "        file.write(data_to_write)"
   ]
  },
  {
   "cell_type": "code",
   "execution_count": 10,
   "metadata": {},
   "outputs": [
    {
     "data": {
      "text/plain": [
       "[88.25088339222616,\n",
       " 81.84628975265018,\n",
       " 90.10600706713781,\n",
       " 84.18727915194346,\n",
       " 85.15901060070671,\n",
       " 84.09893992932862,\n",
       " 87.14664310954063,\n",
       " 84.80565371024736,\n",
       " 86.26325088339223,\n",
       " 83.96643109540636]"
      ]
     },
     "execution_count": 10,
     "metadata": {},
     "output_type": "execute_result"
    }
   ],
   "source": [
    "accuracy_list"
   ]
  },
  {
   "cell_type": "code",
   "execution_count": 17,
   "metadata": {},
   "outputs": [
    {
     "data": {
      "image/png": "[encoded data removed]",
      "text/plain": [
       "<Figure size 640x480 with 1 Axes>"
      ]
     },
     "metadata": {},
     "output_type": "display_data"
    }
   ],
   "source": [
    "plt.bar(np.sort(training_details.Speaker.unique()), accuracy_list)\n",
    "\n",
    "plt.ylim(0, 100)\n",
    "plt.ylabel(\"accuracy (%)\")\n",
    "plt.xlabel(\"speaker\")\n",
    "plt.xticks(np.sort(training_details.Speaker.unique()))\n",
    "plt.title(\"Test Accuracy\")\n",
    "plt.show()"
   ]
  },
  {
   "cell_type": "code",
   "execution_count": null,
   "metadata": {},
   "outputs": [],
   "source": []
  }
 ],
 "metadata": {
  "kernelspec": {
   "display_name": "genn_5_0",
   "language": "python",
   "name": "python3"
  },
  "language_info": {
   "codemirror_mode": {
    "name": "ipython",
    "version": 3
   },
   "file_extension": ".py",
   "mimetype": "text/x-python",
   "name": "python",
   "nbconvert_exporter": "python",
   "pygments_lexer": "ipython3",
   "version": "3.10.12"
  }
 },
 "nbformat": 4,
 "nbformat_minor": 2
}

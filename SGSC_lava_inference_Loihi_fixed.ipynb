{
 "cells": [
  {
   "cell_type": "markdown",
   "metadata": {},
   "source": [
    "## SGSC Lava Inference - Loihi - fixed point"
   ]
  },
  {
   "cell_type": "code",
   "execution_count": 1,
   "metadata": {},
   "outputs": [
    {
     "name": "stdout",
     "output_type": "stream",
     "text": [
      "env: CUDA_PATH=/usr/local/cuda\n"
     ]
    }
   ],
   "source": [
    "%env CUDA_PATH=/usr/local/cuda"
   ]
  },
  {
   "cell_type": "code",
   "execution_count": 2,
   "metadata": {},
   "outputs": [
    {
     "name": "stdout",
     "output_type": "stream",
     "text": [
      "Running on oheogulch_20m\n",
      "Skipping, found downloaded files in \"./spiking-google-speech-commands\" (use force=True to force download)\n",
      "loading training\n"
     ]
    },
    {
     "name": "stderr",
     "output_type": "stream",
     "text": [
      "100%|██████████| 1/1 [00:00<00:00, 6232.25it/s]\n"
     ]
    },
    {
     "name": "stdout",
     "output_type": "stream",
     "text": [
      "loading testing\n"
     ]
    },
    {
     "name": "stderr",
     "output_type": "stream",
     "text": [
      "100%|██████████| 1/1 [00:00<00:00, 7002.18it/s]\n"
     ]
    },
    {
     "name": "stdout",
     "output_type": "stream",
     "text": [
      "loading validation\n"
     ]
    },
    {
     "name": "stderr",
     "output_type": "stream",
     "text": [
      "100%|██████████| 1/1 [00:00<00:00, 938.74it/s]"
     ]
    },
    {
     "name": "stdout",
     "output_type": "stream",
     "text": [
      "(80, 2048)\n",
      "i2h: mn == -126, mx == 127\n",
      "h2h: mn == -126, mx == 127\n",
      "h2o: mn == -117, mx == 127\n",
      "(80, 2048)\n"
     ]
    },
    {
     "name": "stderr",
     "output_type": "stream",
     "text": [
      "\n"
     ]
    }
   ],
   "source": [
    "import numpy as np\n",
    "from lava.proc.lif.process import LIFReset\n",
    "from lava.proc.io.source import RingBuffer\n",
    "from lava.proc.dense.process import Dense\n",
    "from lava.proc.monitor.process import Monitor\n",
    "from lava.magma.core.run_conditions import RunSteps\n",
    "from lava.magma.core.run_configs import Loihi1SimCfg\n",
    "from lava.magma.core.run_configs import Loihi2HwCfg\n",
    "from matplotlib import pyplot as plt\n",
    "from tqdm import tqdm\n",
    "from lava.magma.core.process.process import LogConfig\n",
    "import logging\n",
    "from lava.utils.system import Loihi2\n",
    "import os\n",
    "from lava.proc.embedded_io.spike import PyToNxAdapter\n",
    "from lava.proc.embedded_io.state import Read as StateReader\n",
    "from lava.proc.io.sink import RingBuffer as SpikeOut\n",
    "from lava.proc.io.sink import PyReceiveModelFixed\n",
    "from lava.utils.loihi2_state_probes import StateProbe\n",
    "\n",
    "import opendatasets as od\n",
    "from SGSC_dataset_loader_padded_spikes import SGSC_Loader\n",
    "\n",
    "def rescale_factor(w, bits):\n",
    "    rng = float(2**(bits-1))\n",
    "    mx = max(np.percentile(w,99), np.percentile(-w,99))\n",
    "    fac = (rng-1)/mx\n",
    "    mn = -(rng-2)/fac\n",
    "    return (fac, mn, mx)\n",
    "\n",
    "log_config = LogConfig(\"lava_SGSC.log\")\n",
    "log_config.level_console= logging.WARNING\n",
    "\n",
    "params = {}\n",
    "params[\"DT_MS\"] = 1.0\n",
    "params[\"TAU_MEM\"] = 20.0\n",
    "params[\"TAU_SYN\"] = 2.0\n",
    "params[\"num_samples\"] = 1 #int(11005 / 8)\n",
    "params[\"sample_id\"] = 0     #sample used for graph generation (starting at 0, < num_samples)\n",
    "\n",
    "params[\"NUM_INPUT\"] = 80\n",
    "params[\"NUM_HIDDEN\"] = 512\n",
    "params[\"NUM_OUTPUT\"] = 35\n",
    "\n",
    "params[\"timesteps\"] = 2048\n",
    "\n",
    "# toggle to record spikes, useful for debugging, but memory intensive\n",
    "params[\"record_network_ih_activity\"] =  True\n",
    "\n",
    "os.environ[\"PATH\"] += \":/nfs/ncl/bin:\"\n",
    "os.environ[\"PARTITION\"] = \"oheogulch_20m\" # _2h (if 2 hours are needed)\n",
    "os.environ['SLURM'] = '1'\n",
    "os.environ['LOIHI_GEN'] = 'N3C1'\n",
    "\n",
    "#os.environ['LOIHI_GEN'] = 'N3C1'\n",
    "#os.environ['NOSLURM'] = '1'\n",
    "#os.environ['NXSDKHOST'] = '10.1.23.175'\n",
    "#os.environ['HOST_BINARY'] = '/opt/nxcore/bin/nx_driver_server'\n",
    "#os.environ[\"PATH\"] += \":/opt/riscv/bin/:\"\n",
    "\n",
    "loihi2_is_available = Loihi2.is_loihi2_available\n",
    "\n",
    "\n",
    "if loihi2_is_available:\n",
    "    print(f'Running on {Loihi2.partition}')\n",
    "    from lava.utils import loihi2_profiler\n",
    "else:\n",
    "    RuntimeError(\"Loihi2 compiler is not available in this system. \"\n",
    "                 \"This tutorial cannot proceed further.\")\n",
    "\n",
    "do_plots= True\n",
    "weight_bits= 8\n",
    "\n",
    "# Kaggle dataset directory\n",
    "dataset = 'https://www.kaggle.com/datasets/thomasshoesmith/spiking-google-speech-commands/data'\n",
    "\n",
    "# Using opendatasets to download SGSC dataset\n",
    "od.download(dataset)\n",
    "\n",
    "x_train, y_train, x_test, y_test, x_validation, y_validation = SGSC_Loader(dir = os.getcwd() + \"/spiking-google-speech-commands/\",\n",
    "                                                                           num_samples=params[\"num_samples\"],\n",
    "                                                                           shuffle = False,\n",
    "                                                                           number_of_timesteps = params[\"timesteps\"])\n",
    "\n",
    "the_x = x_test\n",
    "the_y = y_test\n",
    "\n",
    "print(the_x[0].shape)\n",
    "\n",
    "sample_image_start = the_x.shape[2] * params[\"sample_id\"]\n",
    "sample_image_end = (the_x.shape[2] * params[\"sample_id\"]) + the_x.shape[2]\n",
    "\n",
    "weight_bits= 8\n",
    "\n",
    "# transform some parmeters\n",
    "tau_mem_fac = 1.0-np.exp(-params[\"DT_MS\"]/params[\"TAU_MEM\"])\n",
    "tau_mem_fac_int = int(np.round(tau_mem_fac*(2**12)))\n",
    "tau_syn_fac = 1.0-np.exp(-params[\"DT_MS\"]/params[\"TAU_SYN\"])\n",
    "tau_syn_fac_int = int(np.round(tau_syn_fac*(2**12)))\n",
    "\n",
    "# load connections\n",
    "w_i2h = np.load(\"SGSC_pretrained_weights/SGSC_Pop0_Pop1-g.npy\")\n",
    "w_i2h = w_i2h.reshape((params[\"NUM_INPUT\"],\n",
    "                       params[\"NUM_HIDDEN\"])).T\n",
    "w_i2h *= tau_mem_fac\n",
    "\n",
    "w_h2h = np.load(\"SGSC_pretrained_weights/SGSC_Pop1_Pop1-g.npy\")\n",
    "w_h2h = w_h2h.reshape((params[\"NUM_HIDDEN\"],\n",
    "                       params[\"NUM_HIDDEN\"])).T\n",
    "w_h2h *= tau_mem_fac\n",
    "\n",
    "w_h2o = np.load(\"SGSC_pretrained_weights/SGSC_Pop1_Pop2-g.npy\")\n",
    "w_h2o = w_h2o.reshape((params[\"NUM_HIDDEN\"],\n",
    "                       params[\"NUM_OUTPUT\"])).T\n",
    "w_h2o *= tau_mem_fac\n",
    "\n",
    "# weight scaling\n",
    "w = np.hstack([w_i2h,w_h2h])\n",
    "w_2h_fac, mn, mx = rescale_factor(w,weight_bits)\n",
    "w_i2h[w_i2h > mx] = mx\n",
    "w_i2h[w_i2h < mn] = mn\n",
    "w_i2h_int = np.round(w_i2h*w_2h_fac).astype(np.int8)\n",
    "print(f\"i2h: mn == {np.amin(w_i2h_int)}, mx == {np.amax(w_i2h_int)}\")\n",
    "\n",
    "w_h2h[w_h2h > mx] = mx\n",
    "w_h2h[w_h2h < mn] = mn\n",
    "w_h2h_int = np.round(w_h2h*w_2h_fac).astype(np.int8)\n",
    "print(f\"h2h: mn == {np.amin(w_h2h_int)}, mx == {np.amax(w_h2h_int)}\")\n",
    "\n",
    "w_2o_fac, mn, mx = rescale_factor(w_h2o,weight_bits)\n",
    "w_2o_fac /= 2.0\n",
    "mn *= 2.0\n",
    "mx *= 2.0\n",
    "w_h2o[w_h2o > mx] = mx\n",
    "w_h2o[w_h2o < mn] = mn\n",
    "w_h2o_int = np.round(w_h2o*w_2o_fac).astype(np.int8)\n",
    "print(f\"h2o: mn == {np.amin(w_h2o_int)}, mx == {np.amax(w_h2o_int)}\")\n",
    "\n",
    "vth_hid = w_2h_fac\n",
    "vth_hid_int = int(np.round(vth_hid))\n",
    "\n",
    "the_x= np.hstack(the_x)\n",
    "print(the_x.shape)\n",
    "\n",
    "# Create processes\n",
    "input = RingBuffer(data=the_x)\n",
    "\n",
    "py2nx_inp = PyToNxAdapter(shape=(the_x.shape[0],))\n",
    "\n",
    "hidden = LIFReset(shape=(params[\"NUM_HIDDEN\"], ),                         # Number and topological layout of units in the process\n",
    "                  vth=vth_hid_int,                             # Membrane threshold\n",
    "                  dv=tau_mem_fac_int,                              # Inverse membrane time-constant\n",
    "                  du=tau_syn_fac_int,                              # Inverse synaptic time-constant\n",
    "                  bias_mant=0,           # Bias added to the membrane voltage in every timestep\n",
    "                  name=\"hidden\",\n",
    "                  reset_interval=params[\"timesteps\"],\n",
    "                  log_config=log_config)\n",
    "\n",
    "output = LIFReset(shape=(params[\"NUM_OUTPUT\"], ),                         # Number and topological layout of units in the process\n",
    "                  vth=2**30,                             # Membrane threshold\n",
    "                  dv=tau_mem_fac_int,                              # Inverse membrane time-constant\n",
    "                  du=tau_syn_fac_int,                              # Inverse synaptic time-constant\n",
    "                  bias_mant=0,           # Bias added to the membrane voltage in every timestep\n",
    "                  name=\"output\",\n",
    "                  reset_interval=params[\"timesteps\"],\n",
    "                  log_config=log_config)\n",
    "\n",
    "in_to_hid = Dense(weights= w_i2h_int,     # Initial value of the weights, chosen randomly\n",
    "                  name='in_to_hid')\n",
    "\n",
    "hid_to_hid = Dense(weights=w_h2h_int,\n",
    "                   name='hid_to_hid')\n",
    "\n",
    "hid_to_out = Dense(weights=w_h2o_int,\n",
    "                   name= 'hid_to_out')\n",
    "\n",
    "input.s_out.connect(py2nx_inp.inp)\n",
    "py2nx_inp.out.connect(in_to_hid.s_in)\n",
    "in_to_hid.a_out.connect(hidden.a_in)\n",
    "hidden.s_out.connect(hid_to_hid.s_in)\n",
    "hidden.s_out.connect(hid_to_out.s_in)\n",
    "hid_to_hid.a_out.connect(hidden.a_in)\n",
    "hid_to_out.a_out.connect(output.a_in)"
   ]
  },
  {
   "cell_type": "code",
   "execution_count": 3,
   "metadata": {},
   "outputs": [],
   "source": [
    "# probe recording\n",
    "probe_v = StateProbe(output.v)\n",
    "\n",
    "probe_input_s = StateProbe(hidden.v)"
   ]
  },
  {
   "cell_type": "code",
   "execution_count": 4,
   "metadata": {},
   "outputs": [],
   "source": [
    "# monitor outputs\n",
    "num_steps = int(params[\"timesteps\"]/params[\"DT_MS\"])\n",
    "\n",
    "# run something\n",
    "run_condition = RunSteps(num_steps=num_steps)\n",
    "\n",
    "#loihi2hw_exception_map = {\n",
    "#            SpikeOut: PyReceiveModelFixed,\n",
    "#        }\n",
    "\n",
    "run_cfg = Loihi2HwCfg(callback_fxs=[probe_v, probe_input_s])\n",
    "output._log_config.level = logging.INFO"
   ]
  },
  {
   "cell_type": "code",
   "execution_count": 5,
   "metadata": {},
   "outputs": [
    {
     "name": "stderr",
     "output_type": "stream",
     "text": [
      "  0%|          | 0/1 [00:00<?, ?it/s]"
     ]
    },
    {
     "name": "stdout",
     "output_type": "stream",
     "text": [
      "Partitioning converged after iteration=4\n",
      "Per core utilization:\n",
      "-------------------------------------------------------------------------\n",
      "| AxonIn |NeuronGr| Neurons|Synapses| AxonMap| AxonMem|  Total |  Cores |\n",
      "|-----------------------------------------------------------------------|\n",
      "|   3.20%|  12.50%|   0.85%|  38.40%|   0.22%|   0.00%|  33.63%|       1|\n",
      "|   3.70%|  12.50%|   1.00%|  48.10%|   0.26%|   0.00%|  41.86%|      13|\n",
      "|-----------------------------------------------------------------------|\n",
      "| Total                                                        |      14|\n",
      "-------------------------------------------------------------------------\n"
     ]
    },
    {
     "name": "stderr",
     "output_type": "stream",
     "text": [
      "/homes/ts468/lava_env/lib/python3.8/site-packages/nxcore/arch/n3b/n3board.py:54: UserWarning: Loihi generation overriden by environment variable LOIHI_GEN=N3C1\n",
      "  warnings.warn(\"Loihi generation overriden by environment variable LOIHI_GEN={}\".format(os.environ[\"LOIHI_GEN\"]))\n"
     ]
    },
    {
     "name": "stdout",
     "output_type": "stream",
     "text": [
      "\u001b[1;30m\u001b[1;30mINFO\u001b[0m\u001b[0m:\u001b[34m\u001b[34mDRV\u001b[0m\u001b[0m:  SLURM is being run in background\n",
      "\u001b[1;30m\u001b[1;30mINFO\u001b[0m\u001b[0m:\u001b[34m\u001b[34mDRV\u001b[0m\u001b[0m:  Connecting to 10.212.98.185:37601\n",
      "\u001b[1;30m\u001b[1;30mINFO\u001b[0m\u001b[0m:\u001b[34m\u001b[34mDRV\u001b[0m\u001b[0m:      Host server up..............Done 0.62s\n",
      "\u001b[1;30m\u001b[1;30mINFO\u001b[0m\u001b[0m:\u001b[34m\u001b[34mDRV\u001b[0m\u001b[0m:      Mapping chipIds.............Done 0.02ms\n",
      "\u001b[1;30m\u001b[1;30mINFO\u001b[0m\u001b[0m:\u001b[34m\u001b[34mDRV\u001b[0m\u001b[0m:      Mapping coreIds.............Done 0.14ms\n",
      "\u001b[1;30m\u001b[1;30mINFO\u001b[0m\u001b[0m:\u001b[34m\u001b[34mDRV\u001b[0m\u001b[0m:      Partitioning neuron groups..Done 3.62ms\n",
      "\u001b[1;30m\u001b[1;30mINFO\u001b[0m\u001b[0m:\u001b[34m\u001b[34mDRV\u001b[0m\u001b[0m:      Mapping axons...............Done 0.03s\n",
      "\u001b[1;30m\u001b[1;30mINFO\u001b[0m\u001b[0m:\u001b[34m\u001b[34mDRV\u001b[0m\u001b[0m:      Configuring Spike Block.....Done 0.01ms\n",
      "\u001b[1;30m\u001b[1;30mINFO\u001b[0m\u001b[0m:\u001b[34m\u001b[34mDRV\u001b[0m\u001b[0m:      Writes SpikeIO Config to FileDone 0.02ms\n",
      "\u001b[1;30m\u001b[1;30mINFO\u001b[0m\u001b[0m:\u001b[34m\u001b[34mDRV\u001b[0m\u001b[0m:      Initializes Python MQ.......Done 0.00ms\n",
      "\u001b[1;30m\u001b[1;30mINFO\u001b[0m\u001b[0m:\u001b[34m\u001b[34mDRV\u001b[0m\u001b[0m:      Partitioning MPDS...........Done 3.60ms\n",
      "\u001b[1;30m\u001b[1;30mINFO\u001b[0m\u001b[0m:\u001b[34m\u001b[34mDRV\u001b[0m\u001b[0m:      Creating Embedded Snips and ChannelsDone 5.08ms\n",
      "\u001b[1;30m\u001b[1;30mINFO\u001b[0m\u001b[0m:\u001b[34m\u001b[34mDRV\u001b[0m\u001b[0m:      Compiling Embedded snips....Done 0.57s\n",
      "\u001b[1;30m\u001b[1;30mINFO\u001b[0m\u001b[0m:\u001b[34m\u001b[34mDRV\u001b[0m\u001b[0m:      Compiling Host snips........Done 0.16ms\n",
      "\u001b[1;30m\u001b[1;30mINFO\u001b[0m\u001b[0m:\u001b[34m\u001b[34mDRV\u001b[0m\u001b[0m:      Compiling Register Probes...Done 0.01s\n",
      "\u001b[1;30m\u001b[1;30mINFO\u001b[0m\u001b[0m:\u001b[34m\u001b[34mDRV\u001b[0m\u001b[0m:      Compiling Spike Probes......Done 0.01ms\n",
      "\u001b[1;30m\u001b[1;30mINFO\u001b[0m\u001b[0m:\u001b[34m\u001b[34mHST\u001b[0m\u001b[0m:  Args chip=0 cpu=0 /homes/ts468/lava_env/lib/python3.8/site-packages/nxcore/arch/base/pre_execution/../../../../temp/86c4c7da-6a11-11ef-be5c-cb02756cae17/launcher_chip0_cpu0.bin --chips=1 --remote-relay=0 \n",
      "\u001b[1;30m\u001b[1;30mINFO\u001b[0m\u001b[0m:\u001b[34m\u001b[34mHST\u001b[0m\u001b[0m:  Args chip=0 cpu=1 /homes/ts468/lava_env/lib/python3.8/site-packages/nxcore/arch/base/pre_execution/../../../../temp/86c4c7da-6a11-11ef-be5c-cb02756cae17/launcher_chip0_cpu1.bin --chips=1 --remote-relay=0 \n",
      "\u001b[1;30m\u001b[1;30mINFO\u001b[0m\u001b[0m:\u001b[34m\u001b[34mHST\u001b[0m\u001b[0m:  Nx...\n",
      "\u001b[1;30m\u001b[1;30mINFO\u001b[0m\u001b[0m:\u001b[34m\u001b[34mDRV\u001b[0m\u001b[0m:      Booting up..................Done 0.52s\n",
      "\u001b[1;30m\u001b[1;30mINFO\u001b[0m\u001b[0m:\u001b[34m\u001b[34mDRV\u001b[0m\u001b[0m:      Encoding probes.............Done 1.65ms\n",
      "\u001b[1;30m\u001b[1;30mINFO\u001b[0m\u001b[0m:\u001b[34m\u001b[34mDRV\u001b[0m\u001b[0m:      Transferring probes.........Done 0.08s\n",
      "\u001b[1;30m\u001b[1;30mINFO\u001b[0m\u001b[0m:\u001b[34m\u001b[34mDRV\u001b[0m\u001b[0m:      Configuring registers.......Done 5.15s\n",
      "\u001b[1;30m\u001b[1;30mINFO\u001b[0m\u001b[0m:\u001b[34m\u001b[34mDRV\u001b[0m\u001b[0m:      Transferring spikes.........Done 0.01ms\n",
      "\u001b[1;30m\u001b[1;30mINFO\u001b[0m\u001b[0m:\u001b[34m\u001b[34mDRV\u001b[0m\u001b[0m:      Executing...................Done 67.58s\n",
      "\u001b[1;30m\u001b[1;30mINFO\u001b[0m\u001b[0m:\u001b[34m\u001b[34mDRV\u001b[0m\u001b[0m:      Processing timeseries.......Done 20.57s\n",
      "\u001b[1;30m\u001b[1;30mINFO\u001b[0m\u001b[0m:\u001b[34m\u001b[34mDRV\u001b[0m\u001b[0m:  Executor: 2048 timesteps........Done 93.64s\n"
     ]
    },
    {
     "name": "stderr",
     "output_type": "stream",
     "text": [
      "100%|██████████| 1/1 [01:59<00:00, 119.78s/it]\n"
     ]
    }
   ],
   "source": [
    "for i in tqdm(range(params[\"num_samples\"])):\n",
    "    output.run(condition=run_condition, run_cfg=run_cfg)"
   ]
  },
  {
   "cell_type": "code",
   "execution_count": 6,
   "metadata": {},
   "outputs": [
    {
     "name": "stdout",
     "output_type": "stream",
     "text": [
      "\u001b[1;30m\u001b[1;30mINFO\u001b[0m\u001b[0m:\u001b[34m\u001b[34mHST\u001b[0m\u001b[0m:  Execution has not started yet or has finished.\n",
      "\u001b[1;30m\u001b[1;30mINFO\u001b[0m\u001b[0m:\u001b[34m\u001b[34mHST\u001b[0m\u001b[0m:  Stopping Execution : at 2048\n",
      "\u001b[1;30m\u001b[1;30mINFO\u001b[0m\u001b[0m:\u001b[34m\u001b[34mHST\u001b[0m\u001b[0m:  chip=0 cpu=1 halted, status=0x0\n",
      "\u001b[1;30m\u001b[1;30mINFO\u001b[0m\u001b[0m:\u001b[34m\u001b[34mHST\u001b[0m\u001b[0m:  chip=0 cpu=0 halted, status=0x0\n"
     ]
    },
    {
     "name": "stdout",
     "output_type": "stream",
     "text": [
      "[0 0 0 ... 0 0 0]\n"
     ]
    }
   ],
   "source": [
    "print(probe_v.time_series[:num_steps])\n",
    "output.stop()\n",
    "output_v = probe_v.time_series.reshape(num_steps * params[\"num_samples\"], params[\"NUM_OUTPUT\"])"
   ]
  },
  {
   "cell_type": "code",
   "execution_count": 7,
   "metadata": {},
   "outputs": [
    {
     "data": {
      "text/plain": [
       "(2048, 35)"
      ]
     },
     "execution_count": 7,
     "metadata": {},
     "output_type": "execute_result"
    }
   ],
   "source": [
    "output_v.shape"
   ]
  },
  {
   "cell_type": "code",
   "execution_count": 8,
   "metadata": {},
   "outputs": [
    {
     "data": {
      "text/plain": [
       "array([0, 0, 0, ..., 0, 0, 0])"
      ]
     },
     "execution_count": 8,
     "metadata": {},
     "output_type": "execute_result"
    }
   ],
   "source": [
    "probe_v.time_series"
   ]
  },
  {
   "cell_type": "code",
   "execution_count": 9,
   "metadata": {},
   "outputs": [
    {
     "name": "stdout",
     "output_type": "stream",
     "text": [
      "prediction 0 vs ground truth 16\n",
      "test accuracy:  0.0\n"
     ]
    }
   ],
   "source": [
    "\n",
    "good = 0\n",
    "for i in range(params[\"num_samples\"]):\n",
    "    out_v = output_v[:,i*num_steps:(i+1)*num_steps]\n",
    "    sum_v = np.sum(out_v,axis=1)\n",
    "    pred = np.argmax(sum_v)\n",
    "    print(f\"prediction {pred} vs ground truth {the_y[i]}\")\n",
    "    if pred == the_y[i]:\n",
    "        good += 1\n",
    "\n",
    "print(\"test accuracy: \", good/params[\"num_samples\"]*100)"
   ]
  },
  {
   "cell_type": "code",
   "execution_count": 10,
   "metadata": {},
   "outputs": [],
   "source": [
    "params[\"record_network_ih_activity\"] = True"
   ]
  },
  {
   "cell_type": "code",
   "execution_count": 11,
   "metadata": {},
   "outputs": [
    {
     "name": "stdout",
     "output_type": "stream",
     "text": [
      "(2048, 35)\n"
     ]
    }
   ],
   "source": [
    "output_v = probe_v.time_series.reshape(num_steps * params[\"num_samples\"], params[\"NUM_OUTPUT\"])\n",
    "print(output_v.shape)\n"
   ]
  },
  {
   "cell_type": "code",
   "execution_count": 12,
   "metadata": {},
   "outputs": [
    {
     "data": {
      "text/plain": [
       "2048"
      ]
     },
     "execution_count": 12,
     "metadata": {},
     "output_type": "execute_result"
    }
   ],
   "source": [
    "sample_image_end"
   ]
  },
  {
   "cell_type": "code",
   "execution_count": 13,
   "metadata": {},
   "outputs": [
    {
     "data": {
      "image/png": "[encoded data removed]",
      "text/plain": [
       "<Figure size 640x480 with 1 Axes>"
      ]
     },
     "metadata": {},
     "output_type": "display_data"
    }
   ],
   "source": [
    "if params[\"record_network_ih_activity\"]:\n",
    "    output_v = probe_v.time_series.reshape(num_steps * params[\"num_samples\"], params[\"NUM_OUTPUT\"])\n",
    "\n",
    "    single_image = output_v[sample_image_start:sample_image_end]\n",
    "\n",
    "    for i in range(params[\"NUM_OUTPUT\"]):\n",
    "        plt.plot(single_image[:,i])\n",
    "\n",
    "    plt.title(\"Output layer voltage activity\")\n",
    "    plt.ylabel(\"voltage (v)\")\n",
    "    plt.xlabel(\"timesteps\")\n",
    "    plt.xlim(0, the_x.shape[1] / params[\"num_samples\"])\n",
    "    plt.show()"
   ]
  }
 ],
 "metadata": {
  "kernelspec": {
   "display_name": "GeNN_4_9_0",
   "language": "python",
   "name": "python3"
  },
  "language_info": {
   "codemirror_mode": {
    "name": "ipython",
    "version": 3
   },
   "file_extension": ".py",
   "mimetype": "text/x-python",
   "name": "python",
   "nbconvert_exporter": "python",
   "pygments_lexer": "ipython3",
   "version": "3.8.10"
  }
 },
 "nbformat": 4,
 "nbformat_minor": 2
}

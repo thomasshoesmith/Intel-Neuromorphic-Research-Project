{
 "cells": [
  {
   "cell_type": "code",
   "execution_count": null,
   "metadata": {},
   "outputs": [],
   "source": [
    "import numpy as np\n",
    "import matplotlib.pyplot as plt\n",
    "from tqdm import trange\n",
    "\n",
    "from SC_dataset_loader import load_gsc"
   ]
  },
  {
   "cell_type": "code",
   "execution_count": null,
   "metadata": {},
   "outputs": [],
   "source": [
    "# load gsc dataset\n",
    "train_x, train_y, validation_x, validation_y, test_x, test_y = load_gsc(\"/its/home/ts468/data/rawSC/rawSC_80input_updated/\",\n",
    "                                                                        num_frames = 20,\n",
    "                                                                        shuffle=False)"
   ]
  },
  {
   "cell_type": "code",
   "execution_count": null,
   "metadata": {},
   "outputs": [],
   "source": [
    "this_x = test_x\n",
    "this_y = test_y"
   ]
  },
  {
   "cell_type": "code",
   "execution_count": null,
   "metadata": {},
   "outputs": [],
   "source": [
    "number_of_trials = this_x.shape[0]      \n",
    "number_of_frames = this_x.shape[1]\n",
    "number_of_channels = this_x.shape[2] "
   ]
  },
  {
   "cell_type": "code",
   "execution_count": null,
   "metadata": {},
   "outputs": [],
   "source": [
    "tau_mem = 20\n",
    "dt_ms = 1\n",
    "vth = 1.0\n",
    "alpha = np.exp(-dt_ms / tau_mem)\n",
    "\n",
    "spike_times = np.zeros_like(this_x, dtype = np.uint8)\n",
    "\n",
    "for trial in trange(number_of_trials):\n",
    "\n",
    "    v = np.zeros((number_of_channels))\n",
    "\n",
    "    for timestep in range(number_of_frames):\n",
    "        v[:] = (v * alpha) + this_x[trial][timestep]\n",
    "        spikes_out = v > vth\n",
    "        v[spikes_out] = 0\n",
    "\n",
    "        spike_indexes = np.where(spikes_out == True)[0]\n",
    "\n",
    "        for spike_index in spike_indexes:\n",
    "            spike_times[trial][timestep][spike_index] = 1"
   ]
  },
  {
   "cell_type": "code",
   "execution_count": null,
   "metadata": {},
   "outputs": [],
   "source": [
    "index = 1\n",
    "\n",
    "for i in range(80):\n",
    "    plt.scatter(np.where(spike_times[index][:,i] > 0)[0], \n",
    "                np.where(spike_times[index][:,i] > 0)[0].shape[0] * [i],\n",
    "                c = '#1f77b4',\n",
    "                s = 0.5)\n",
    "\n",
    "plt.title(\"Input layer spiking activity\")\n",
    "plt.ylim(0, 80)\n",
    "plt.xlim(0, 2000)\n",
    "plt.ylabel(\"layer\")\n",
    "plt.xlabel(\"timesteps\")\n",
    "plt.show()"
   ]
  }
 ],
 "metadata": {
  "kernelspec": {
   "display_name": "genn_5_0",
   "language": "python",
   "name": "python3"
  },
  "language_info": {
   "codemirror_mode": {
    "name": "ipython",
    "version": 3
   },
   "file_extension": ".py",
   "mimetype": "text/x-python",
   "name": "python",
   "nbconvert_exporter": "python",
   "pygments_lexer": "ipython3",
   "version": "3.8.19"
  }
 },
 "nbformat": 4,
 "nbformat_minor": 2
}

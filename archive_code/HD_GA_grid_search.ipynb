{
 "cells": [
  {
   "cell_type": "code",
   "execution_count": 1,
   "metadata": {},
   "outputs": [],
   "source": [
    "import copy\n",
    "import numpy as np\n",
    "import random\n",
    "import matplotlib.pyplot as plt\n",
    "from scipy.stats import sem\n",
    "\n",
    "#export CUDA_PATH=/usr/local/cuda\n",
    "import numpy as np\n",
    "import matplotlib.pyplot as plt\n",
    "import csv\n",
    "import pandas as pd\n",
    "from tqdm import trange\n",
    "\n",
    "from HD_eventprop import hd_eventprop"
   ]
  },
  {
   "cell_type": "code",
   "execution_count": 2,
   "metadata": {},
   "outputs": [],
   "source": [
    "initial_pop = [0.0, 3.5, 3.0, 1.5]\n",
    "pop_size = 10\n",
    "pop = np.random.rand(pop_size,4) * 5\n",
    "epochs = 10\n",
    "pop_range = (0, 5)"
   ]
  },
  {
   "cell_type": "code",
   "execution_count": 3,
   "metadata": {},
   "outputs": [],
   "source": [
    "pop[0] = initial_pop"
   ]
  },
  {
   "cell_type": "code",
   "execution_count": 4,
   "metadata": {},
   "outputs": [],
   "source": [
    "def mutate(genotype, rate = .1):\n",
    "    for i in range(len(genotype)):\n",
    "        if random.random() <= rate:\n",
    "          genotype[i] = random.random() * pop_range[1] #TODO\n",
    "    return genotype\n",
    "\n",
    "def crossover(genotype1, genotype2, p_crossover = .5):\n",
    "    for i,gene in enumerate(genotype2):\n",
    "      if random.random() <= p_crossover:\n",
    "        genotype1[i] = genotype2[i]\n",
    "    return genotype1"
   ]
  },
  {
   "cell_type": "code",
   "execution_count": 5,
   "metadata": {},
   "outputs": [
    {
     "name": "stdout",
     "output_type": "stream",
     "text": [
      "[1.79804985 4.49439576 4.52991986 1.48861904]\n",
      "[1.79804985 4.49439576 4.52991986 1.48861904]\n"
     ]
    }
   ],
   "source": [
    "print(pop[1])\n",
    "\n",
    "print(mutate(pop[1]))"
   ]
  },
  {
   "cell_type": "code",
   "execution_count": 6,
   "metadata": {},
   "outputs": [],
   "source": [
    "# constants\n",
    "params = {}\n",
    "params[\"NUM_INPUT\"] = 40\n",
    "params[\"NUM_HIDDEN\"] = 256\n",
    "params[\"NUM_OUTPUT\"] = 20\n",
    "params[\"BATCH_SIZE\"] = 128\n",
    "params[\"INPUT_FRAME_TIMESTEP\"] = 20\n",
    "params[\"INPUT_SCALE\"] = 0.00099 #0.008\n",
    "params[\"NUM_EPOCH\"] = 80\n",
    "params[\"NUM_FRAMES\"] = 80\n",
    "params[\"verbose\"] = False\n",
    "params[\"debug\"] = False\n",
    "params[\"lr\"] = 0.01\n",
    "params[\"dt\"] = 1\n",
    "\n",
    "params[\"reg_lambda_lower\"] = 1e-11 \n",
    "params[\"reg_lambda_upper\"] = 1e-11\n",
    "params[\"reg_nu_upper\"] = 20\n",
    "\n",
    "#weights\n",
    "params[\"hidden_w_mean\"] = 0.0 #0.5\n",
    "params[\"hidden_w_sd\"] = 3.5 #4.0\n",
    "params[\"output_w_mean\"] = 3.0\n",
    "params[\"output_w_sd\"] = 1.5 "
   ]
  },
  {
   "cell_type": "code",
   "execution_count": 7,
   "metadata": {},
   "outputs": [],
   "source": [
    "file = open(\"grid_search_results.csv\", \"w\")\n",
    "csv_writer = csv.writer(file, delimiter=\",\")\n",
    "csv_writer.writerow([\"hidden weight mean\", \"hidden weight sd\", \"output weight mean\", \"output weight sd\", \"accuracy\", \"epoch\"])\n",
    "\n",
    "file.flush()"
   ]
  },
  {
   "cell_type": "code",
   "execution_count": 8,
   "metadata": {},
   "outputs": [
    {
     "name": "stderr",
     "output_type": "stream",
     "text": [
      "  0%|          | 0/1 [00:00<?, ?it/s]"
     ]
    },
    {
     "name": "stdout",
     "output_type": "stream",
     "text": [
      "swig/python detected a memory leak of type 'CodeGenerator::CUDA::Backend *', no destructor found.\n",
      "make: Entering directory '/its/home/ts468/PhD/Intel-Neuromorphic-Research-Project/HD_eventprop_output/HD_eventpropEventPropCompiler_CODE'\n"
     ]
    },
    {
     "name": "stderr",
     "output_type": "stream",
     "text": [
      "synapseUpdate.cc(59): warning #177-D: variable \"shLg\" was declared but never referenced\n",
      "\n",
      "neuronUpdate.cc(192): warning #177-D: variable \"lYTrue\" was declared but never referenced\n",
      "\n",
      "customUpdate.cc(425): warning #177-D: variable \"batchOffset\" was declared but never referenced\n",
      "\n"
     ]
    },
    {
     "name": "stdout",
     "output_type": "stream",
     "text": [
      "make: Leaving directory '/its/home/ts468/PhD/Intel-Neuromorphic-Research-Project/HD_eventprop_output/HD_eventpropEventPropCompiler_CODE'\n",
      "swig/python detected a memory leak of type 'CodeGenerator::CUDA::Backend *', no destructor found.\n",
      "make: Entering directory '/its/home/ts468/PhD/Intel-Neuromorphic-Research-Project/HD_eventprop_output/HD_eventpropInferenceCompiler_CODE'\n"
     ]
    },
    {
     "name": "stderr",
     "output_type": "stream",
     "text": [
      "synapseUpdate.cc(49): warning #177-D: variable \"synBatchOffset\" was declared but never referenced\n",
      "\n"
     ]
    },
    {
     "name": "stdout",
     "output_type": "stream",
     "text": [
      "make: Leaving directory '/its/home/ts468/PhD/Intel-Neuromorphic-Research-Project/HD_eventprop_output/HD_eventpropInferenceCompiler_CODE'\n",
      "swig/python detected a memory leak of type 'CodeGenerator::CUDA::Backend *', no destructor found.\n",
      "make: Entering directory '/its/home/ts468/PhD/Intel-Neuromorphic-Research-Project/HD_eventprop_output/HD_eventpropEventPropCompiler_CODE'\n"
     ]
    },
    {
     "name": "stderr",
     "output_type": "stream",
     "text": [
      "synapseUpdate.cc(59): warning #177-D: variable \"shLg\" was declared but never referenced\n",
      "\n",
      "customUpdate.cc(425): warning #177-D: variable \"batchOffset\" was declared but never referenced\n",
      "\n",
      "neuronUpdate.cc(192): warning #177-D: variable \"lYTrue\" was declared but never referenced\n",
      "\n"
     ]
    },
    {
     "name": "stdout",
     "output_type": "stream",
     "text": [
      "make: Leaving directory '/its/home/ts468/PhD/Intel-Neuromorphic-Research-Project/HD_eventprop_output/HD_eventpropEventPropCompiler_CODE'\n",
      "swig/python detected a memory leak of type 'CodeGenerator::CUDA::Backend *', no destructor found.\n",
      "make: Entering directory '/its/home/ts468/PhD/Intel-Neuromorphic-Research-Project/HD_eventprop_output/HD_eventpropInferenceCompiler_CODE'\n"
     ]
    },
    {
     "name": "stderr",
     "output_type": "stream",
     "text": [
      "synapseUpdate.cc(49): warning #177-D: variable \"synBatchOffset\" was declared but never referenced\n",
      "\n"
     ]
    },
    {
     "name": "stdout",
     "output_type": "stream",
     "text": [
      "make: Leaving directory '/its/home/ts468/PhD/Intel-Neuromorphic-Research-Project/HD_eventprop_output/HD_eventpropInferenceCompiler_CODE'\n"
     ]
    },
    {
     "name": "stderr",
     "output_type": "stream",
     "text": [
      "100%|██████████| 1/1 [06:49<00:00, 409.49s/it]\n"
     ]
    }
   ],
   "source": [
    "epochs = 1\n",
    "num_individuals = 50\n",
    "num_items = 10\n",
    "k = 3\n",
    "crossover_value = 0.5\n",
    "mutationRate = 0.1\n",
    "  \n",
    "initial_pop = [0.0, 3.5, 3.0, 1.5]\n",
    "num_individuals = pop_size = 10\n",
    "pop = np.random.rand(pop_size,4) * 5\n",
    "pop[0] = initial_pop\n",
    "\n",
    "genotypes = pop\n",
    "fitness = np.zeros(num_individuals)\n",
    "\n",
    "\n",
    "x = []\n",
    "y_best = []\n",
    "y_mean = []\n",
    "y_worst = []\n",
    "\n",
    "for epoch in trange(epochs):\n",
    "\n",
    "  id1 = np.random.randint(num_individuals) # Pick one individual at random, i.e. genotype  G1  at position  x1\n",
    "  id2 = np.random.randint(id1 +1, id1 + k) % num_individuals # Pick a second individual  G2  in the local neighbourhood of the first, i.e., pick a competitor from the local neighbourhood in the range  x1+1  to  x1+k  (start with  k=2 ) 5.\n",
    "  \n",
    "  #weights\n",
    "  params[\"hidden_w_mean\"] = pop[id1, 0]\n",
    "  params[\"hidden_w_sd\"] =   pop[id1, 1]\n",
    "  params[\"output_w_mean\"] = pop[id1, 2]\n",
    "  params[\"output_w_sd\"] =   pop[id1, 3]\n",
    "  geno1 = hd_eventprop(params)\n",
    "  \n",
    "  #weights\n",
    "  params[\"hidden_w_mean\"] = pop[id1, 0]\n",
    "  params[\"hidden_w_sd\"] =   pop[id1, 1]\n",
    "  params[\"output_w_mean\"] = pop[id1, 2]\n",
    "  params[\"output_w_sd\"] =   pop[id1, 3]\n",
    "  geno2 = hd_eventprop(params)\n",
    "  \n",
    "  fitness[id1] = geno1\n",
    "  fitness[id2] = geno2\n",
    "  \n",
    "  max_index = fitness.argmax()\n",
    "  \n",
    "  csv_writer.writerow([pop[max_index, 0],\n",
    "                       pop[max_index, 1],\n",
    "                       pop[max_index, 2],\n",
    "                       pop[max_index, 3],\n",
    "                       fitness[max_index],\n",
    "                       epoch])\n",
    "  \n",
    "  file.flush()\n",
    "\n",
    "  if (geno1 > geno2):\n",
    "    genotypes[id2] = copy.deepcopy(genotypes[id1]) # Replace L with W\n",
    "    genotypes[id1] = mutate(crossover(copy.deepcopy(genotypes[id1]), copy.deepcopy(genotypes[id2]), crossover_value), mutationRate)\n",
    "  else:\n",
    "    genotypes[id1] = copy.deepcopy(genotypes[id2]) # Replace L with W\n",
    "    genotypes[id2] = mutate(crossover(copy.deepcopy(genotypes[id2]), copy.deepcopy(genotypes[id1]), crossover_value), mutationRate)\n",
    "\n",
    "  y_best.append(np.amax(fitness))\n",
    "  y_worst.append(np.amin(fitness))\n",
    "  y_mean.append((sum(fitness)/len(fitness)))\n",
    "  x.append(epoch)"
   ]
  },
  {
   "cell_type": "code",
   "execution_count": 9,
   "metadata": {},
   "outputs": [
    {
     "data": {
      "text/plain": [
       "[0.924350171652771]"
      ]
     },
     "execution_count": 9,
     "metadata": {},
     "output_type": "execute_result"
    }
   ],
   "source": [
    "y_best"
   ]
  }
 ],
 "metadata": {
  "kernelspec": {
   "display_name": "genn_4_8_1",
   "language": "python",
   "name": "python3"
  },
  "language_info": {
   "codemirror_mode": {
    "name": "ipython",
    "version": 3
   },
   "file_extension": ".py",
   "mimetype": "text/x-python",
   "name": "python",
   "nbconvert_exporter": "python",
   "pygments_lexer": "ipython3",
   "version": "3.8.10"
  },
  "orig_nbformat": 4
 },
 "nbformat": 4,
 "nbformat_minor": 2
}

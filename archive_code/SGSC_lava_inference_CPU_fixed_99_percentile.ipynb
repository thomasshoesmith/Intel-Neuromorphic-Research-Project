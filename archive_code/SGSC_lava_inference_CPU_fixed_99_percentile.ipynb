{
 "cells": [
  {
   "cell_type": "markdown",
   "metadata": {},
   "source": [
    "## SGSC Lava Inference - CPU - fixed point"
   ]
  },
  {
   "cell_type": "code",
   "execution_count": 1,
   "metadata": {},
   "outputs": [
    {
     "name": "stdout",
     "output_type": "stream",
     "text": [
      "env: CUDA_PATH=/usr/local/cuda\n"
     ]
    }
   ],
   "source": [
    "%env CUDA_PATH=/usr/local/cuda"
   ]
  },
  {
   "cell_type": "code",
   "execution_count": 2,
   "metadata": {},
   "outputs": [],
   "source": [
    "import numpy as np\n",
    "from lava.proc.lif.process import LIFReset\n",
    "from lava.proc.io.source import RingBuffer\n",
    "from lava.proc.dense.process import Dense\n",
    "from lava.proc.monitor.process import Monitor\n",
    "from lava.magma.core.run_conditions import RunSteps\n",
    "from lava.magma.core.run_configs import Loihi1SimCfg, Loihi2SimCfg\n",
    "from matplotlib import pyplot as plt\n",
    "from tqdm import tqdm\n",
    "import os\n",
    "import opendatasets as od\n",
    "from SGSC_dataset_loader_padded_spikes import SGSC_Loader"
   ]
  },
  {
   "cell_type": "code",
   "execution_count": 3,
   "metadata": {},
   "outputs": [],
   "source": [
    "def rescale_factor(w, bits, percentile = 99):\n",
    "    rng = float(2**(bits-1))\n",
    "    mx = max(np.percentile(w,percentile), np.percentile(-w,percentile))\n",
    "    fac = (rng-1)/mx\n",
    "    mn = -(rng-2)/fac\n",
    "    return (fac, mn, mx)"
   ]
  },
  {
   "cell_type": "code",
   "execution_count": null,
   "metadata": {},
   "outputs": [],
   "source": [
    "params = {}\n",
    "params[\"DT_MS\"] = 1.0\n",
    "params[\"TAU_MEM\"] = 20.0\n",
    "params[\"TAU_SYN\"] = 2.0\n",
    "params[\"num_samples\"] = 1 #int(11005 / 8)\n",
    "params[\"sample_id\"] = 0     #sample used for graph generation (starting at 0, < num_samples)\n",
    "\n",
    "params[\"NUM_INPUT\"] = 80\n",
    "params[\"NUM_HIDDEN\"] = 512\n",
    "params[\"NUM_OUTPUT\"] = 35\n",
    "\n",
    "# toggle to record spikes, useful for debugging, but memory intensive\n",
    "params[\"record_network_ih_activity\"] =  True"
   ]
  },
  {
   "cell_type": "code",
   "execution_count": 5,
   "metadata": {},
   "outputs": [
    {
     "name": "stdout",
     "output_type": "stream",
     "text": [
      "Skipping, found downloaded files in \"./spiking-google-speech-commands\" (use force=True to force download)\n"
     ]
    }
   ],
   "source": [
    "# Kaggle dataset directory\n",
    "dataset = 'https://www.kaggle.com/datasets/thomasshoesmith/spiking-google-speech-commands/data'\n",
    "\n",
    "# Using opendatasets to download SGSC dataset\n",
    "od.download(dataset)"
   ]
  },
  {
   "cell_type": "code",
   "execution_count": 6,
   "metadata": {},
   "outputs": [
    {
     "name": "stdout",
     "output_type": "stream",
     "text": [
      "loading training\n"
     ]
    },
    {
     "name": "stderr",
     "output_type": "stream",
     "text": [
      "100%|██████████| 1/1 [00:00<00:00, 18157.16it/s]\n"
     ]
    },
    {
     "name": "stdout",
     "output_type": "stream",
     "text": [
      "loading testing\n"
     ]
    },
    {
     "name": "stderr",
     "output_type": "stream",
     "text": [
      "100%|██████████| 1/1 [00:00<00:00, 24966.10it/s]\n"
     ]
    },
    {
     "name": "stdout",
     "output_type": "stream",
     "text": [
      "loading validation\n"
     ]
    },
    {
     "name": "stderr",
     "output_type": "stream",
     "text": [
      "100%|██████████| 1/1 [00:00<00:00, 26051.58it/s]\n"
     ]
    }
   ],
   "source": [
    "x_train, y_train, x_test, y_test, x_validation, y_validation = SGSC_Loader(dir = os.getcwd() + \"/spiking-google-speech-commands/\",\n",
    "                                                                           num_samples=params[\"num_samples\"],\n",
    "                                                                           shuffle = True,\n",
    "                                                                           shuffle_seed = 0,\n",
    "                                                                           return_single_sample = 1)"
   ]
  },
  {
   "cell_type": "code",
   "execution_count": 7,
   "metadata": {},
   "outputs": [],
   "source": [
    "the_x = x_test\n",
    "the_y = y_test"
   ]
  },
  {
   "cell_type": "code",
   "execution_count": 8,
   "metadata": {},
   "outputs": [],
   "source": [
    "# transform some parmeters\n",
    "tau_mem_fac = 1.0-np.exp(-params[\"DT_MS\"]/params[\"TAU_MEM\"])\n",
    "tau_mem_fac_int = int(np.round(tau_mem_fac*(2**12)))\n",
    "\n",
    "tau_syn_fac = 1.0-np.exp(-params[\"DT_MS\"]/params[\"TAU_SYN\"])\n",
    "tau_syn_fac_int = int(np.round(tau_syn_fac*(2**12)))\n",
    "\n",
    "weight_scale = (params[\"TAU_SYN\"] / params[\"DT_MS\"]) * tau_syn_fac"
   ]
  },
  {
   "cell_type": "code",
   "execution_count": 9,
   "metadata": {},
   "outputs": [],
   "source": [
    "# load connections\n",
    "w_i2h = np.load(\"SGSC_pretrained_weights/SGSC_Pop0_Pop1-g.npy\")\n",
    "w_i2h = w_i2h.reshape((80,512)).T\n",
    "w_i2h *= weight_scale\n",
    "w_i2h *= tau_mem_fac\n",
    "\n",
    "w_h2h = np.load(\"SGSC_pretrained_weights/SGSC_Pop1_Pop1-g.npy\")\n",
    "w_h2h = w_h2h.reshape((512,512)).T\n",
    "w_h2h *= weight_scale\n",
    "w_h2h *= tau_mem_fac\n",
    "\n",
    "w_h2o = np.load(\"SGSC_pretrained_weights/SGSC_Pop1_Pop2-g.npy\")\n",
    "w_h2o = w_h2o.reshape((512,35)).T\n",
    "w_h2o *= weight_scale\n",
    "w_h2o *= tau_mem_fac"
   ]
  },
  {
   "cell_type": "code",
   "execution_count": 10,
   "metadata": {},
   "outputs": [],
   "source": [
    "weight_bits= 8"
   ]
  },
  {
   "cell_type": "code",
   "execution_count": 11,
   "metadata": {},
   "outputs": [
    {
     "name": "stdout",
     "output_type": "stream",
     "text": [
      "i2h: mn == -126, mx == 127\n",
      "h2h: mn == -48, mx == 35\n",
      "h2o: mn == -48, mx == 84\n"
     ]
    }
   ],
   "source": [
    "w = np.hstack([w_i2h,w_h2h])\n",
    "w_2h_fac, mn, mx = rescale_factor(w,weight_bits)\n",
    "w_i2h[w_i2h > mx] = mx\n",
    "w_i2h[w_i2h < mn] = mn\n",
    "w_i2h_int = np.round(w_i2h*w_2h_fac).astype(np.int8)\n",
    "print(f\"i2h: mn == {np.amin(w_i2h_int)}, mx == {np.amax(w_i2h_int)}\")\n",
    "\n",
    "w_h2h[w_h2h > mx] = mx\n",
    "w_h2h[w_h2h < mn] = mn\n",
    "w_h2h_int = np.round(w_h2h*w_2h_fac).astype(np.int8)\n",
    "print(f\"h2h: mn == {np.amin(w_h2h_int)}, mx == {np.amax(w_h2h_int)}\")\n",
    "\n",
    "w_2o_fac, mn, mx = rescale_factor(w_h2o,weight_bits)\n",
    "w_2o_fac /= 2.0\n",
    "mn *= 2.0\n",
    "mx *= 2.0\n",
    "w_h2o[w_h2o > mx] = mx\n",
    "w_h2o[w_h2o < mn] = mn\n",
    "w_h2o_int = np.round(w_h2o*w_2o_fac).astype(np.int8)\n",
    "print(f\"h2o: mn == {np.amin(w_h2o_int)}, mx == {np.amax(w_h2o_int)}\")\n",
    "\n",
    "vth_hid = w_2h_fac\n",
    "vth_hid_int = int(np.round(vth_hid))"
   ]
  },
  {
   "cell_type": "code",
   "execution_count": 12,
   "metadata": {},
   "outputs": [],
   "source": [
    "sample_image_start = the_x.shape[2] * params[\"sample_id\"]\n",
    "sample_image_end = (the_x.shape[2] * params[\"sample_id\"]) + the_x.shape[2]"
   ]
  },
  {
   "cell_type": "code",
   "execution_count": 13,
   "metadata": {},
   "outputs": [
    {
     "name": "stdout",
     "output_type": "stream",
     "text": [
      "(80, 2000)\n"
     ]
    }
   ],
   "source": [
    "the_x= np.hstack(the_x)\n",
    "print(the_x.shape)"
   ]
  },
  {
   "cell_type": "code",
   "execution_count": 14,
   "metadata": {},
   "outputs": [
    {
     "name": "stdout",
     "output_type": "stream",
     "text": [
      "number of samples: 1\n"
     ]
    }
   ],
   "source": [
    "input = RingBuffer(data = the_x)\n",
    "\n",
    "hidden = LIFReset(shape=(512, ),                         # Number and topological layout of units in the process\n",
    "                  vth= vth_hid_int,                             # Membrane threshold\n",
    "                  dv=tau_mem_fac_int,                              # Inverse membrane time-constant\n",
    "                  du=tau_syn_fac_int,                              # Inverse synaptic time-constant\n",
    "                  bias_mant=0.0,           # Bias added to the membrane voltage in every timestep\n",
    "                  name=\"hidden\",\n",
    "                  reset_interval=2000)\n",
    "\n",
    "output = LIFReset(shape=(35, ),                         # Number and topological layout of units in the process\n",
    "                  vth=2**30,                             # Membrane threshold set so it cannot spike\n",
    "                  dv=tau_mem_fac_int,                              # Inverse membrane time-constant\n",
    "                  du=tau_syn_fac_int,                              # Inverse synaptic time-constant\n",
    "                  bias_mant=0.0,           # Bias added to the membrane voltage in every timestep\n",
    "                  name=\"output\",\n",
    "                  reset_interval=2000)\n",
    "\n",
    "in_to_hid = Dense(weights= w_i2h_int,     # Initial value of the weights, chosen randomly\n",
    "              name='in_to_hid')\n",
    "\n",
    "hid_to_hid = Dense(weights=w_h2h_int,\n",
    "                   name='hid_to_hid')\n",
    "\n",
    "hid_to_out = Dense(weights=w_h2o_int,\n",
    "                   name= 'hid_to_out')\n",
    "\n",
    "input.s_out.connect(in_to_hid.s_in)\n",
    "in_to_hid.a_out.connect(hidden.a_in)\n",
    "hidden.s_out.connect(hid_to_hid.s_in)\n",
    "hidden.s_out.connect(hid_to_out.s_in)\n",
    "hid_to_hid.a_out.connect(hidden.a_in)\n",
    "hid_to_out.a_out.connect(output.a_in)\n",
    "\n",
    "if params[\"record_network_ih_activity\"]:\n",
    "    # monitor outputs\n",
    "    monitor_input = Monitor()\n",
    "    monitor_hidden = Monitor()\n",
    "    monitor_hidden_v = Monitor()\n",
    "\n",
    "    monitor_hidden_v.probe(hidden.v, the_x.shape[1])\n",
    "\n",
    "    monitor_input.probe(input.s_out, the_x.shape[1])\n",
    "    monitor_hidden.probe(hidden.s_out, the_x.shape[1])\n",
    "\n",
    "monitor_output = Monitor()\n",
    "monitor_output.probe(output.v, the_x.shape[1])\n",
    "\n",
    "num_steps = int(2000/params[\"DT_MS\"])\n",
    "print(\"number of samples:\", params[\"num_samples\"])\n",
    "\n",
    "# run something\n",
    "run_condition = RunSteps(num_steps=num_steps)\n",
    "run_cfg = Loihi2SimCfg(select_tag=\"fixed_pt\") # changed 1 -> 2\n",
    "\n",
    "n_sample = params.get(\"num_samples\")"
   ]
  },
  {
   "cell_type": "code",
   "execution_count": 15,
   "metadata": {},
   "outputs": [
    {
     "name": "stderr",
     "output_type": "stream",
     "text": [
      "100%|██████████| 1/1 [00:03<00:00,  3.17s/it]\n"
     ]
    },
    {
     "name": "stdout",
     "output_type": "stream",
     "text": [
      "prediction 25 vs ground truth 33\n",
      "test accuracy: 0.0\n"
     ]
    }
   ],
   "source": [
    "for i in tqdm(range(the_x.shape[1] // 2000)):\n",
    "    output.run(condition=run_condition, run_cfg=run_cfg)\n",
    "\n",
    "output_v = monitor_output.get_data()\n",
    "good = 0\n",
    "\n",
    "for i in range(the_x.shape[1] // 2000):\n",
    "    out_v = output_v[\"output\"][\"v\"][i*num_steps:(i+1)*num_steps,:]\n",
    "    sum_v = np.sum(out_v,axis=0)\n",
    "    pred = np.argmax(sum_v)\n",
    "    print(f\"prediction {pred} vs ground truth {the_y[i]}\")\n",
    "    if pred == the_y[i]:\n",
    "        good += 1\n",
    "\n",
    "print(f\"test accuracy: {good/n_sample*100}\")\n",
    "#output.stop()"
   ]
  },
  {
   "cell_type": "code",
   "execution_count": 16,
   "metadata": {},
   "outputs": [
    {
     "data": {
      "text/plain": [
       "(2000, 35)"
      ]
     },
     "execution_count": 16,
     "metadata": {},
     "output_type": "execute_result"
    }
   ],
   "source": [
    "output_v[\"output\"][\"v\"].shape"
   ]
  },
  {
   "cell_type": "code",
   "execution_count": 17,
   "metadata": {},
   "outputs": [
    {
     "data": {
      "image/png": "[encoded data removed]",
      "text/plain": [
       "<Figure size 640x480 with 2 Axes>"
      ]
     },
     "metadata": {},
     "output_type": "display_data"
    }
   ],
   "source": [
    "if params[\"record_network_ih_activity\"]:\n",
    "    # Input spike activity\n",
    "    input_spikes = monitor_input.get_data()\n",
    "\n",
    "    process = list(input_spikes.keys())[0]\n",
    "    spikes_out = list(input_spikes[process].keys())[0]\n",
    "    input_s = input_spikes[process][spikes_out]\n",
    "\n",
    "    input_single_image = input_s[sample_image_start:sample_image_end]\n",
    "\n",
    "    fig, (ax1, ax2) = plt.subplots(1, 2)\n",
    "    fig.suptitle('Input Spikes (with past input for comparison) from lava')\n",
    "\n",
    "    for i in range(params[\"NUM_INPUT\"]):\n",
    "        ax1.scatter(np.where(input_single_image[:,i] > 0)[0], \n",
    "                    np.where(input_single_image[:,i] > 0)[0].shape[0] * [i],\n",
    "                    c = '#1f77b4',\n",
    "                    s = 2)\n",
    "\n",
    "    x = np.swapaxes(the_x, 0, 1)[sample_image_start:sample_image_end]\n",
    "    for i in range(params[\"NUM_INPUT\"]):\n",
    "        ax2.scatter(np.where(x[:,i] > 0)[0], \n",
    "                    np.where(x[:,i] > 0)[0].shape[0] * [i],\n",
    "                    c = '#1f77b4',\n",
    "                    s = 2)\n",
    "\n",
    "    ax1.set_ylim(0, 80)\n",
    "    ax2.set_ylim(0, 80)\n",
    "    ax1.set_xlim(0, the_x.shape[1] / params[\"num_samples\"])\n",
    "    ax2.set_xlim(0, the_x.shape[1] / params[\"num_samples\"])\n",
    "\n",
    "    fig.tight_layout()\n",
    "\n",
    "    plt.show()"
   ]
  },
  {
   "cell_type": "code",
   "execution_count": 18,
   "metadata": {},
   "outputs": [
    {
     "data": {
      "image/png": "[encoded data removed]",
      "text/plain": [
       "<Figure size 640x480 with 1 Axes>"
      ]
     },
     "metadata": {},
     "output_type": "display_data"
    }
   ],
   "source": [
    "if params[\"record_network_ih_activity\"]:\n",
    "    # Hidden layer activity \n",
    "\n",
    "    hidden_spikes = monitor_hidden.get_data()\n",
    "\n",
    "    process = list(hidden_spikes.keys())[0]\n",
    "    spikes_out = list(hidden_spikes[process].keys())[0]\n",
    "    hidden_s = hidden_spikes[process][spikes_out]\n",
    "\n",
    "    hidden_single_image = hidden_s[sample_image_start:sample_image_end]\n",
    "\n",
    "    for i in range(params[\"NUM_HIDDEN\"]):\n",
    "        plt.scatter(np.where(hidden_single_image[:,i] > 0)[0], \n",
    "                    np.where(hidden_single_image[:,i] > 0)[0].shape[0] * [i],\n",
    "                    c = '#1f77b4',\n",
    "                    s = 0.5)\n",
    "\n",
    "    plt.title(\"Hidden layer spiking activity\")\n",
    "    plt.ylim(0, params[\"NUM_HIDDEN\"])\n",
    "    plt.xlim(0, the_x.shape[1] / params[\"num_samples\"])\n",
    "    plt.ylabel(\"layer\")\n",
    "    plt.xlabel(\"timesteps\")\n",
    "    plt.show()"
   ]
  },
  {
   "cell_type": "code",
   "execution_count": null,
   "metadata": {},
   "outputs": [],
   "source": [
    "if params[\"record_network_ih_activity\"]:\n",
    "    # output voltage activity\n",
    "    # high voltage levels are explained by a mega high threshold, to enable non-spiking\n",
    "    hidden_voltage = monitor_hidden_v.get_data()\n",
    "\n",
    "    process = list(hidden_voltage.keys())[0]\n",
    "    spikes_out = list(hidden_voltage[process].keys())[0]\n",
    "    hidden_v = hidden_voltage[process][spikes_out]\n",
    "\n",
    "    single_image = hidden_v[sample_image_start:sample_image_end]\n",
    "    plt.figure(figsize=(12, 3), dpi=80)\n",
    "    for i in range(params[\"NUM_OUTPUT\"]):\n",
    "        if i == 16:\n",
    "            plt.plot(single_image[:,i] / 64 / (2 ** weight_bits / 2)) \n",
    "        \n",
    "    plt.title(\"Hidden layer voltage activity\")\n",
    "    plt.ylabel(\"voltage (v)\")\n",
    "    plt.xlabel(\"timesteps\")\n",
    "    plt.xlim(0, the_x.shape[1] / params[\"num_samples\"])\n",
    "    plt.xlim(450, 600)\n",
    "    plt.show()"
   ]
  },
  {
   "cell_type": "code",
   "execution_count": null,
   "metadata": {},
   "outputs": [],
   "source": [
    "if params[\"record_network_ih_activity\"]:\n",
    "    # output voltage activity\n",
    "    # high voltage levels are explained by a mega high threshold, to enable non-spiking\n",
    "    output_voltage = monitor_output.get_data()\n",
    "\n",
    "    process = list(output_voltage.keys())[0]\n",
    "    spikes_out = list(output_voltage[process].keys())[0]\n",
    "    output_v = output_voltage[process][spikes_out]\n",
    "\n",
    "    single_image = output_v[sample_image_start:sample_image_end]\n",
    "    plt.figure(figsize=(12, 3), dpi=80)\n",
    "    for i in range(params[\"NUM_OUTPUT\"]):\n",
    "        plt.plot(single_image[:,i] / 64)\n",
    "\n",
    "    plt.title(\"Output layer voltage activity\")\n",
    "    plt.ylabel(\"voltage (v)\")\n",
    "    plt.xlabel(\"timesteps\")\n",
    "    #plt.xlim(0, the_x.shape[1] / params[\"num_samples\"])\n",
    "    #plt.xlim(500, 600)\n",
    "\n",
    "    plt.show()"
   ]
  },
  {
   "cell_type": "code",
   "execution_count": null,
   "metadata": {},
   "outputs": [],
   "source": [
    "if params[\"record_network_ih_activity\"]:\n",
    "    # output voltage activity\n",
    "    # high voltage levels are explained by a mega high threshold, to enable non-spiking\n",
    "    output_voltage = monitor_output.get_data()\n",
    "\n",
    "    process = list(output_voltage.keys())[0]\n",
    "    spikes_out = list(output_voltage[process].keys())[0]\n",
    "    output_v = output_voltage[process][spikes_out]\n",
    "\n",
    "    single_image = output_v[sample_image_start:sample_image_end]\n",
    "    plt.figure(figsize=(12, 3), dpi=80)\n",
    "    for i in range(params[\"NUM_OUTPUT\"]):\n",
    "        if i == 16:\n",
    "            plt.plot(single_image[:,i] / 64)\n",
    "\n",
    "    plt.title(\"Output layer voltage activity\")\n",
    "    plt.ylabel(\"voltage (v)\")\n",
    "    plt.xlabel(\"timesteps\")\n",
    "    #plt.xlim(0, the_x.shape[1] / params[\"num_samples\"])\n",
    "    #plt.xlim(500, 600)\n",
    "\n",
    "    plt.show()"
   ]
  }
 ],
 "metadata": {
  "kernelspec": {
   "display_name": "genn_5_0",
   "language": "python",
   "name": "python3"
  },
  "language_info": {
   "codemirror_mode": {
    "name": "ipython",
    "version": 3
   },
   "file_extension": ".py",
   "mimetype": "text/x-python",
   "name": "python",
   "nbconvert_exporter": "python",
   "pygments_lexer": "ipython3",
   "version": "3.10.12"
  }
 },
 "nbformat": 4,
 "nbformat_minor": 2
}

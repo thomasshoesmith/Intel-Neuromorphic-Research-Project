{
 "cells": [
  {
   "cell_type": "markdown",
   "metadata": {},
   "source": [
    "## SGSC Lava Inference - CPU - fixed point"
   ]
  },
  {
   "cell_type": "code",
   "execution_count": 1,
   "metadata": {},
   "outputs": [
    {
     "name": "stdout",
     "output_type": "stream",
     "text": [
      "env: CUDA_PATH=/usr/local/cuda\n"
     ]
    }
   ],
   "source": [
    "%env CUDA_PATH=/usr/local/cuda"
   ]
  },
  {
   "cell_type": "code",
   "execution_count": 2,
   "metadata": {},
   "outputs": [],
   "source": [
    "import numpy as np\n",
    "from lava.proc.lif.process import LIFReset\n",
    "from lava.proc.io.source import RingBuffer\n",
    "from lava.proc.dense.process import Dense\n",
    "from lava.proc.monitor.process import Monitor\n",
    "from lava.magma.core.run_conditions import RunSteps\n",
    "from lava.magma.core.run_configs import Loihi1SimCfg, Loihi2SimCfg\n",
    "from matplotlib import pyplot as plt\n",
    "from tqdm import tqdm\n",
    "import os\n",
    "import opendatasets as od\n",
    "from SGSC_dataset_loader_padded_spikes import SGSC_Loader"
   ]
  },
  {
   "cell_type": "code",
   "execution_count": 3,
   "metadata": {},
   "outputs": [
    {
     "data": {
      "text/plain": [
       "128.0"
      ]
     },
     "execution_count": 3,
     "metadata": {},
     "output_type": "execute_result"
    }
   ],
   "source": [
    "float(2**(8-1))"
   ]
  },
  {
   "cell_type": "code",
   "execution_count": 4,
   "metadata": {},
   "outputs": [],
   "source": [
    "def rescale_factor(w, bits, percentile = 100):\n",
    "    rng = float(2**(bits-1))\n",
    "    mx = max(np.percentile(w,percentile), np.percentile(-w,percentile))\n",
    "    fac = (rng-1)/mx\n",
    "    mn = -(rng-2)/fac\n",
    "    return (fac, mn, mx)"
   ]
  },
  {
   "cell_type": "code",
   "execution_count": 5,
   "metadata": {},
   "outputs": [],
   "source": [
    "params = {}\n",
    "params[\"DT_MS\"] = 1.0\n",
    "params[\"TAU_MEM\"] = 20.0\n",
    "params[\"TAU_SYN\"] = 2.0\n",
    "params[\"num_samples\"] = 1 #int(11005 / 8)\n",
    "params[\"sample_id\"] = 0     #sample used for graph generation (starting at 0, < num_samples)\n",
    "\n",
    "params[\"NUM_INPUT\"] = 80\n",
    "params[\"NUM_HIDDEN\"] = 512\n",
    "params[\"NUM_OUTPUT\"] = 35\n",
    "\n",
    "params[\"recurrent\"] = True\n",
    "\n",
    "params[\"bit\"] = 8\n",
    "\n",
    "# toggle to record spikes, useful for debugging, but memory intensive\n",
    "params[\"record_network_ih_activity\"] = True"
   ]
  },
  {
   "cell_type": "code",
   "execution_count": 6,
   "metadata": {},
   "outputs": [
    {
     "name": "stdout",
     "output_type": "stream",
     "text": [
      "Skipping, found downloaded files in \"./spiking-google-speech-commands\" (use force=True to force download)\n"
     ]
    }
   ],
   "source": [
    "# Kaggle dataset directory\n",
    "dataset = 'https://www.kaggle.com/datasets/thomasshoesmith/spiking-google-speech-commands/data'\n",
    "\n",
    "# Using opendatasets to download SGSC dataset\n",
    "od.download(dataset)"
   ]
  },
  {
   "cell_type": "code",
   "execution_count": 7,
   "metadata": {},
   "outputs": [
    {
     "name": "stdout",
     "output_type": "stream",
     "text": [
      "loading training\n"
     ]
    },
    {
     "name": "stderr",
     "output_type": "stream",
     "text": [
      "100%|██████████| 10/10 [00:00<00:00, 21811.25it/s]\n"
     ]
    },
    {
     "name": "stdout",
     "output_type": "stream",
     "text": [
      "loading testing\n"
     ]
    },
    {
     "name": "stderr",
     "output_type": "stream",
     "text": [
      "100%|██████████| 10/10 [00:00<00:00, 14763.48it/s]\n"
     ]
    },
    {
     "name": "stdout",
     "output_type": "stream",
     "text": [
      "loading validation\n"
     ]
    },
    {
     "name": "stderr",
     "output_type": "stream",
     "text": [
      "100%|██████████| 10/10 [00:00<00:00, 15027.96it/s]\n"
     ]
    }
   ],
   "source": [
    "x_train, y_train, x_test, y_test, x_validation, y_validation = SGSC_Loader(dir = os.getcwd() + \"/data/\", #/spiking-google-speech-commands/\",\n",
    "                                                                           num_samples=params[\"num_samples\"],\n",
    "                                                                           shuffle = True,\n",
    "                                                                           shuffle_seed = 0)"
   ]
  },
  {
   "cell_type": "code",
   "execution_count": 8,
   "metadata": {},
   "outputs": [],
   "source": [
    "the_x = x_test\n",
    "the_y = y_test"
   ]
  },
  {
   "cell_type": "code",
   "execution_count": 9,
   "metadata": {},
   "outputs": [],
   "source": [
    "# transform some parmeters\n",
    "tau_mem_fac = 1.0-np.exp(-params[\"DT_MS\"]/params[\"TAU_MEM\"])\n",
    "tau_mem_fac_int = int(np.round(tau_mem_fac*(2**12)))\n",
    "\n",
    "tau_syn_fac = 1.0-np.exp(-params[\"DT_MS\"]/params[\"TAU_SYN\"])\n",
    "tau_syn_fac_int = int(np.round(tau_syn_fac*(2**12)))\n",
    "\n",
    "weight_scale = (params[\"TAU_SYN\"] / params[\"DT_MS\"]) * tau_syn_fac"
   ]
  },
  {
   "cell_type": "code",
   "execution_count": 10,
   "metadata": {},
   "outputs": [],
   "source": [
    "weights_directory = \"SGSC_pretrained_weights\"\n",
    "# load connections\n",
    "w_i2h = np.load(f\"{weights_directory}/SGSC_Pop0_Pop1-g.npy\")\n",
    "w_i2h = w_i2h.reshape((80,512)).T\n",
    "w_i2h *= weight_scale\n",
    "w_i2h *= tau_mem_fac\n",
    "\n",
    "if params[\"recurrent\"]:\n",
    "    w_h2h = np.load(f\"{weights_directory}/SGSC_Pop1_Pop1-g.npy\")\n",
    "    w_h2h = w_h2h.reshape((512,512)).T\n",
    "    w_h2h *= weight_scale\n",
    "    w_h2h *= tau_mem_fac\n",
    "\n",
    "w_h2o = np.load(f\"{weights_directory}/SGSC_Pop1_Pop2-g.npy\")\n",
    "w_h2o = w_h2o.reshape((512,35)).T\n",
    "w_h2o *= weight_scale\n",
    "w_h2o *= tau_mem_fac"
   ]
  },
  {
   "cell_type": "code",
   "execution_count": 11,
   "metadata": {},
   "outputs": [
    {
     "name": "stdout",
     "output_type": "stream",
     "text": [
      "i2h: mn == -0.38379451632499695, mx == 0.38379451632499695\n",
      "h2h: mn == -0.08543402701616287, mx == 0.0622166283428669\n",
      "h2o: mn == -0.2196194976568222, mx == 0.3837251663208008\n"
     ]
    }
   ],
   "source": [
    "print(f\"i2h: mn == {np.amin(w_i2h)}, mx == {np.amax(w_i2h)}\")\n",
    "if params[\"recurrent\"]: print(f\"h2h: mn == {np.amin(w_h2h)}, mx == {np.amax(w_h2h)}\")\n",
    "print(f\"h2o: mn == {np.amin(w_h2o)}, mx == {np.amax(w_h2o)}\")"
   ]
  },
  {
   "cell_type": "code",
   "execution_count": 12,
   "metadata": {},
   "outputs": [],
   "source": [
    "max_weight = (np.max(np.concatenate((w_i2h.flatten(), w_h2h.flatten() if params[\"recurrent\"] else np.array([]), w_h2o.flatten()))))\n",
    "min_weight = (np.min(np.concatenate((w_i2h.flatten(), w_h2h.flatten() if params[\"recurrent\"] else np.array([]), w_h2o.flatten()))))"
   ]
  },
  {
   "cell_type": "code",
   "execution_count": 13,
   "metadata": {},
   "outputs": [
    {
     "name": "stdout",
     "output_type": "stream",
     "text": [
      "0.38379452\n"
     ]
    }
   ],
   "source": [
    "print(max(abs(max_weight), abs(min_weight)))"
   ]
  },
  {
   "cell_type": "code",
   "execution_count": 14,
   "metadata": {},
   "outputs": [],
   "source": [
    "bit_range = float(2**(params[\"bit\"]-1)) - 1"
   ]
  },
  {
   "cell_type": "code",
   "execution_count": 15,
   "metadata": {},
   "outputs": [
    {
     "data": {
      "text/plain": [
       "330.9062391408857"
      ]
     },
     "execution_count": 15,
     "metadata": {},
     "output_type": "execute_result"
    }
   ],
   "source": [
    "bit_range/(max(abs(max_weight), abs(min_weight)))"
   ]
  },
  {
   "cell_type": "code",
   "execution_count": 16,
   "metadata": {},
   "outputs": [
    {
     "name": "stdout",
     "output_type": "stream",
     "text": [
      "i2h: mn == -127, mx == 127\n",
      "h2h: mn == -28, mx == 21\n",
      "h2o: mn == -73, mx == 127\n"
     ]
    }
   ],
   "source": [
    "weight_scale = bit_range/(max(abs(max_weight), abs(min_weight)))\n",
    "\n",
    "w_i2h_int = np.round(w_i2h*weight_scale).astype(np.int8)\n",
    "print(f\"i2h: mn == {np.amin(w_i2h_int)}, mx == {np.amax(w_i2h_int)}\")\n",
    "\n",
    "if params[\"recurrent\"]:\n",
    "    w_h2h_int = np.round(w_h2h*weight_scale).astype(np.int8)\n",
    "    print(f\"h2h: mn == {np.amin(w_h2h_int)}, mx == {np.amax(w_h2h_int)}\")\n",
    "\n",
    "w_h2o_int = np.round(w_h2o*weight_scale).astype(np.int8)\n",
    "print(f\"h2o: mn == {np.amin(w_h2o_int)}, mx == {np.amax(w_h2o_int)}\")\n",
    "\n",
    "vth_hid_int = int(np.round(weight_scale))"
   ]
  },
  {
   "cell_type": "code",
   "execution_count": 17,
   "metadata": {},
   "outputs": [
    {
     "data": {
      "image/png": "[encoded data removed]",
      "text/plain": [
       "<Figure size 640x480 with 1 Axes>"
      ]
     },
     "metadata": {},
     "output_type": "display_data"
    }
   ],
   "source": [
    "plt.scatter(w_i2h_int, w_i2h, s = 1)\n",
    "plt.show()"
   ]
  },
  {
   "cell_type": "code",
   "execution_count": 18,
   "metadata": {},
   "outputs": [],
   "source": [
    "sample_image_start = the_x.shape[2] * params[\"sample_id\"]\n",
    "sample_image_end = (the_x.shape[2] * params[\"sample_id\"]) + the_x.shape[2]"
   ]
  },
  {
   "cell_type": "code",
   "execution_count": 19,
   "metadata": {},
   "outputs": [
    {
     "name": "stdout",
     "output_type": "stream",
     "text": [
      "(80, 20000)\n"
     ]
    }
   ],
   "source": [
    "the_x= np.hstack(the_x)\n",
    "print(the_x.shape)"
   ]
  },
  {
   "cell_type": "code",
   "execution_count": 20,
   "metadata": {},
   "outputs": [],
   "source": [
    "scaling = 2**12\n",
    "# transform some parmeters\n",
    "tau_mem_fac = 1.0-np.exp(-params[\"DT_MS\"]/params[\"TAU_MEM\"])\n",
    "tau_mem_fac_int = int(np.round(tau_mem_fac*(scaling)))\n",
    "\n",
    "tau_syn_fac = 1.0-np.exp(-params[\"DT_MS\"]/params[\"TAU_SYN\"])\n",
    "tau_syn_fac_int = int(np.round(tau_syn_fac*(scaling)))"
   ]
  },
  {
   "cell_type": "code",
   "execution_count": 21,
   "metadata": {},
   "outputs": [],
   "source": [
    "#tau_mem_fac_int = int(tau_mem_fac * vth_hid_int)\n",
    "#tau_syn_fac_int = int(tau_syn_fac * vth_hid_int)"
   ]
  },
  {
   "cell_type": "code",
   "execution_count": 22,
   "metadata": {},
   "outputs": [
    {
     "name": "stdout",
     "output_type": "stream",
     "text": [
      "200 1612\n"
     ]
    }
   ],
   "source": [
    "print(tau_mem_fac_int, tau_syn_fac_int)"
   ]
  },
  {
   "cell_type": "code",
   "execution_count": 23,
   "metadata": {},
   "outputs": [
    {
     "data": {
      "text/plain": [
       "8.07"
      ]
     },
     "execution_count": 23,
     "metadata": {},
     "output_type": "execute_result"
    }
   ],
   "source": [
    "(tau_syn_fac_int + 2) / tau_mem_fac_int"
   ]
  },
  {
   "cell_type": "code",
   "execution_count": 24,
   "metadata": {},
   "outputs": [
    {
     "data": {
      "text/plain": [
       "1.655"
      ]
     },
     "execution_count": 24,
     "metadata": {},
     "output_type": "execute_result"
    }
   ],
   "source": [
    "vth_hid_int / tau_mem_fac_int"
   ]
  },
  {
   "cell_type": "code",
   "execution_count": 25,
   "metadata": {},
   "outputs": [
    {
     "data": {
      "text/plain": [
       "0.2053349875930521"
      ]
     },
     "execution_count": 25,
     "metadata": {},
     "output_type": "execute_result"
    }
   ],
   "source": [
    "vth_hid_int / tau_syn_fac_int"
   ]
  },
  {
   "cell_type": "code",
   "execution_count": 26,
   "metadata": {},
   "outputs": [
    {
     "name": "stdout",
     "output_type": "stream",
     "text": [
      "number of samples: 10\n"
     ]
    }
   ],
   "source": [
    "input = RingBuffer(data = the_x)\n",
    "\n",
    "hidden = LIFReset(shape=(512, ),                         # Number and topological layout of units in the process\n",
    "                  vth= vth_hid_int,                             # Membrane threshold\n",
    "                  dv=tau_mem_fac_int,                              # Inverse membrane time-constant\n",
    "                  du=tau_syn_fac_int + 2,                              # Inverse synaptic time-constant\n",
    "                  bias_mant=0.0,           # Bias added to the membrane voltage in every timestep\n",
    "                  name=\"hidden\",\n",
    "                  reset_interval=2000)\n",
    "\n",
    "output = LIFReset(shape=(35, ),                         # Number and topological layout of units in the process\n",
    "                  vth=2**17,                             # Membrane threshold set so it cannot spike\n",
    "                  dv=tau_mem_fac_int,                              # Inverse membrane time-constant\n",
    "                  du=tau_syn_fac_int,                              # Inverse synaptic time-constant\n",
    "                  bias_mant=0.0,           # Bias added to the membrane voltage in every timestep\n",
    "                  name=\"output\",\n",
    "                  reset_interval=2000)\n",
    "\n",
    "in_to_hid = Dense(weights= w_i2h_int,     # Initial value of the weights, chosen randomly\n",
    "              name='in_to_hid')\n",
    "if params[\"recurrent\"]:\n",
    "    hid_to_hid = Dense(weights=w_h2h_int,\n",
    "                    name='hid_to_hid')\n",
    "\n",
    "hid_to_out = Dense(weights=w_h2o_int,\n",
    "                   name= 'hid_to_out')\n",
    "\n",
    "input.s_out.connect(in_to_hid.s_in)\n",
    "in_to_hid.a_out.connect(hidden.a_in)\n",
    "if params[\"recurrent\"]: hidden.s_out.connect(hid_to_hid.s_in)\n",
    "hidden.s_out.connect(hid_to_out.s_in)\n",
    "if params[\"recurrent\"]: hid_to_hid.a_out.connect(hidden.a_in)\n",
    "hid_to_out.a_out.connect(output.a_in)\n",
    "\n",
    "if params[\"record_network_ih_activity\"]:\n",
    "    # monitor outputs\n",
    "    monitor_input = Monitor()\n",
    "    monitor_hidden = Monitor()\n",
    "    monitor_hidden_v = Monitor()\n",
    "\n",
    "    monitor_hidden_v.probe(hidden.v, the_x.shape[1])\n",
    "\n",
    "    monitor_input.probe(input.s_out, the_x.shape[1])\n",
    "    monitor_hidden.probe(hidden.s_out, the_x.shape[1])\n",
    "\n",
    "monitor_output = Monitor()\n",
    "monitor_output.probe(output.v, the_x.shape[1])\n",
    "\n",
    "num_steps = int(2000/params[\"DT_MS\"])\n",
    "print(\"number of samples:\", params[\"num_samples\"])\n",
    "\n",
    "# run something\n",
    "run_condition = RunSteps(num_steps=num_steps)\n",
    "run_cfg = Loihi2SimCfg(select_tag=\"fixed_pt\") # changed 1 -> 2\n",
    "\n",
    "n_sample = params.get(\"num_samples\")"
   ]
  },
  {
   "cell_type": "code",
   "execution_count": 27,
   "metadata": {},
   "outputs": [
    {
     "name": "stderr",
     "output_type": "stream",
     "text": [
      "100%|██████████| 10/10 [00:20<00:00,  2.05s/it]\n"
     ]
    },
    {
     "name": "stdout",
     "output_type": "stream",
     "text": [
      "prediction 25\tvs\tground truth 33\n",
      "prediction 4\tvs\tground truth 20\n",
      "prediction 17\tvs\tground truth 18\n",
      "prediction 1\tvs\tground truth 18\n",
      "prediction 3\tvs\tground truth 5\n",
      "prediction 3\tvs\tground truth 3\n",
      "prediction 15\tvs\tground truth 33\n",
      "prediction 23\tvs\tground truth 33\n",
      "prediction 6\tvs\tground truth 27\n",
      "prediction 25\tvs\tground truth 6\n",
      "test accuracy: 10.0\n"
     ]
    }
   ],
   "source": [
    "for i in tqdm(range(the_x.shape[1] // 2000)):\n",
    "    output.run(condition=run_condition, run_cfg=run_cfg)\n",
    "\n",
    "output_v = monitor_output.get_data()\n",
    "good = 0\n",
    "\n",
    "for i in range(the_x.shape[1] // 2000):\n",
    "    out_v = output_v[\"output\"][\"v\"][i*num_steps:(i+1)*num_steps,:]\n",
    "    sum_v = np.sum(out_v,axis=0)\n",
    "    pred = np.argmax(sum_v)\n",
    "    print(f\"prediction {pred}\\tvs\\tground truth {the_y[i]}\")\n",
    "    if pred == the_y[i]:\n",
    "        good += 1\n",
    "\n",
    "print(f\"test accuracy: {good/n_sample*100}\")\n",
    "#output.stop()"
   ]
  },
  {
   "cell_type": "code",
   "execution_count": 28,
   "metadata": {},
   "outputs": [
    {
     "data": {
      "text/plain": [
       "(20000, 35)"
      ]
     },
     "execution_count": 28,
     "metadata": {},
     "output_type": "execute_result"
    }
   ],
   "source": [
    "output_v[\"output\"][\"v\"].shape"
   ]
  },
  {
   "cell_type": "code",
   "execution_count": 29,
   "metadata": {},
   "outputs": [],
   "source": [
    "if params[\"record_network_ih_activity\"]:\n",
    "    # Input spike activity\n",
    "    input_spikes = monitor_input.get_data()\n",
    "\n",
    "    process = list(input_spikes.keys())[0]\n",
    "    spikes_out = list(input_spikes[process].keys())[0]\n",
    "    input_s = input_spikes[process][spikes_out]\n",
    "\n",
    "    input_single_image = input_s[sample_image_start:sample_image_end]\n",
    "\n",
    "    fig, (ax1, ax2) = plt.subplots(1, 2)\n",
    "    fig.suptitle('Input Spikes (with past input for comparison) from lava')\n",
    "\n",
    "    for i in range(params[\"NUM_INPUT\"]):\n",
    "        ax1.scatter(np.where(input_single_image[:,i] > 0)[0], \n",
    "                    np.where(input_single_image[:,i] > 0)[0].shape[0] * [i],\n",
    "                    c = '#1f77b4',\n",
    "                    s = 2)\n",
    "\n",
    "    x = np.swapaxes(the_x, 0, 1)[sample_image_start:sample_image_end]\n",
    "    for i in range(params[\"NUM_INPUT\"]):\n",
    "        ax2.scatter(np.where(x[:,i] > 0)[0], \n",
    "                    np.where(x[:,i] > 0)[0].shape[0] * [i],\n",
    "                    c = '#1f77b4',\n",
    "                    s = 2)\n",
    "\n",
    "    ax1.set_ylim(0, 80)\n",
    "    ax2.set_ylim(0, 80)\n",
    "    ax1.set_xlim(0, the_x.shape[1] / params[\"num_samples\"])\n",
    "    ax2.set_xlim(0, the_x.shape[1] / params[\"num_samples\"])\n",
    "\n",
    "    fig.tight_layout()\n",
    "\n",
    "    plt.show()"
   ]
  },
  {
   "cell_type": "code",
   "execution_count": 30,
   "metadata": {},
   "outputs": [],
   "source": [
    "if params[\"record_network_ih_activity\"] and True:\n",
    "    # Hidden layer activity \n",
    "\n",
    "    hidden_spikes = monitor_hidden.get_data()\n",
    "\n",
    "    process = list(hidden_spikes.keys())[0]\n",
    "    spikes_out = list(hidden_spikes[process].keys())[0]\n",
    "    hidden_s = hidden_spikes[process][spikes_out]\n",
    "\n",
    "    hidden_single_image = hidden_s[sample_image_start:sample_image_end]\n",
    "\n",
    "    for i in range(params[\"NUM_HIDDEN\"]):\n",
    "        plt.scatter(np.where(hidden_single_image[:,i] > 0)[0], \n",
    "                    np.where(hidden_single_image[:,i] > 0)[0].shape[0] * [i],\n",
    "                    c = '#1f77b4',\n",
    "                    s = 0.5)\n",
    "\n",
    "    plt.title(\"Hidden layer spiking activity\")\n",
    "    plt.ylim(0, params[\"NUM_HIDDEN\"])\n",
    "    plt.xlim(0, the_x.shape[1] / params[\"num_samples\"])\n",
    "    plt.ylabel(\"layer\")\n",
    "    plt.xlabel(\"timesteps\")\n",
    "    #plt.ylim(298, 300)\n",
    "    #plt.xlim(1500, 1700)\n",
    "    plt.show()"
   ]
  },
  {
   "cell_type": "code",
   "execution_count": 31,
   "metadata": {},
   "outputs": [],
   "source": [
    "if params[\"record_network_ih_activity\"]:\n",
    "    # output voltage activity\n",
    "    # high voltage levels are explained by a mega high threshold, to enable non-spiking\n",
    "    hidden_voltage = monitor_hidden_v.get_data()\n",
    "\n",
    "    process = list(hidden_voltage.keys())[0]\n",
    "    spikes_out = list(hidden_voltage[process].keys())[0]\n",
    "    hidden_v = hidden_voltage[process][spikes_out]\n",
    "\n",
    "    single_image = hidden_v[sample_image_start:sample_image_end]\n",
    "    plt.figure(figsize=(12, 3), dpi=80)\n",
    "    for i in range(params[\"NUM_HIDDEN\"]):\n",
    "        if i == 299:\n",
    "            plt.plot(single_image[:,i] / 64) # / (2 ** weight_bits / 2))\n",
    "    \n",
    "    plt.scatter(np.where(hidden_single_image[:,299] > 0)[0], \n",
    "                np.where(hidden_single_image[:,299] > 0)[0].shape[0] * [vth_hid_int],\n",
    "                c = \"r\",\n",
    "                label = \"spikes\")\n",
    "        \n",
    "    plt.title(\"Hidden layer voltage activity (fixed)\")\n",
    "    plt.ylabel(\"voltage (v)\")\n",
    "    plt.xlabel(\"timesteps\")\n",
    "    plt.xlim(0, the_x.shape[1] / params[\"num_samples\"])\n",
    "    plt.xlim(450, 600)\n",
    "    #plt.ylim(0, vth_hid_int * 1.1)\n",
    "\n",
    "    for i in range(1000):\n",
    "        plt.axvline(i * 10, color = \"grey\", alpha=0.5, linestyle = \"dashed\")\n",
    "    \n",
    "    plt.axhline(vth_hid_int, color = \"red\", alpha=0.5, linestyle = \"dashed\", label = \"threshold\")\n",
    "\n",
    "    plt.legend()    \n",
    "    plt.show()"
   ]
  },
  {
   "cell_type": "code",
   "execution_count": 32,
   "metadata": {},
   "outputs": [],
   "source": [
    "if params[\"record_network_ih_activity\"]:\n",
    "    # output voltage activity\n",
    "    # high voltage levels are explained by a mega high threshold, to enable non-spiking\n",
    "    output_voltage = monitor_output.get_data()\n",
    "\n",
    "    process = list(output_voltage.keys())[0]\n",
    "    spikes_out = list(output_voltage[process].keys())[0]\n",
    "    output_v = output_voltage[process][spikes_out]\n",
    "\n",
    "    single_image = output_v[sample_image_start:sample_image_end]\n",
    "    plt.figure(figsize=(12, 3), dpi=80)\n",
    "    for i in range(params[\"NUM_OUTPUT\"]):\n",
    "        plt.plot(single_image[:,i] / 64)\n",
    "\n",
    "    plt.title(\"Output layer voltage activity\")\n",
    "    plt.ylabel(\"voltage (v)\")\n",
    "    plt.xlabel(\"timesteps\")\n",
    "    #plt.xlim(0, the_x.shape[1] / params[\"num_samples\"])\n",
    "    #plt.xlim(500, 600)\n",
    "\n",
    "    plt.show()"
   ]
  },
  {
   "cell_type": "code",
   "execution_count": 33,
   "metadata": {},
   "outputs": [],
   "source": [
    "if params[\"record_network_ih_activity\"] and False:\n",
    "    # output voltage activity\n",
    "    # high voltage levels are explained by a mega high threshold, to enable non-spiking\n",
    "    output_voltage = monitor_output.get_data()\n",
    "\n",
    "    process = list(output_voltage.keys())[0]\n",
    "    spikes_out = list(output_voltage[process].keys())[0]\n",
    "    output_v = output_voltage[process][spikes_out]\n",
    "\n",
    "    single_image = output_v[sample_image_start:sample_image_end]\n",
    "    plt.figure(figsize=(12, 3), dpi=80)\n",
    "    for i in range(params[\"NUM_OUTPUT\"]):\n",
    "        if i == 16:\n",
    "            plt.plot(single_image[:,i] / 64 / (2 ** weight_bits / 2))\n",
    "\n",
    "    plt.title(\"Output layer voltage activity\")\n",
    "    plt.ylabel(\"voltage (v)\")\n",
    "    plt.xlabel(\"timesteps\")\n",
    "    #plt.xlim(0, the_x.shape[1] / params[\"num_samples\"])\n",
    "    #plt.xlim(500, 600)\n",
    "\n",
    "    plt.show()"
   ]
  }
 ],
 "metadata": {
  "kernelspec": {
   "display_name": "GeNN_4_9_0",
   "language": "python",
   "name": "python3"
  },
  "language_info": {
   "codemirror_mode": {
    "name": "ipython",
    "version": 3
   },
   "file_extension": ".py",
   "mimetype": "text/x-python",
   "name": "python",
   "nbconvert_exporter": "python",
   "pygments_lexer": "ipython3",
   "version": "3.10.12"
  }
 },
 "nbformat": 4,
 "nbformat_minor": 2
}
